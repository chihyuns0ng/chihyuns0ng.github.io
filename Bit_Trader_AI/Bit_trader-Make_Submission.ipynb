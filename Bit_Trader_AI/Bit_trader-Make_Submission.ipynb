{
 "cells": [
  {
   "cell_type": "code",
   "execution_count": 1,
   "metadata": {
    "ExecuteTime": {
     "end_time": "2021-03-23T11:28:40.370201Z",
     "start_time": "2021-03-23T11:28:40.364216Z"
    }
   },
   "outputs": [],
   "source": [
    "# 라이브러리 호출\n",
    "\n",
    "import numpy as np\n",
    "import pandas as pd\n",
    "import matplotlib.pyplot as plt\n",
    "\n",
    "import gc\n",
    "import math\n",
    "from statsmodels.tsa.arima.model import ARIMA\n",
    "\n",
    "\n",
    "import os\n",
    "import os.path\n",
    "import time\n",
    "from datetime import timedelta, datetime\n",
    "from dateutil import parser\n",
    "from tqdm import tqdm\n",
    "import copy\n",
    "import warnings\n",
    "\n",
    "warnings.filterwarnings('ignore')"
   ]
  },
  {
   "cell_type": "code",
   "execution_count": 2,
   "metadata": {
    "ExecuteTime": {
     "end_time": "2021-03-23T11:29:06.558213Z",
     "start_time": "2021-03-23T11:28:49.533700Z"
    }
   },
   "outputs": [],
   "source": [
    "# 경로안 csv파일 읽기\n",
    "train_x_df = pd.read_csv(\"train_x_df.csv\")\n",
    "train_y_df = pd.read_csv(\"train_y_df.csv\")\n",
    "test_x_df = pd.read_csv(\"test_x_df.csv\")\n"
   ]
  },
  {
   "cell_type": "code",
   "execution_count": 3,
   "metadata": {
    "ExecuteTime": {
     "end_time": "2021-03-23T12:16:36.289641Z",
     "start_time": "2021-03-23T12:16:36.228742Z"
    }
   },
   "outputs": [
    {
     "data": {
      "text/html": [
       "<div>\n",
       "<style scoped>\n",
       "    .dataframe tbody tr th:only-of-type {\n",
       "        vertical-align: middle;\n",
       "    }\n",
       "\n",
       "    .dataframe tbody tr th {\n",
       "        vertical-align: top;\n",
       "    }\n",
       "\n",
       "    .dataframe thead th {\n",
       "        text-align: right;\n",
       "    }\n",
       "</style>\n",
       "<table border=\"1\" class=\"dataframe\">\n",
       "  <thead>\n",
       "    <tr style=\"text-align: right;\">\n",
       "      <th></th>\n",
       "      <th>sample_id</th>\n",
       "      <th>time</th>\n",
       "      <th>coin_index</th>\n",
       "      <th>open</th>\n",
       "      <th>high</th>\n",
       "      <th>low</th>\n",
       "      <th>close</th>\n",
       "      <th>volume</th>\n",
       "      <th>quote_av</th>\n",
       "      <th>trades</th>\n",
       "      <th>tb_base_av</th>\n",
       "      <th>tb_quote_av</th>\n",
       "    </tr>\n",
       "  </thead>\n",
       "  <tbody>\n",
       "    <tr>\n",
       "      <th>0</th>\n",
       "      <td>0</td>\n",
       "      <td>0</td>\n",
       "      <td>7</td>\n",
       "      <td>1.010004</td>\n",
       "      <td>1.010004</td>\n",
       "      <td>1.009612</td>\n",
       "      <td>1.010004</td>\n",
       "      <td>8.382875e+05</td>\n",
       "      <td>43160.632812</td>\n",
       "      <td>451.157288</td>\n",
       "      <td>7.326834e+05</td>\n",
       "      <td>37725.183594</td>\n",
       "    </tr>\n",
       "    <tr>\n",
       "      <th>1</th>\n",
       "      <td>0</td>\n",
       "      <td>1</td>\n",
       "      <td>7</td>\n",
       "      <td>1.009808</td>\n",
       "      <td>1.009808</td>\n",
       "      <td>1.009808</td>\n",
       "      <td>1.009808</td>\n",
       "      <td>1.622420e+05</td>\n",
       "      <td>8352.220703</td>\n",
       "      <td>39.231071</td>\n",
       "      <td>0.000000e+00</td>\n",
       "      <td>0.000000</td>\n",
       "    </tr>\n",
       "    <tr>\n",
       "      <th>2</th>\n",
       "      <td>0</td>\n",
       "      <td>2</td>\n",
       "      <td>7</td>\n",
       "      <td>1.009808</td>\n",
       "      <td>1.010200</td>\n",
       "      <td>1.009808</td>\n",
       "      <td>1.010200</td>\n",
       "      <td>1.664967e+04</td>\n",
       "      <td>857.377808</td>\n",
       "      <td>58.846603</td>\n",
       "      <td>1.664967e+04</td>\n",
       "      <td>857.377808</td>\n",
       "    </tr>\n",
       "    <tr>\n",
       "      <th>3</th>\n",
       "      <td>0</td>\n",
       "      <td>3</td>\n",
       "      <td>7</td>\n",
       "      <td>1.010200</td>\n",
       "      <td>1.011181</td>\n",
       "      <td>1.010200</td>\n",
       "      <td>1.011181</td>\n",
       "      <td>2.586971e+06</td>\n",
       "      <td>133310.343750</td>\n",
       "      <td>431.541779</td>\n",
       "      <td>2.189147e+06</td>\n",
       "      <td>112811.046875</td>\n",
       "    </tr>\n",
       "    <tr>\n",
       "      <th>4</th>\n",
       "      <td>0</td>\n",
       "      <td>4</td>\n",
       "      <td>7</td>\n",
       "      <td>1.010985</td>\n",
       "      <td>1.010985</td>\n",
       "      <td>1.010200</td>\n",
       "      <td>1.010200</td>\n",
       "      <td>1.129996e+06</td>\n",
       "      <td>58216.867188</td>\n",
       "      <td>176.539810</td>\n",
       "      <td>0.000000e+00</td>\n",
       "      <td>0.000000</td>\n",
       "    </tr>\n",
       "    <tr>\n",
       "      <th>...</th>\n",
       "      <td>...</td>\n",
       "      <td>...</td>\n",
       "      <td>...</td>\n",
       "      <td>...</td>\n",
       "      <td>...</td>\n",
       "      <td>...</td>\n",
       "      <td>...</td>\n",
       "      <td>...</td>\n",
       "      <td>...</td>\n",
       "      <td>...</td>\n",
       "      <td>...</td>\n",
       "      <td>...</td>\n",
       "    </tr>\n",
       "    <tr>\n",
       "      <th>10159555</th>\n",
       "      <td>7361</td>\n",
       "      <td>1375</td>\n",
       "      <td>8</td>\n",
       "      <td>1.000668</td>\n",
       "      <td>1.001669</td>\n",
       "      <td>1.000626</td>\n",
       "      <td>1.001502</td>\n",
       "      <td>9.180907e+00</td>\n",
       "      <td>2203.059082</td>\n",
       "      <td>2.245034</td>\n",
       "      <td>6.229020e+00</td>\n",
       "      <td>1494.727417</td>\n",
       "    </tr>\n",
       "    <tr>\n",
       "      <th>10159556</th>\n",
       "      <td>7361</td>\n",
       "      <td>1376</td>\n",
       "      <td>8</td>\n",
       "      <td>1.001627</td>\n",
       "      <td>1.001920</td>\n",
       "      <td>1.000960</td>\n",
       "      <td>1.001294</td>\n",
       "      <td>7.963097e+00</td>\n",
       "      <td>1911.151611</td>\n",
       "      <td>2.211651</td>\n",
       "      <td>3.056139e+00</td>\n",
       "      <td>733.490601</td>\n",
       "    </tr>\n",
       "    <tr>\n",
       "      <th>10159557</th>\n",
       "      <td>7361</td>\n",
       "      <td>1377</td>\n",
       "      <td>8</td>\n",
       "      <td>1.001294</td>\n",
       "      <td>1.001461</td>\n",
       "      <td>1.000584</td>\n",
       "      <td>1.000668</td>\n",
       "      <td>3.849893e+00</td>\n",
       "      <td>923.610718</td>\n",
       "      <td>1.260224</td>\n",
       "      <td>2.284546e+00</td>\n",
       "      <td>548.042297</td>\n",
       "    </tr>\n",
       "    <tr>\n",
       "      <th>10159558</th>\n",
       "      <td>7361</td>\n",
       "      <td>1378</td>\n",
       "      <td>8</td>\n",
       "      <td>1.000709</td>\n",
       "      <td>1.000751</td>\n",
       "      <td>1.000042</td>\n",
       "      <td>1.000042</td>\n",
       "      <td>1.337402e+00</td>\n",
       "      <td>320.624756</td>\n",
       "      <td>0.826239</td>\n",
       "      <td>5.164965e-01</td>\n",
       "      <td>123.819839</td>\n",
       "    </tr>\n",
       "    <tr>\n",
       "      <th>10159559</th>\n",
       "      <td>7361</td>\n",
       "      <td>1379</td>\n",
       "      <td>8</td>\n",
       "      <td>1.000000</td>\n",
       "      <td>1.000918</td>\n",
       "      <td>0.999958</td>\n",
       "      <td>1.000876</td>\n",
       "      <td>1.278548e+00</td>\n",
       "      <td>306.542389</td>\n",
       "      <td>0.642631</td>\n",
       "      <td>7.320906e-01</td>\n",
       "      <td>175.527679</td>\n",
       "    </tr>\n",
       "  </tbody>\n",
       "</table>\n",
       "<p>10159560 rows × 12 columns</p>\n",
       "</div>"
      ],
      "text/plain": [
       "          sample_id  time  coin_index      open      high       low     close  \\\n",
       "0                 0     0           7  1.010004  1.010004  1.009612  1.010004   \n",
       "1                 0     1           7  1.009808  1.009808  1.009808  1.009808   \n",
       "2                 0     2           7  1.009808  1.010200  1.009808  1.010200   \n",
       "3                 0     3           7  1.010200  1.011181  1.010200  1.011181   \n",
       "4                 0     4           7  1.010985  1.010985  1.010200  1.010200   \n",
       "...             ...   ...         ...       ...       ...       ...       ...   \n",
       "10159555       7361  1375           8  1.000668  1.001669  1.000626  1.001502   \n",
       "10159556       7361  1376           8  1.001627  1.001920  1.000960  1.001294   \n",
       "10159557       7361  1377           8  1.001294  1.001461  1.000584  1.000668   \n",
       "10159558       7361  1378           8  1.000709  1.000751  1.000042  1.000042   \n",
       "10159559       7361  1379           8  1.000000  1.000918  0.999958  1.000876   \n",
       "\n",
       "                volume       quote_av      trades    tb_base_av    tb_quote_av  \n",
       "0         8.382875e+05   43160.632812  451.157288  7.326834e+05   37725.183594  \n",
       "1         1.622420e+05    8352.220703   39.231071  0.000000e+00       0.000000  \n",
       "2         1.664967e+04     857.377808   58.846603  1.664967e+04     857.377808  \n",
       "3         2.586971e+06  133310.343750  431.541779  2.189147e+06  112811.046875  \n",
       "4         1.129996e+06   58216.867188  176.539810  0.000000e+00       0.000000  \n",
       "...                ...            ...         ...           ...            ...  \n",
       "10159555  9.180907e+00    2203.059082    2.245034  6.229020e+00    1494.727417  \n",
       "10159556  7.963097e+00    1911.151611    2.211651  3.056139e+00     733.490601  \n",
       "10159557  3.849893e+00     923.610718    1.260224  2.284546e+00     548.042297  \n",
       "10159558  1.337402e+00     320.624756    0.826239  5.164965e-01     123.819839  \n",
       "10159559  1.278548e+00     306.542389    0.642631  7.320906e-01     175.527679  \n",
       "\n",
       "[10159560 rows x 12 columns]"
      ]
     },
     "metadata": {},
     "output_type": "display_data"
    },
    {
     "data": {
      "text/html": [
       "<div>\n",
       "<style scoped>\n",
       "    .dataframe tbody tr th:only-of-type {\n",
       "        vertical-align: middle;\n",
       "    }\n",
       "\n",
       "    .dataframe tbody tr th {\n",
       "        vertical-align: top;\n",
       "    }\n",
       "\n",
       "    .dataframe thead th {\n",
       "        text-align: right;\n",
       "    }\n",
       "</style>\n",
       "<table border=\"1\" class=\"dataframe\">\n",
       "  <thead>\n",
       "    <tr style=\"text-align: right;\">\n",
       "      <th></th>\n",
       "      <th>sample_id</th>\n",
       "      <th>time</th>\n",
       "      <th>coin_index</th>\n",
       "      <th>open</th>\n",
       "      <th>high</th>\n",
       "      <th>low</th>\n",
       "      <th>close</th>\n",
       "      <th>volume</th>\n",
       "      <th>quote_av</th>\n",
       "      <th>trades</th>\n",
       "      <th>tb_base_av</th>\n",
       "      <th>tb_quote_av</th>\n",
       "    </tr>\n",
       "  </thead>\n",
       "  <tbody>\n",
       "    <tr>\n",
       "      <th>0</th>\n",
       "      <td>0</td>\n",
       "      <td>0</td>\n",
       "      <td>7</td>\n",
       "      <td>1.010004</td>\n",
       "      <td>1.010004</td>\n",
       "      <td>1.009612</td>\n",
       "      <td>1.010004</td>\n",
       "      <td>8.382875e+05</td>\n",
       "      <td>43160.632812</td>\n",
       "      <td>451.157288</td>\n",
       "      <td>7.326834e+05</td>\n",
       "      <td>37725.183594</td>\n",
       "    </tr>\n",
       "    <tr>\n",
       "      <th>1</th>\n",
       "      <td>0</td>\n",
       "      <td>1</td>\n",
       "      <td>7</td>\n",
       "      <td>1.009808</td>\n",
       "      <td>1.009808</td>\n",
       "      <td>1.009808</td>\n",
       "      <td>1.009808</td>\n",
       "      <td>1.622420e+05</td>\n",
       "      <td>8352.220703</td>\n",
       "      <td>39.231071</td>\n",
       "      <td>0.000000e+00</td>\n",
       "      <td>0.000000</td>\n",
       "    </tr>\n",
       "    <tr>\n",
       "      <th>2</th>\n",
       "      <td>0</td>\n",
       "      <td>2</td>\n",
       "      <td>7</td>\n",
       "      <td>1.009808</td>\n",
       "      <td>1.010200</td>\n",
       "      <td>1.009808</td>\n",
       "      <td>1.010200</td>\n",
       "      <td>1.664967e+04</td>\n",
       "      <td>857.377808</td>\n",
       "      <td>58.846603</td>\n",
       "      <td>1.664967e+04</td>\n",
       "      <td>857.377808</td>\n",
       "    </tr>\n",
       "    <tr>\n",
       "      <th>3</th>\n",
       "      <td>0</td>\n",
       "      <td>3</td>\n",
       "      <td>7</td>\n",
       "      <td>1.010200</td>\n",
       "      <td>1.011181</td>\n",
       "      <td>1.010200</td>\n",
       "      <td>1.011181</td>\n",
       "      <td>2.586971e+06</td>\n",
       "      <td>133310.343750</td>\n",
       "      <td>431.541779</td>\n",
       "      <td>2.189147e+06</td>\n",
       "      <td>112811.046875</td>\n",
       "    </tr>\n",
       "    <tr>\n",
       "      <th>4</th>\n",
       "      <td>0</td>\n",
       "      <td>4</td>\n",
       "      <td>7</td>\n",
       "      <td>1.010985</td>\n",
       "      <td>1.010985</td>\n",
       "      <td>1.010200</td>\n",
       "      <td>1.010200</td>\n",
       "      <td>1.129996e+06</td>\n",
       "      <td>58216.867188</td>\n",
       "      <td>176.539810</td>\n",
       "      <td>0.000000e+00</td>\n",
       "      <td>0.000000</td>\n",
       "    </tr>\n",
       "    <tr>\n",
       "      <th>...</th>\n",
       "      <td>...</td>\n",
       "      <td>...</td>\n",
       "      <td>...</td>\n",
       "      <td>...</td>\n",
       "      <td>...</td>\n",
       "      <td>...</td>\n",
       "      <td>...</td>\n",
       "      <td>...</td>\n",
       "      <td>...</td>\n",
       "      <td>...</td>\n",
       "      <td>...</td>\n",
       "      <td>...</td>\n",
       "    </tr>\n",
       "    <tr>\n",
       "      <th>1375</th>\n",
       "      <td>0</td>\n",
       "      <td>1375</td>\n",
       "      <td>7</td>\n",
       "      <td>0.999608</td>\n",
       "      <td>1.000196</td>\n",
       "      <td>0.999608</td>\n",
       "      <td>1.000000</td>\n",
       "      <td>2.134131e+05</td>\n",
       "      <td>10879.561523</td>\n",
       "      <td>196.155350</td>\n",
       "      <td>6.432130e+04</td>\n",
       "      <td>3279.577393</td>\n",
       "    </tr>\n",
       "    <tr>\n",
       "      <th>1376</th>\n",
       "      <td>0</td>\n",
       "      <td>1376</td>\n",
       "      <td>7</td>\n",
       "      <td>1.000196</td>\n",
       "      <td>1.000196</td>\n",
       "      <td>0.999608</td>\n",
       "      <td>0.999608</td>\n",
       "      <td>1.235072e+05</td>\n",
       "      <td>6294.145996</td>\n",
       "      <td>58.846603</td>\n",
       "      <td>8.586700e+04</td>\n",
       "      <td>4375.998535</td>\n",
       "    </tr>\n",
       "    <tr>\n",
       "      <th>1377</th>\n",
       "      <td>0</td>\n",
       "      <td>1377</td>\n",
       "      <td>7</td>\n",
       "      <td>0.999804</td>\n",
       "      <td>1.000392</td>\n",
       "      <td>0.999608</td>\n",
       "      <td>1.000392</td>\n",
       "      <td>5.327324e+05</td>\n",
       "      <td>27162.833984</td>\n",
       "      <td>156.924286</td>\n",
       "      <td>3.899588e+05</td>\n",
       "      <td>19886.890625</td>\n",
       "    </tr>\n",
       "    <tr>\n",
       "      <th>1378</th>\n",
       "      <td>0</td>\n",
       "      <td>1378</td>\n",
       "      <td>7</td>\n",
       "      <td>1.000392</td>\n",
       "      <td>1.000392</td>\n",
       "      <td>1.000392</td>\n",
       "      <td>1.000392</td>\n",
       "      <td>1.117593e+06</td>\n",
       "      <td>56997.250000</td>\n",
       "      <td>215.770889</td>\n",
       "      <td>1.117593e+06</td>\n",
       "      <td>56997.250000</td>\n",
       "    </tr>\n",
       "    <tr>\n",
       "      <th>1379</th>\n",
       "      <td>0</td>\n",
       "      <td>1379</td>\n",
       "      <td>7</td>\n",
       "      <td>1.000000</td>\n",
       "      <td>1.000392</td>\n",
       "      <td>0.999804</td>\n",
       "      <td>1.000392</td>\n",
       "      <td>7.339786e+06</td>\n",
       "      <td>374322.093750</td>\n",
       "      <td>313.848572</td>\n",
       "      <td>6.686612e+06</td>\n",
       "      <td>341017.218750</td>\n",
       "    </tr>\n",
       "  </tbody>\n",
       "</table>\n",
       "<p>1380 rows × 12 columns</p>\n",
       "</div>"
      ],
      "text/plain": [
       "      sample_id  time  coin_index      open      high       low     close  \\\n",
       "0             0     0           7  1.010004  1.010004  1.009612  1.010004   \n",
       "1             0     1           7  1.009808  1.009808  1.009808  1.009808   \n",
       "2             0     2           7  1.009808  1.010200  1.009808  1.010200   \n",
       "3             0     3           7  1.010200  1.011181  1.010200  1.011181   \n",
       "4             0     4           7  1.010985  1.010985  1.010200  1.010200   \n",
       "...         ...   ...         ...       ...       ...       ...       ...   \n",
       "1375          0  1375           7  0.999608  1.000196  0.999608  1.000000   \n",
       "1376          0  1376           7  1.000196  1.000196  0.999608  0.999608   \n",
       "1377          0  1377           7  0.999804  1.000392  0.999608  1.000392   \n",
       "1378          0  1378           7  1.000392  1.000392  1.000392  1.000392   \n",
       "1379          0  1379           7  1.000000  1.000392  0.999804  1.000392   \n",
       "\n",
       "            volume       quote_av      trades    tb_base_av    tb_quote_av  \n",
       "0     8.382875e+05   43160.632812  451.157288  7.326834e+05   37725.183594  \n",
       "1     1.622420e+05    8352.220703   39.231071  0.000000e+00       0.000000  \n",
       "2     1.664967e+04     857.377808   58.846603  1.664967e+04     857.377808  \n",
       "3     2.586971e+06  133310.343750  431.541779  2.189147e+06  112811.046875  \n",
       "4     1.129996e+06   58216.867188  176.539810  0.000000e+00       0.000000  \n",
       "...            ...            ...         ...           ...            ...  \n",
       "1375  2.134131e+05   10879.561523  196.155350  6.432130e+04    3279.577393  \n",
       "1376  1.235072e+05    6294.145996   58.846603  8.586700e+04    4375.998535  \n",
       "1377  5.327324e+05   27162.833984  156.924286  3.899588e+05   19886.890625  \n",
       "1378  1.117593e+06   56997.250000  215.770889  1.117593e+06   56997.250000  \n",
       "1379  7.339786e+06  374322.093750  313.848572  6.686612e+06  341017.218750  \n",
       "\n",
       "[1380 rows x 12 columns]"
      ]
     },
     "execution_count": 3,
     "metadata": {},
     "output_type": "execute_result"
    }
   ],
   "source": [
    "display(train_x_df)\n",
    "#display(train_y_df)\n",
    "#display(test_x_df)\n",
    "train_x_df[train_x_df.sample_id == 0]"
   ]
  },
  {
   "cell_type": "code",
   "execution_count": 4,
   "metadata": {
    "ExecuteTime": {
     "end_time": "2021-03-23T11:29:49.446106Z",
     "start_time": "2021-03-23T11:29:49.440155Z"
    }
   },
   "outputs": [],
   "source": [
    "def df2d_to_array3d(df_2d):\n",
    "    # 입력 받은 2차원 데이터프레임을 3차원 numpy array로 변경하는 함수\n",
    "    feature_size = df_2d.iloc[:,2:].shape[1]\n",
    "    time_size = len(df_2d.time.value_counts())\n",
    "    sample_size = len(df_2d.sample_id.value_counts())\n",
    "    array_3d = df_2d.iloc[:,2:].values.reshape([sample_size,time_size,feature_size])\n",
    "    return array_3d"
   ]
  },
  {
   "cell_type": "code",
   "execution_count": 5,
   "metadata": {
    "ExecuteTime": {
     "end_time": "2021-03-23T08:50:34.147320Z",
     "start_time": "2021-03-23T08:50:32.502715Z"
    }
   },
   "outputs": [],
   "source": [
    "train_x_array = df2d_to_array3d(train_x_df)\n",
    "train_y_array = df2d_to_array3d(train_y_df)\n",
    "test_x_array = df2d_to_array3d(test_x_df)"
   ]
  },
  {
   "cell_type": "code",
   "execution_count": 6,
   "metadata": {
    "ExecuteTime": {
     "end_time": "2021-03-23T11:30:51.587200Z",
     "start_time": "2021-03-23T11:30:51.583210Z"
    }
   },
   "outputs": [
    {
     "name": "stdout",
     "output_type": "stream",
     "text": [
      "\n",
      "train_x_array(7362, 1380, 10)\n",
      "train_y_array(7362, 120, 10)\n",
      "test_x_array(529, 1380, 10)\n",
      "\n"
     ]
    }
   ],
   "source": [
    "print(f'''\n",
    "train_x_array{train_x_array.shape}\n",
    "train_y_array{train_y_array.shape}\n",
    "test_x_array{test_x_array.shape}\n",
    "''')"
   ]
  },
  {
   "cell_type": "code",
   "execution_count": 7,
   "metadata": {
    "ExecuteTime": {
     "end_time": "2021-03-23T08:50:40.048808Z",
     "start_time": "2021-03-23T08:50:40.043821Z"
    }
   },
   "outputs": [],
   "source": [
    "def plot_series(x_series, y_series):\n",
    "    #입력 series와 출력 seriers를 연속적으로 연결하여 시각적으로 보여주는 코드\n",
    "    plt.plot(x_series, label = 'input_series')\n",
    "    plt.plot(np.arange(len(x_series), len(x_series)+len(y_series)),\n",
    "            y_series, label = 'output_series')\n",
    "    plt.axhline(1, c = 'red')\n",
    "    plt.legend()"
   ]
  },
  {
   "cell_type": "code",
   "execution_count": 8,
   "metadata": {
    "ExecuteTime": {
     "end_time": "2021-03-23T08:50:44.092288Z",
     "start_time": "2021-03-23T08:50:43.950667Z"
    }
   },
   "outputs": [
    {
     "data": {
      "image/png": "[encoded data removed]",
      "text/plain": [
       "<Figure size 432x288 with 1 Axes>"
      ]
     },
     "metadata": {
      "needs_background": "light"
     },
     "output_type": "display_data"
    },
    {
     "name": "stdout",
     "output_type": "stream",
     "text": [
      "(1380,)\n"
     ]
    }
   ],
   "source": [
    "# sample_id 1012에 해당하는 sample의 분단위 시가 변동 정보 시각화\n",
    "idx = 1012\n",
    "plot_series(train_x_array[idx,:,1], train_y_array[idx,:,1])\n",
    "plt.show()\n",
    "print(train_x_array[idx,:,1].shape)"
   ]
  },
  {
   "cell_type": "code",
   "execution_count": 9,
   "metadata": {
    "ExecuteTime": {
     "end_time": "2021-03-23T08:51:01.619748Z",
     "start_time": "2021-03-23T08:50:49.335488Z"
    }
   },
   "outputs": [
    {
     "name": "stdout",
     "output_type": "stream",
     "text": [
      "Examples of parameter combinations for Arima\n",
      "ARIMA: (0, 0, 0) >> AIC : -6960.45\n",
      "ARIMA: (0, 0, 1) >> AIC : -8647.94\n",
      "ARIMA: (0, 0, 2) >> AIC : -9822.65\n",
      "ARIMA: (0, 1, 0) >> AIC : -12954.01\n",
      "ARIMA: (0, 1, 1) >> AIC : -12956.0\n",
      "ARIMA: (0, 1, 2) >> AIC : -12954.14\n",
      "ARIMA: (1, 0, 0) >> AIC : -12954.63\n",
      "ARIMA: (1, 0, 1) >> AIC : -12947.82\n",
      "ARIMA: (1, 0, 2) >> AIC : -12954.5\n",
      "ARIMA: (1, 1, 0) >> AIC : -12956.22\n",
      "ARIMA: (1, 1, 1) >> AIC : -12954.15\n",
      "ARIMA: (1, 1, 2) >> AIC : -12951.94\n",
      "ARIMA: (2, 0, 0) >> AIC : -12835.47\n",
      "ARIMA: (2, 0, 1) >> AIC : -12949.05\n",
      "ARIMA: (2, 0, 2) >> AIC : -12949.5\n",
      "ARIMA: (2, 1, 0) >> AIC : -12954.19\n",
      "ARIMA: (2, 1, 1) >> AIC : -12951.52\n",
      "ARIMA: (2, 1, 2) >> AIC : -12948.32\n"
     ]
    }
   ],
   "source": [
    "# Parameter search\n",
    "\n",
    "# https://www.youtube.com/watch?v=rdR2fNDq6v0&t=690s 참조\n",
    "import itertools\n",
    "print('Examples of parameter combinations for Arima')\n",
    "p = range(0, 3)\n",
    "d = range(0, 2)\n",
    "q = range(0, 3)\n",
    "pdq = list(itertools.product(p, d, q))\n",
    "idx = 1012\n",
    "\n",
    "aic = []\n",
    "for i in pdq:\n",
    "    model = ARIMA(train_x_array[idx,:,1], order = (i))\n",
    "    model_fit = model.fit()\n",
    "    print(f'ARIMA: {i} >> AIC : {round(model_fit.aic,2)}')\n",
    "    aic.append(round(model_fit.aic,2))\n",
    "    \n",
    "# ARIMA p,d,q의 값중 p와 d가 1 이상이면 대체적으로 낮은 AIC값을 가짐\n",
    "# 특히 p, q가 1일 때 대체적으로 낮은 AIC값을 가지므로 p,q 값을 1로 설정 d = 0"
   ]
  },
  {
   "cell_type": "code",
   "execution_count": 10,
   "metadata": {
    "ExecuteTime": {
     "end_time": "2021-03-23T11:45:08.282305Z",
     "start_time": "2021-03-23T11:45:07.380739Z"
    }
   },
   "outputs": [
    {
     "data": {
      "image/png": "[encoded data removed]",
      "text/plain": [
       "<Figure size 432x288 with 1 Axes>"
      ]
     },
     "metadata": {
      "needs_background": "light"
     },
     "output_type": "display_data"
    }
   ],
   "source": [
    "# train data 중 sample_id 1121에 해당하는 x_series로 arima 모델을 학습한 후\n",
    "# y_series를 추론\n",
    "idx = 1121\n",
    "series_x = train_x_array[idx,:,1]\n",
    "series_y = train_y_array[idx,:,1]\n",
    "\n",
    "model = ARIMA(series_x, order=(0,1,1))\n",
    "fit = model.fit()\n",
    "preds = fit.predict(1,120, typ = 'levels')\n",
    "\n",
    "plot_series(series_x, series_y)\n",
    "plt.plot(np.arange(len(series_x), len(series_x)+len(series_y)), preds, label = 'prediction')\n",
    "plt.legend()\n",
    "plt.show()\n",
    "# arima 모델 적용시 예측값이 train data 초기값에 큰 영향을 받아 다소 동떨어지게 예측됨"
   ]
  },
  {
   "cell_type": "code",
   "execution_count": 11,
   "metadata": {
    "ExecuteTime": {
     "end_time": "2021-03-23T11:45:13.116098Z",
     "start_time": "2021-03-23T11:45:12.200826Z"
    }
   },
   "outputs": [
    {
     "data": {
      "image/png": "[encoded data removed]",
      "text/plain": [
       "<Figure size 432x288 with 1 Axes>"
      ]
     },
     "metadata": {
      "needs_background": "light"
     },
     "output_type": "display_data"
    }
   ],
   "source": [
    "idx = 1121\n",
    "series_x = train_x_array[idx,:,1]\n",
    "series_y = train_y_array[idx,:,1]\n",
    "\n",
    "model = ARIMA(series_x, order=(0,1,1))\n",
    "fit = model.fit()\n",
    "preds = fit.predict(1,120, typ = 'levels')\n",
    "comp = preds[0] - 1 # series_x 마지막 open 값은 항상 1\n",
    "pred = [i - comp for i in preds]\n",
    "\n",
    "plot_series(series_x, series_y)\n",
    "plt.plot(np.arange(len(series_x), len(series_x)+len(series_y)), pred, label = 'prediction')\n",
    "plt.legend()\n",
    "plt.show()\n",
    "\n",
    "# train data의 끝값과 예측값의 첫값을 일치시킴"
   ]
  },
  {
   "cell_type": "code",
   "execution_count": 12,
   "metadata": {
    "ExecuteTime": {
     "end_time": "2021-03-23T11:45:16.572443Z",
     "start_time": "2021-03-23T11:45:14.370700Z"
    },
    "scrolled": true
   },
   "outputs": [
    {
     "data": {
      "image/png": "[encoded data removed]",
      "text/plain": [
       "<Figure size 2160x1080 with 4 Axes>"
      ]
     },
     "metadata": {
      "needs_background": "light"
     },
     "output_type": "display_data"
    }
   ],
   "source": [
    "fig = plt.figure(figsize=(30,15))\n",
    "ax1 = fig.add_subplot(2,2,1)\n",
    "ax2 = fig.add_subplot(2,2,2)\n",
    "ax3 = fig.add_subplot(2,2,3)\n",
    "ax4 = fig.add_subplot(2,2,4)\n",
    "\n",
    "idx = 1122\n",
    "series_x = train_x_array[idx,:,1]\n",
    "series_y = train_y_array[idx,:,1]\n",
    "\n",
    "model = ARIMA(series_x, order=(0,1,1))\n",
    "fit = model.fit()\n",
    "\n",
    "# arima 모델 적용시 예측값이 train data 초기값에 큰 영향을 받아 \n",
    "preds = fit.predict(1,120, typ = 'levels')\n",
    "comp = preds[0] - 1 \n",
    "pred = [i - comp for i in preds]\n",
    "\n",
    "\n",
    "#plot_series(series_x, series_y)\n",
    "ax1.plot(np.arange(len(series_x)), series_x, 'r')\n",
    "ax1.plot(np.arange(len(series_x), len(series_x)+len(series_y)), series_y, 'b')\n",
    "ax1.plot(np.arange(len(series_x), len(series_x)+len(series_y)), preds, 'c', label = 'prediction')\n",
    "\n",
    "ax2.plot(np.arange(len(series_x)), series_x, 'r')\n",
    "ax2.plot(np.arange(len(series_x), len(series_x)+len(series_y)), series_y, 'b')\n",
    "ax2.plot(np.arange(len(series_x), len(series_x)+len(series_y)), pred, 'c', label = 'prediction')\n",
    "\n",
    "\n",
    "idx = 255\n",
    "series_x = train_x_array[idx,:,1]\n",
    "series_y = train_y_array[idx,:,1]\n",
    "\n",
    "model = ARIMA(series_x, order=(0,1,1))\n",
    "fit = model.fit()\n",
    "\n",
    "preds = fit.predict(1,120, typ = 'levels')\n",
    "comp = preds[0] - 1 \n",
    "pred = [i - comp for i in preds]\n",
    "\n",
    "#plot_series(series_x, series_y)\n",
    "ax3.plot(np.arange(len(series_x)), series_x, 'r')\n",
    "ax3.plot(np.arange(len(series_x), len(series_x)+len(series_y)), series_y, 'b')\n",
    "ax3.plot(np.arange(len(series_x), len(series_x)+len(series_y)), preds, 'c', label = 'prediction')\n",
    "\n",
    "ax4.plot(np.arange(len(series_x)), series_x, 'r')\n",
    "ax4.plot(np.arange(len(series_x), len(series_x)+len(series_y)), series_y, 'b')\n",
    "ax4.plot(np.arange(len(series_x), len(series_x)+len(series_y)), pred, 'c', label = 'prediction')\n",
    "\n",
    "\n",
    "\n",
    "plt.show()\n"
   ]
  },
  {
   "cell_type": "code",
   "execution_count": 13,
   "metadata": {
    "ExecuteTime": {
     "end_time": "2021-03-23T11:45:41.686797Z",
     "start_time": "2021-03-23T11:45:41.563667Z"
    }
   },
   "outputs": [],
   "source": [
    "# train 데이터 상단의 300개 샘플로 validation set를 구성하여 학습 및 추론\n",
    "valid_x_df = train_x_df[train_x_df.sample_id < 300]\n",
    "valid_y_df = train_y_df[train_y_df.sample_id < 300]\n",
    "\n",
    "valid_x_array = df2d_to_array3d(valid_x_df)\n",
    "valid_y_array = df2d_to_array3d(valid_y_df)\n",
    "valid_pred_array = np.zeros([300, 120])"
   ]
  },
  {
   "cell_type": "code",
   "execution_count": 14,
   "metadata": {
    "ExecuteTime": {
     "end_time": "2021-03-23T11:48:12.930359Z",
     "start_time": "2021-03-23T11:45:43.973389Z"
    }
   },
   "outputs": [
    {
     "name": "stderr",
     "output_type": "stream",
     "text": [
      "100%|████████████████████████████████████████████████████████████████████████████████| 300/300 [00:56<00:00,  5.29it/s]\n"
     ]
    }
   ],
   "source": [
    "for idx in tqdm(range(valid_x_array.shape[0])):\n",
    "    x_series = valid_x_array[idx,:,1]\n",
    "\n",
    "    model = ARIMA(x_series, order = (0,1,1))\n",
    "    fit = model.fit()\n",
    "    preds = fit.predict(1,120, typ = 'levels')\n",
    "    comp = preds[0] - 1\n",
    "    pred = [i-comp for i in preds]\n",
    "    valid_pred_array[idx,:] = pred\n",
    "        "
   ]
  },
  {
   "cell_type": "code",
   "execution_count": 15,
   "metadata": {
    "ExecuteTime": {
     "end_time": "2021-03-23T11:48:14.947499Z",
     "start_time": "2021-03-23T11:48:14.941001Z"
    }
   },
   "outputs": [],
   "source": [
    "def array_to_submission(x_array, pred_array):\n",
    "    '''\n",
    "    입력 x_array와 출력 pred_array를 통해서\n",
    "    buy_quantity와 sell_time을 결정\n",
    "    '''\n",
    "    submission = pd.DataFrame(np.zeros([pred_array.shape[0],2], np.int64),\n",
    "                             columns = ['buy_quantity', 'sell_time'])\n",
    "    submission = submission.reset_index()\n",
    "    submission.loc[:, 'buy_quantity'] = 0.1\n",
    "    \n",
    "    buy_price = []\n",
    "    for idx, sell_time in enumerate(np.argmax(pred_array, axis=1)):\n",
    "        buy_price.append(pred_array[idx, sell_time])\n",
    "    buy_price = np.array(buy_price)\n",
    "    # n% 이상 상승한다고 예측한 sample에 대해서만 100%매수\n",
    "    submission.loc[:, 'buy_quantity'] = (buy_price > 1.02) * 1\n",
    "    # 모델이 예측값 중 최대값에 해당하는 시간에 매도\n",
    "    submission['sell_time'] = np.argmax(pred_array, axis = 1)\n",
    "    submission.columns = ['sample_id', 'buy_quantity', 'sell_time']\n",
    "    return submission"
   ]
  },
  {
   "cell_type": "code",
   "execution_count": 16,
   "metadata": {
    "ExecuteTime": {
     "end_time": "2021-03-23T11:48:16.295002Z",
     "start_time": "2021-03-23T11:48:16.288982Z"
    }
   },
   "outputs": [],
   "source": [
    "valid_submission = array_to_submission(valid_x_array, valid_pred_array)"
   ]
  },
  {
   "cell_type": "code",
   "execution_count": 17,
   "metadata": {
    "ExecuteTime": {
     "end_time": "2021-03-23T11:48:16.576213Z",
     "start_time": "2021-03-23T11:48:16.566240Z"
    }
   },
   "outputs": [
    {
     "data": {
      "text/html": [
       "<div>\n",
       "<style scoped>\n",
       "    .dataframe tbody tr th:only-of-type {\n",
       "        vertical-align: middle;\n",
       "    }\n",
       "\n",
       "    .dataframe tbody tr th {\n",
       "        vertical-align: top;\n",
       "    }\n",
       "\n",
       "    .dataframe thead th {\n",
       "        text-align: right;\n",
       "    }\n",
       "</style>\n",
       "<table border=\"1\" class=\"dataframe\">\n",
       "  <thead>\n",
       "    <tr style=\"text-align: right;\">\n",
       "      <th></th>\n",
       "      <th>sample_id</th>\n",
       "      <th>buy_quantity</th>\n",
       "      <th>sell_time</th>\n",
       "    </tr>\n",
       "  </thead>\n",
       "  <tbody>\n",
       "    <tr>\n",
       "      <th>0</th>\n",
       "      <td>0</td>\n",
       "      <td>0</td>\n",
       "      <td>36</td>\n",
       "    </tr>\n",
       "    <tr>\n",
       "      <th>1</th>\n",
       "      <td>1</td>\n",
       "      <td>0</td>\n",
       "      <td>24</td>\n",
       "    </tr>\n",
       "    <tr>\n",
       "      <th>2</th>\n",
       "      <td>2</td>\n",
       "      <td>0</td>\n",
       "      <td>44</td>\n",
       "    </tr>\n",
       "    <tr>\n",
       "      <th>3</th>\n",
       "      <td>3</td>\n",
       "      <td>0</td>\n",
       "      <td>76</td>\n",
       "    </tr>\n",
       "    <tr>\n",
       "      <th>4</th>\n",
       "      <td>4</td>\n",
       "      <td>0</td>\n",
       "      <td>95</td>\n",
       "    </tr>\n",
       "    <tr>\n",
       "      <th>...</th>\n",
       "      <td>...</td>\n",
       "      <td>...</td>\n",
       "      <td>...</td>\n",
       "    </tr>\n",
       "    <tr>\n",
       "      <th>295</th>\n",
       "      <td>295</td>\n",
       "      <td>0</td>\n",
       "      <td>35</td>\n",
       "    </tr>\n",
       "    <tr>\n",
       "      <th>296</th>\n",
       "      <td>296</td>\n",
       "      <td>0</td>\n",
       "      <td>1</td>\n",
       "    </tr>\n",
       "    <tr>\n",
       "      <th>297</th>\n",
       "      <td>297</td>\n",
       "      <td>0</td>\n",
       "      <td>19</td>\n",
       "    </tr>\n",
       "    <tr>\n",
       "      <th>298</th>\n",
       "      <td>298</td>\n",
       "      <td>0</td>\n",
       "      <td>25</td>\n",
       "    </tr>\n",
       "    <tr>\n",
       "      <th>299</th>\n",
       "      <td>299</td>\n",
       "      <td>1</td>\n",
       "      <td>36</td>\n",
       "    </tr>\n",
       "  </tbody>\n",
       "</table>\n",
       "<p>300 rows × 3 columns</p>\n",
       "</div>"
      ],
      "text/plain": [
       "     sample_id  buy_quantity  sell_time\n",
       "0            0             0         36\n",
       "1            1             0         24\n",
       "2            2             0         44\n",
       "3            3             0         76\n",
       "4            4             0         95\n",
       "..         ...           ...        ...\n",
       "295        295             0         35\n",
       "296        296             0          1\n",
       "297        297             0         19\n",
       "298        298             0         25\n",
       "299        299             1         36\n",
       "\n",
       "[300 rows x 3 columns]"
      ]
     },
     "execution_count": 17,
     "metadata": {},
     "output_type": "execute_result"
    }
   ],
   "source": [
    "valid_submission"
   ]
  },
  {
   "cell_type": "code",
   "execution_count": 18,
   "metadata": {
    "ExecuteTime": {
     "end_time": "2021-03-23T12:21:16.279701Z",
     "start_time": "2021-03-23T12:21:16.273725Z"
    },
    "scrolled": true
   },
   "outputs": [
    {
     "data": {
      "text/plain": [
       "0    261\n",
       "1     39\n",
       "Name: buy_quantity, dtype: int64"
      ]
     },
     "execution_count": 18,
     "metadata": {},
     "output_type": "execute_result"
    }
   ],
   "source": [
    "# 전체 300가지 sample에 대해\n",
    "# 38가지 case에서 2% 이상 상승한다고 추론함\n",
    "valid_submission.buy_quantity.value_counts()"
   ]
  },
  {
   "cell_type": "code",
   "execution_count": 19,
   "metadata": {
    "ExecuteTime": {
     "end_time": "2021-03-23T11:49:18.770963Z",
     "start_time": "2021-03-23T11:49:18.755881Z"
    }
   },
   "outputs": [],
   "source": [
    "def df2d_to_answer(df_2d):\n",
    "    '''\n",
    "    valid_y_df로부터 open 가격정보가 포함된\n",
    "    [샘플수, 120분] 크기의 2차원 array를 반환하는 함수\n",
    "    '''\n",
    "    \n",
    "    feature_size = df_2d.iloc[:,2:].shape[1]\n",
    "    time_size = len(df_2d.time.value_counts())\n",
    "    sample_size = len(df_2d.sample_id.value_counts())\n",
    "    sample_index = df_2d.sample_id.value_counts().index\n",
    "    array_2d = df_2d.open.values.reshape([sample_size, time_size])\n",
    "    sample_index = list(sample_index)\n",
    "    return array_2d, sample_index\n",
    "\n",
    "def COIN(y_df, submission, df2d_to_answer = df2d_to_answer):\n",
    "    '''\n",
    "    2차원 데이터프레임에서 open시점 데이터만 추출하여 array로 복원\n",
    "    sample_id 정보를 index에 저장\n",
    "    '''\n",
    "    \n",
    "    y_array, index = df2d_to_answer(y_df)\n",
    "    \n",
    "    # index 기준으로 submission을 다시 선택\n",
    "    submission = submission.set_index(submission.columns[0])\n",
    "    submission = submission.iloc[index, :]\n",
    "    \n",
    "    # 초기 투자비용은 10000달러\n",
    "    total_money = 10000 \n",
    "    total_money_list = []\n",
    "\n",
    "    \n",
    "    # 가장 처음 sample_id값\n",
    "    start_index = submission.index[0]\n",
    "    for row_idx in submission.index:\n",
    "        sell_time = submission.loc[row_idx, 'sell_time']\n",
    "        buy_price = y_array[row_idx - start_index, 0]\n",
    "        sell_price = y_array[row_idx - start_index, sell_time]\n",
    "        buy_quantity = submission.loc[row_idx, 'buy_quantity']*total_money\n",
    "        residual = total_money - buy_quantity\n",
    "        ratio = sell_price / buy_price\n",
    "        total_money = buy_quantity * ratio * 0.9995 * 0.9995 + residual\n",
    "        total_money_list.append(total_money)\n",
    "\n",
    "        \n",
    "    return total_money, total_money_list, time\n",
    "    "
   ]
  },
  {
   "cell_type": "code",
   "execution_count": 20,
   "metadata": {
    "ExecuteTime": {
     "end_time": "2021-03-23T11:49:31.694006Z",
     "start_time": "2021-03-23T11:49:31.673499Z"
    }
   },
   "outputs": [],
   "source": [
    "total_money, total_money_list, time = COIN(valid_y_df, valid_submission)"
   ]
  },
  {
   "cell_type": "code",
   "execution_count": 21,
   "metadata": {
    "ExecuteTime": {
     "end_time": "2021-03-23T12:23:07.596036Z",
     "start_time": "2021-03-23T12:23:07.592046Z"
    }
   },
   "outputs": [
    {
     "name": "stdout",
     "output_type": "stream",
     "text": [
      "10813.17716075343\n"
     ]
    }
   ],
   "source": [
    "# 투자 후 금액\n",
    "print(total_money)"
   ]
  },
  {
   "cell_type": "code",
   "execution_count": 22,
   "metadata": {},
   "outputs": [],
   "source": [
    "# p,d,q : 1,0,1\n",
    "# 44개 : 10730\n",
    "# 43개 : 10725\n",
    "# 42개 : 10711\n",
    "# 41개 : 10720\n",
    "# 40개 : 10761.963233\n",
    "# 39개 : 10813.177\n",
    "# 38개 : 10797.768\n",
    "# 37개 : 10744.743\n",
    "# 36개 : 10734\n",
    "# 35개 : 10593.819"
   ]
  },
  {
   "cell_type": "code",
   "execution_count": 23,
   "metadata": {},
   "outputs": [],
   "source": [
    "# p,d,q : 1,1,0\n",
    "# 44개 : 10727.366\n",
    "# 43개 : 10720.8\n",
    "# 41개 : 10716.4\n",
    "# 42개 : 10730.6\n",
    "# 40개 : 10757.5\n",
    "# 39개 : 10808.7\n",
    "# 38개 : 10793.3\n",
    "# 37개 : 10740.3\n",
    "# 36개 : 10730.477"
   ]
  },
  {
   "cell_type": "code",
   "execution_count": 24,
   "metadata": {},
   "outputs": [],
   "source": [
    "# p,d,q : 0,1,1\n",
    "# 39개 : 10813.177\n",
    "# 101과 값이 동일함"
   ]
  },
  {
   "cell_type": "code",
   "execution_count": 25,
   "metadata": {
    "ExecuteTime": {
     "end_time": "2021-03-23T11:49:36.001182Z",
     "start_time": "2021-03-23T11:49:35.908885Z"
    }
   },
   "outputs": [
    {
     "data": {
      "image/png": "[encoded data removed]",
      "text/plain": [
       "<Figure size 432x288 with 1 Axes>"
      ]
     },
     "metadata": {
      "needs_background": "light"
     },
     "output_type": "display_data"
    }
   ],
   "source": [
    "# 투자 히스토리\n",
    "plt.plot(total_money_list)\n",
    "plt.title('history')\n",
    "plt.show()\n",
    "#display(valid_submission[valid_submission.buy_quantity == 1])"
   ]
  },
  {
   "cell_type": "code",
   "execution_count": 26,
   "metadata": {
    "ExecuteTime": {
     "end_time": "2021-03-23T11:23:44.859717Z",
     "start_time": "2021-03-23T11:19:50.677041Z"
    }
   },
   "outputs": [
    {
     "name": "stderr",
     "output_type": "stream",
     "text": [
      "100%|████████████████████████████████████████████████████████████████████████████████| 529/529 [02:21<00:00,  3.74it/s]\n"
     ]
    }
   ],
   "source": [
    "test_pred_array = np.zeros([test_x_array.shape[0], 120])\n",
    "\n",
    "for idx in tqdm(range(test_x_array.shape[0])):\n",
    "    x_series = test_x_array[idx,:,1]\n",
    "    \n",
    "    model = ARIMA(x_series, order = (1,1,2))\n",
    "    fit = model.fit()\n",
    "    preds = fit.predict(1,120, typ = 'levels')\n",
    "    comp = preds[0] - 1\n",
    "    pred = [i-comp for i in preds]\n",
    "    test_pred_array[idx,:] = pred\n"
   ]
  },
  {
   "cell_type": "code",
   "execution_count": 27,
   "metadata": {
    "ExecuteTime": {
     "end_time": "2021-03-23T11:24:02.123584Z",
     "start_time": "2021-03-23T11:24:02.114573Z"
    }
   },
   "outputs": [],
   "source": [
    "submission = array_to_submission(test_x_array, test_pred_array)\n",
    "submission.to_csv('submission.csv', index = False)\n"
   ]
  },
  {
   "cell_type": "code",
   "execution_count": 32,
   "metadata": {
    "ExecuteTime": {
     "end_time": "2021-03-23T11:12:45.490922Z",
     "start_time": "2021-03-23T11:12:45.482941Z"
    },
    "scrolled": true
   },
   "outputs": [
    {
     "data": {
      "text/html": [
       "<div>\n",
       "<style scoped>\n",
       "    .dataframe tbody tr th:only-of-type {\n",
       "        vertical-align: middle;\n",
       "    }\n",
       "\n",
       "    .dataframe tbody tr th {\n",
       "        vertical-align: top;\n",
       "    }\n",
       "\n",
       "    .dataframe thead th {\n",
       "        text-align: right;\n",
       "    }\n",
       "</style>\n",
       "<table border=\"1\" class=\"dataframe\">\n",
       "  <thead>\n",
       "    <tr style=\"text-align: right;\">\n",
       "      <th></th>\n",
       "      <th>sample_id</th>\n",
       "      <th>buy_quantity</th>\n",
       "      <th>sell_time</th>\n",
       "    </tr>\n",
       "  </thead>\n",
       "  <tbody>\n",
       "    <tr>\n",
       "      <th>0</th>\n",
       "      <td>0</td>\n",
       "      <td>0</td>\n",
       "      <td>7</td>\n",
       "    </tr>\n",
       "    <tr>\n",
       "      <th>1</th>\n",
       "      <td>1</td>\n",
       "      <td>0</td>\n",
       "      <td>17</td>\n",
       "    </tr>\n",
       "    <tr>\n",
       "      <th>2</th>\n",
       "      <td>2</td>\n",
       "      <td>0</td>\n",
       "      <td>119</td>\n",
       "    </tr>\n",
       "    <tr>\n",
       "      <th>3</th>\n",
       "      <td>3</td>\n",
       "      <td>0</td>\n",
       "      <td>50</td>\n",
       "    </tr>\n",
       "    <tr>\n",
       "      <th>4</th>\n",
       "      <td>4</td>\n",
       "      <td>0</td>\n",
       "      <td>119</td>\n",
       "    </tr>\n",
       "    <tr>\n",
       "      <th>...</th>\n",
       "      <td>...</td>\n",
       "      <td>...</td>\n",
       "      <td>...</td>\n",
       "    </tr>\n",
       "    <tr>\n",
       "      <th>524</th>\n",
       "      <td>524</td>\n",
       "      <td>0</td>\n",
       "      <td>8</td>\n",
       "    </tr>\n",
       "    <tr>\n",
       "      <th>525</th>\n",
       "      <td>525</td>\n",
       "      <td>0</td>\n",
       "      <td>119</td>\n",
       "    </tr>\n",
       "    <tr>\n",
       "      <th>526</th>\n",
       "      <td>526</td>\n",
       "      <td>0</td>\n",
       "      <td>48</td>\n",
       "    </tr>\n",
       "    <tr>\n",
       "      <th>527</th>\n",
       "      <td>527</td>\n",
       "      <td>0</td>\n",
       "      <td>5</td>\n",
       "    </tr>\n",
       "    <tr>\n",
       "      <th>528</th>\n",
       "      <td>528</td>\n",
       "      <td>0</td>\n",
       "      <td>71</td>\n",
       "    </tr>\n",
       "  </tbody>\n",
       "</table>\n",
       "<p>529 rows × 3 columns</p>\n",
       "</div>"
      ],
      "text/plain": [
       "     sample_id  buy_quantity  sell_time\n",
       "0            0             0          7\n",
       "1            1             0         17\n",
       "2            2             0        119\n",
       "3            3             0         50\n",
       "4            4             0        119\n",
       "..         ...           ...        ...\n",
       "524        524             0          8\n",
       "525        525             0        119\n",
       "526        526             0         48\n",
       "527        527             0          5\n",
       "528        528             0         71\n",
       "\n",
       "[529 rows x 3 columns]"
      ]
     },
     "execution_count": 32,
     "metadata": {},
     "output_type": "execute_result"
    }
   ],
   "source": [
    "df1 = pd.read_csv(\"submission.csv\")\n",
    "df1"
   ]
  },
  {
   "cell_type": "code",
   "execution_count": 33,
   "metadata": {
    "ExecuteTime": {
     "end_time": "2021-03-23T11:51:55.978558Z",
     "start_time": "2021-03-23T11:51:55.973566Z"
    }
   },
   "outputs": [
    {
     "data": {
      "text/plain": [
       "164"
      ]
     },
     "execution_count": 33,
     "metadata": {},
     "output_type": "execute_result"
    }
   ],
   "source": [
    "submission[submission.buy_quantity == 1]\n",
    "\n",
    "len(submission[submission.buy_quantity == 1])"
   ]
  }
 ],
 "metadata": {
  "kernelspec": {
   "display_name": "Python 3",
   "language": "python",
   "name": "python3"
  },
  "language_info": {
   "codemirror_mode": {
    "name": "ipython",
    "version": 3
   },
   "file_extension": ".py",
   "mimetype": "text/x-python",
   "name": "python",
   "nbconvert_exporter": "python",
   "pygments_lexer": "ipython3",
   "version": "3.8.5"
  }
 },
 "nbformat": 4,
 "nbformat_minor": 4
}
