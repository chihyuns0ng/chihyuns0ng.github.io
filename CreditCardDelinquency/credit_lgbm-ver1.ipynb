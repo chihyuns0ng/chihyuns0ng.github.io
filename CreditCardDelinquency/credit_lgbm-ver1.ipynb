{
 "cells": [
  {
   "cell_type": "markdown",
   "metadata": {},
   "source": [
    "# 라이브러리 호출"
   ]
  },
  {
   "cell_type": "code",
   "execution_count": 1,
   "metadata": {
    "executionInfo": {
     "elapsed": 3343,
     "status": "ok",
     "timestamp": 1617445514092,
     "user": {
      "displayName": "youtube dacon",
      "photoUrl": "",
      "userId": "00770885000471893693"
     },
     "user_tz": -540
    },
    "id": "vQ0TeqzQwyH8"
   },
   "outputs": [],
   "source": [
    "import warnings\n",
    "warnings.filterwarnings('ignore')\n",
    "import numpy as np\n",
    "import pandas as pd   \n",
    "import matplotlib.pyplot as plt\n",
    "import seaborn as sns\n",
    "import itertools\n",
    "\n",
    "from sklearn.model_selection import train_test_split\n",
    "from sklearn.metrics import accuracy_score, confusion_matrix, log_loss\n",
    "\n",
    "from sklearn.linear_model import LogisticRegression\n",
    "from sklearn.tree import DecisionTreeClassifier\n",
    "\n",
    "from xgboost import XGBClassifier\n",
    "from lightgbm import LGBMClassifier\n",
    "from catboost import CatBoostClassifier\n",
    "from sklearn import svm\n",
    "from sklearn.ensemble import RandomForestClassifier\n",
    "\n",
    "from sklearn.model_selection import StratifiedKFold\n",
    "from sklearn.preprocessing import OneHotEncoder\n",
    "import random"
   ]
  },
  {
   "cell_type": "code",
   "execution_count": 2,
   "metadata": {
    "executionInfo": {
     "elapsed": 3337,
     "status": "ok",
     "timestamp": 1617445514093,
     "user": {
      "displayName": "youtube dacon",
      "photoUrl": "",
      "userId": "00770885000471893693"
     },
     "user_tz": -540
    },
    "id": "XhVVKX-QxIUY"
   },
   "outputs": [],
   "source": [
    "train = pd.read_csv(\"train.csv\")\n",
    "test = pd.read_csv(\"test.csv\")\n",
    "sample_submission = pd.read_csv(\"sample_submission.csv\")\n",
    "\n",
    "train.fillna('NAN', inplace=True)\n",
    "test.fillna('NAN', inplace=True)"
   ]
  },
  {
   "cell_type": "markdown",
   "metadata": {},
   "source": [
    "# 전처리"
   ]
  },
  {
   "cell_type": "code",
   "execution_count": 3,
   "metadata": {},
   "outputs": [],
   "source": [
    "object_col = []\n",
    "for col in train.columns:\n",
    "    if train[col].dtype == 'object':\n",
    "        object_col.append(col)"
   ]
  },
  {
   "cell_type": "code",
   "execution_count": 4,
   "metadata": {},
   "outputs": [],
   "source": [
    "enc = OneHotEncoder()\n",
    "enc.fit(train.loc[:,object_col])\n",
    "\n",
    "\n",
    "train_onehot_df = pd.DataFrame(enc.transform(train.loc[:,object_col]).toarray(), \n",
    "             columns=enc.get_feature_names(object_col))\n",
    "train.drop(object_col, axis=1, inplace=True)\n",
    "train = pd.concat([train, train_onehot_df], axis=1)"
   ]
  },
  {
   "cell_type": "code",
   "execution_count": 5,
   "metadata": {},
   "outputs": [],
   "source": [
    "test_onehot_df = pd.DataFrame(enc.transform(test.loc[:,object_col]).toarray(), \n",
    "             columns=enc.get_feature_names(object_col))\n",
    "test.drop(object_col, axis=1, inplace=True)\n",
    "test = pd.concat([test, test_onehot_df], axis=1)"
   ]
  },
  {
   "cell_type": "markdown",
   "metadata": {},
   "source": [
    "# 모델링"
   ]
  },
  {
   "cell_type": "code",
   "execution_count": 6,
   "metadata": {},
   "outputs": [],
   "source": [
    "skf = StratifiedKFold(n_splits=5, shuffle=True, random_state=42)\n",
    "folds=[]\n",
    "for train_idx, valid_idx in skf.split(train, train['credit']):\n",
    "    folds.append((train_idx, valid_idx))"
   ]
  },
  {
   "cell_type": "code",
   "execution_count": 7,
   "metadata": {},
   "outputs": [
    {
     "name": "stdout",
     "output_type": "stream",
     "text": [
      "====================================1============================================\n",
      "Training until validation scores don't improve for 30 rounds\n",
      "[100]\ttraining's multi_logloss: 0.649383\tvalid_1's multi_logloss: 0.764417\n",
      "[200]\ttraining's multi_logloss: 0.555442\tvalid_1's multi_logloss: 0.755226\n",
      "Early stopping, best iteration is:\n",
      "[245]\ttraining's multi_logloss: 0.521443\tvalid_1's multi_logloss: 0.753747\n",
      "================================================================================\n",
      "\n",
      "\n",
      "====================================2============================================\n",
      "Training until validation scores don't improve for 30 rounds\n",
      "[100]\ttraining's multi_logloss: 0.645172\tvalid_1's multi_logloss: 0.775667\n",
      "[200]\ttraining's multi_logloss: 0.551025\tvalid_1's multi_logloss: 0.765431\n",
      "[300]\ttraining's multi_logloss: 0.477799\tvalid_1's multi_logloss: 0.762982\n",
      "Early stopping, best iteration is:\n",
      "[299]\ttraining's multi_logloss: 0.478409\tvalid_1's multi_logloss: 0.762903\n",
      "================================================================================\n",
      "\n",
      "\n",
      "====================================3============================================\n",
      "Training until validation scores don't improve for 30 rounds\n",
      "[100]\ttraining's multi_logloss: 0.64773\tvalid_1's multi_logloss: 0.765103\n",
      "[200]\ttraining's multi_logloss: 0.551917\tvalid_1's multi_logloss: 0.758596\n",
      "Early stopping, best iteration is:\n",
      "[205]\ttraining's multi_logloss: 0.547864\tvalid_1's multi_logloss: 0.758461\n",
      "================================================================================\n",
      "\n",
      "\n",
      "====================================4============================================\n",
      "Training until validation scores don't improve for 30 rounds\n",
      "[100]\ttraining's multi_logloss: 0.644306\tvalid_1's multi_logloss: 0.763169\n",
      "[200]\ttraining's multi_logloss: 0.552472\tvalid_1's multi_logloss: 0.753461\n",
      "Early stopping, best iteration is:\n",
      "[225]\ttraining's multi_logloss: 0.532802\tvalid_1's multi_logloss: 0.75254\n",
      "================================================================================\n",
      "\n",
      "\n",
      "====================================5============================================\n",
      "Training until validation scores don't improve for 30 rounds\n",
      "[100]\ttraining's multi_logloss: 0.649861\tvalid_1's multi_logloss: 0.762923\n",
      "[200]\ttraining's multi_logloss: 0.55082\tvalid_1's multi_logloss: 0.750186\n",
      "Early stopping, best iteration is:\n",
      "[231]\ttraining's multi_logloss: 0.526077\tvalid_1's multi_logloss: 0.749016\n",
      "================================================================================\n",
      "\n",
      "\n"
     ]
    }
   ],
   "source": [
    "random.seed(42)\n",
    "lgb_models={}\n",
    "for fold in range(5):\n",
    "    print(f'===================================={fold+1}============================================')\n",
    "    train_idx, valid_idx = folds[fold]\n",
    "    X_train, X_valid, y_train, y_valid = train.drop(['credit'],axis=1).iloc[train_idx].values, train.drop(['credit'],axis=1).iloc[valid_idx].values,\\\n",
    "                                         train['credit'][train_idx].values, train['credit'][valid_idx].values \n",
    "    lgb = LGBMClassifier(n_estimators=1000)\n",
    "    lgb.fit(X_train, y_train, \n",
    "            eval_set=[(X_train, y_train), (X_valid, y_valid)], \n",
    "            early_stopping_rounds=30,\n",
    "           verbose=100)\n",
    "    lgb_models[fold]=lgb\n",
    "    print(f'================================================================================\\n\\n')"
   ]
  },
  {
   "cell_type": "code",
   "execution_count": 8,
   "metadata": {},
   "outputs": [],
   "source": [
    "sample_submission.iloc[:,1:]=0\n",
    "for fold in range(5):\n",
    "    sample_submission.iloc[:,1:] += lgb_models[fold].predict_proba(test)/5"
   ]
  },
  {
   "cell_type": "code",
   "execution_count": 9,
   "metadata": {},
   "outputs": [
    {
     "data": {
      "text/html": [
       "<div>\n",
       "<style scoped>\n",
       "    .dataframe tbody tr th:only-of-type {\n",
       "        vertical-align: middle;\n",
       "    }\n",
       "\n",
       "    .dataframe tbody tr th {\n",
       "        vertical-align: top;\n",
       "    }\n",
       "\n",
       "    .dataframe thead th {\n",
       "        text-align: right;\n",
       "    }\n",
       "</style>\n",
       "<table border=\"1\" class=\"dataframe\">\n",
       "  <thead>\n",
       "    <tr style=\"text-align: right;\">\n",
       "      <th></th>\n",
       "      <th>index</th>\n",
       "      <th>0</th>\n",
       "      <th>1</th>\n",
       "      <th>2</th>\n",
       "    </tr>\n",
       "  </thead>\n",
       "  <tbody>\n",
       "    <tr>\n",
       "      <th>0</th>\n",
       "      <td>26457</td>\n",
       "      <td>0.008515</td>\n",
       "      <td>0.223399</td>\n",
       "      <td>0.768086</td>\n",
       "    </tr>\n",
       "    <tr>\n",
       "      <th>1</th>\n",
       "      <td>26458</td>\n",
       "      <td>0.069156</td>\n",
       "      <td>0.114852</td>\n",
       "      <td>0.815992</td>\n",
       "    </tr>\n",
       "    <tr>\n",
       "      <th>2</th>\n",
       "      <td>26459</td>\n",
       "      <td>0.032709</td>\n",
       "      <td>0.195448</td>\n",
       "      <td>0.771844</td>\n",
       "    </tr>\n",
       "    <tr>\n",
       "      <th>3</th>\n",
       "      <td>26460</td>\n",
       "      <td>0.067637</td>\n",
       "      <td>0.188465</td>\n",
       "      <td>0.743897</td>\n",
       "    </tr>\n",
       "    <tr>\n",
       "      <th>4</th>\n",
       "      <td>26461</td>\n",
       "      <td>0.078516</td>\n",
       "      <td>0.250676</td>\n",
       "      <td>0.670808</td>\n",
       "    </tr>\n",
       "    <tr>\n",
       "      <th>...</th>\n",
       "      <td>...</td>\n",
       "      <td>...</td>\n",
       "      <td>...</td>\n",
       "      <td>...</td>\n",
       "    </tr>\n",
       "    <tr>\n",
       "      <th>9995</th>\n",
       "      <td>36452</td>\n",
       "      <td>0.042416</td>\n",
       "      <td>0.312763</td>\n",
       "      <td>0.644822</td>\n",
       "    </tr>\n",
       "    <tr>\n",
       "      <th>9996</th>\n",
       "      <td>36453</td>\n",
       "      <td>0.034296</td>\n",
       "      <td>0.381149</td>\n",
       "      <td>0.584556</td>\n",
       "    </tr>\n",
       "    <tr>\n",
       "      <th>9997</th>\n",
       "      <td>36454</td>\n",
       "      <td>0.039116</td>\n",
       "      <td>0.066311</td>\n",
       "      <td>0.894573</td>\n",
       "    </tr>\n",
       "    <tr>\n",
       "      <th>9998</th>\n",
       "      <td>36455</td>\n",
       "      <td>0.031437</td>\n",
       "      <td>0.243165</td>\n",
       "      <td>0.725398</td>\n",
       "    </tr>\n",
       "    <tr>\n",
       "      <th>9999</th>\n",
       "      <td>36456</td>\n",
       "      <td>0.029670</td>\n",
       "      <td>0.266617</td>\n",
       "      <td>0.703713</td>\n",
       "    </tr>\n",
       "  </tbody>\n",
       "</table>\n",
       "<p>10000 rows × 4 columns</p>\n",
       "</div>"
      ],
      "text/plain": [
       "      index         0         1         2\n",
       "0     26457  0.008515  0.223399  0.768086\n",
       "1     26458  0.069156  0.114852  0.815992\n",
       "2     26459  0.032709  0.195448  0.771844\n",
       "3     26460  0.067637  0.188465  0.743897\n",
       "4     26461  0.078516  0.250676  0.670808\n",
       "...     ...       ...       ...       ...\n",
       "9995  36452  0.042416  0.312763  0.644822\n",
       "9996  36453  0.034296  0.381149  0.584556\n",
       "9997  36454  0.039116  0.066311  0.894573\n",
       "9998  36455  0.031437  0.243165  0.725398\n",
       "9999  36456  0.029670  0.266617  0.703713\n",
       "\n",
       "[10000 rows x 4 columns]"
      ]
     },
     "execution_count": 9,
     "metadata": {},
     "output_type": "execute_result"
    }
   ],
   "source": [
    "sample_submission"
   ]
  },
  {
   "cell_type": "code",
   "execution_count": 10,
   "metadata": {
    "executionInfo": {
     "elapsed": 708,
     "status": "ok",
     "timestamp": 1617447993881,
     "user": {
      "displayName": "youtube dacon",
      "photoUrl": "",
      "userId": "00770885000471893693"
     },
     "user_tz": -540
    },
    "id": "nlF0HUn7Sjl-"
   },
   "outputs": [],
   "source": [
    "# sample_submission.to_csv(\"0503_LGBM_ver1.csv\", index = False)"
   ]
  }
 ],
 "metadata": {
  "colab": {
   "authorship_tag": "ABX9TyOYtTkYj21ll5RVdvP7w2Dg",
   "collapsed_sections": [],
   "mount_file_id": "1GxujCu2C6ryL1WOMuQKh_J5qQxiKb6Cf",
   "name": "Baseline.ipynb",
   "provenance": []
  },
  "kernelspec": {
   "display_name": "Python 3",
   "language": "python",
   "name": "python3"
  },
  "language_info": {
   "codemirror_mode": {
    "name": "ipython",
    "version": 3
   },
   "file_extension": ".py",
   "mimetype": "text/x-python",
   "name": "python",
   "nbconvert_exporter": "python",
   "pygments_lexer": "ipython3",
   "version": "3.8.5"
  }
 },
 "nbformat": 4,
 "nbformat_minor": 4
}
