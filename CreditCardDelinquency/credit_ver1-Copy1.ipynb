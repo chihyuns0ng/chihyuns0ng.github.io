{
 "cells": [
  {
   "cell_type": "markdown",
   "metadata": {},
   "source": [
    "# 라이브러리 호출"
   ]
  },
  {
   "cell_type": "code",
   "execution_count": 1,
   "metadata": {
    "executionInfo": {
     "elapsed": 3343,
     "status": "ok",
     "timestamp": 1617445514092,
     "user": {
      "displayName": "youtube dacon",
      "photoUrl": "",
      "userId": "00770885000471893693"
     },
     "user_tz": -540
    },
    "id": "vQ0TeqzQwyH8"
   },
   "outputs": [],
   "source": [
    "import warnings\n",
    "warnings.filterwarnings('ignore')\n",
    "import numpy as np\n",
    "import pandas as pd   \n",
    "import matplotlib.pyplot as plt\n",
    "import seaborn as sns\n",
    "import itertools\n",
    "\n",
    "from sklearn.model_selection import train_test_split\n",
    "from sklearn.metrics import accuracy_score, confusion_matrix, log_loss\n",
    "\n",
    "from sklearn.linear_model import LogisticRegression\n",
    "from sklearn.tree import DecisionTreeClassifier\n",
    "\n",
    "from xgboost import XGBClassifier\n",
    "from lightgbm import LGBMClassifier\n",
    "from catboost import CatBoostClassifier\n",
    "from sklearn import svm\n",
    "from sklearn.ensemble import RandomForestClassifier"
   ]
  },
  {
   "cell_type": "code",
   "execution_count": 2,
   "metadata": {
    "executionInfo": {
     "elapsed": 3337,
     "status": "ok",
     "timestamp": 1617445514093,
     "user": {
      "displayName": "youtube dacon",
      "photoUrl": "",
      "userId": "00770885000471893693"
     },
     "user_tz": -540
    },
    "id": "XhVVKX-QxIUY"
   },
   "outputs": [],
   "source": [
    "train = pd.read_csv(\"train.csv\")\n",
    "test = pd.read_csv(\"test.csv\")\n",
    "sample_submission = pd.read_csv(\"sample_submission.csv\")"
   ]
  },
  {
   "cell_type": "markdown",
   "metadata": {},
   "source": [
    "# 데이터 관찰"
   ]
  },
  {
   "cell_type": "code",
   "execution_count": 3,
   "metadata": {
    "colab": {
     "base_uri": "https://localhost:8080/"
    },
    "executionInfo": {
     "elapsed": 3325,
     "status": "ok",
     "timestamp": 1617445514094,
     "user": {
      "displayName": "youtube dacon",
      "photoUrl": "",
      "userId": "00770885000471893693"
     },
     "user_tz": -540
    },
    "id": "-m77JSgMxIRe",
    "outputId": "89804ed4-b2cf-4ba7-edd5-e1c5bd5ea021"
   },
   "outputs": [
    {
     "data": {
      "text/plain": [
       "(26457, 20)"
      ]
     },
     "execution_count": 3,
     "metadata": {},
     "output_type": "execute_result"
    }
   ],
   "source": [
    "train.shape"
   ]
  },
  {
   "cell_type": "code",
   "execution_count": 4,
   "metadata": {},
   "outputs": [
    {
     "data": {
      "text/plain": [
       "(10000, 19)"
      ]
     },
     "execution_count": 4,
     "metadata": {},
     "output_type": "execute_result"
    }
   ],
   "source": [
    "test.shape"
   ]
  },
  {
   "cell_type": "code",
   "execution_count": 5,
   "metadata": {
    "colab": {
     "base_uri": "https://localhost:8080/",
     "height": 378
    },
    "executionInfo": {
     "elapsed": 3294,
     "status": "ok",
     "timestamp": 1617445514096,
     "user": {
      "displayName": "youtube dacon",
      "photoUrl": "",
      "userId": "00770885000471893693"
     },
     "user_tz": -540
    },
    "id": "5zLv76jUxILk",
    "outputId": "4d0e5e8d-31ef-42f4-ec70-ddeb31b40568",
    "scrolled": true
   },
   "outputs": [
    {
     "data": {
      "text/html": [
       "<div>\n",
       "<style scoped>\n",
       "    .dataframe tbody tr th:only-of-type {\n",
       "        vertical-align: middle;\n",
       "    }\n",
       "\n",
       "    .dataframe tbody tr th {\n",
       "        vertical-align: top;\n",
       "    }\n",
       "\n",
       "    .dataframe thead th {\n",
       "        text-align: right;\n",
       "    }\n",
       "</style>\n",
       "<table border=\"1\" class=\"dataframe\">\n",
       "  <thead>\n",
       "    <tr style=\"text-align: right;\">\n",
       "      <th></th>\n",
       "      <th>index</th>\n",
       "      <th>gender</th>\n",
       "      <th>car</th>\n",
       "      <th>reality</th>\n",
       "      <th>child_num</th>\n",
       "      <th>income_total</th>\n",
       "      <th>income_type</th>\n",
       "      <th>edu_type</th>\n",
       "      <th>family_type</th>\n",
       "      <th>house_type</th>\n",
       "      <th>DAYS_BIRTH</th>\n",
       "      <th>DAYS_EMPLOYED</th>\n",
       "      <th>FLAG_MOBIL</th>\n",
       "      <th>work_phone</th>\n",
       "      <th>phone</th>\n",
       "      <th>email</th>\n",
       "      <th>occyp_type</th>\n",
       "      <th>family_size</th>\n",
       "      <th>begin_month</th>\n",
       "      <th>credit</th>\n",
       "    </tr>\n",
       "  </thead>\n",
       "  <tbody>\n",
       "    <tr>\n",
       "      <th>0</th>\n",
       "      <td>0</td>\n",
       "      <td>F</td>\n",
       "      <td>N</td>\n",
       "      <td>N</td>\n",
       "      <td>0</td>\n",
       "      <td>202500.0</td>\n",
       "      <td>Commercial associate</td>\n",
       "      <td>Higher education</td>\n",
       "      <td>Married</td>\n",
       "      <td>Municipal apartment</td>\n",
       "      <td>-13899</td>\n",
       "      <td>-4709</td>\n",
       "      <td>1</td>\n",
       "      <td>0</td>\n",
       "      <td>0</td>\n",
       "      <td>0</td>\n",
       "      <td>NaN</td>\n",
       "      <td>2.0</td>\n",
       "      <td>-6.0</td>\n",
       "      <td>1.0</td>\n",
       "    </tr>\n",
       "    <tr>\n",
       "      <th>1</th>\n",
       "      <td>1</td>\n",
       "      <td>F</td>\n",
       "      <td>N</td>\n",
       "      <td>Y</td>\n",
       "      <td>1</td>\n",
       "      <td>247500.0</td>\n",
       "      <td>Commercial associate</td>\n",
       "      <td>Secondary / secondary special</td>\n",
       "      <td>Civil marriage</td>\n",
       "      <td>House / apartment</td>\n",
       "      <td>-11380</td>\n",
       "      <td>-1540</td>\n",
       "      <td>1</td>\n",
       "      <td>0</td>\n",
       "      <td>0</td>\n",
       "      <td>1</td>\n",
       "      <td>Laborers</td>\n",
       "      <td>3.0</td>\n",
       "      <td>-5.0</td>\n",
       "      <td>1.0</td>\n",
       "    </tr>\n",
       "    <tr>\n",
       "      <th>2</th>\n",
       "      <td>2</td>\n",
       "      <td>M</td>\n",
       "      <td>Y</td>\n",
       "      <td>Y</td>\n",
       "      <td>0</td>\n",
       "      <td>450000.0</td>\n",
       "      <td>Working</td>\n",
       "      <td>Higher education</td>\n",
       "      <td>Married</td>\n",
       "      <td>House / apartment</td>\n",
       "      <td>-19087</td>\n",
       "      <td>-4434</td>\n",
       "      <td>1</td>\n",
       "      <td>0</td>\n",
       "      <td>1</td>\n",
       "      <td>0</td>\n",
       "      <td>Managers</td>\n",
       "      <td>2.0</td>\n",
       "      <td>-22.0</td>\n",
       "      <td>2.0</td>\n",
       "    </tr>\n",
       "    <tr>\n",
       "      <th>3</th>\n",
       "      <td>3</td>\n",
       "      <td>F</td>\n",
       "      <td>N</td>\n",
       "      <td>Y</td>\n",
       "      <td>0</td>\n",
       "      <td>202500.0</td>\n",
       "      <td>Commercial associate</td>\n",
       "      <td>Secondary / secondary special</td>\n",
       "      <td>Married</td>\n",
       "      <td>House / apartment</td>\n",
       "      <td>-15088</td>\n",
       "      <td>-2092</td>\n",
       "      <td>1</td>\n",
       "      <td>0</td>\n",
       "      <td>1</td>\n",
       "      <td>0</td>\n",
       "      <td>Sales staff</td>\n",
       "      <td>2.0</td>\n",
       "      <td>-37.0</td>\n",
       "      <td>0.0</td>\n",
       "    </tr>\n",
       "    <tr>\n",
       "      <th>4</th>\n",
       "      <td>4</td>\n",
       "      <td>F</td>\n",
       "      <td>Y</td>\n",
       "      <td>Y</td>\n",
       "      <td>0</td>\n",
       "      <td>157500.0</td>\n",
       "      <td>State servant</td>\n",
       "      <td>Higher education</td>\n",
       "      <td>Married</td>\n",
       "      <td>House / apartment</td>\n",
       "      <td>-15037</td>\n",
       "      <td>-2105</td>\n",
       "      <td>1</td>\n",
       "      <td>0</td>\n",
       "      <td>0</td>\n",
       "      <td>0</td>\n",
       "      <td>Managers</td>\n",
       "      <td>2.0</td>\n",
       "      <td>-26.0</td>\n",
       "      <td>2.0</td>\n",
       "    </tr>\n",
       "  </tbody>\n",
       "</table>\n",
       "</div>"
      ],
      "text/plain": [
       "   index gender car reality  child_num  income_total           income_type  \\\n",
       "0      0      F   N       N          0      202500.0  Commercial associate   \n",
       "1      1      F   N       Y          1      247500.0  Commercial associate   \n",
       "2      2      M   Y       Y          0      450000.0               Working   \n",
       "3      3      F   N       Y          0      202500.0  Commercial associate   \n",
       "4      4      F   Y       Y          0      157500.0         State servant   \n",
       "\n",
       "                        edu_type     family_type           house_type  \\\n",
       "0               Higher education         Married  Municipal apartment   \n",
       "1  Secondary / secondary special  Civil marriage    House / apartment   \n",
       "2               Higher education         Married    House / apartment   \n",
       "3  Secondary / secondary special         Married    House / apartment   \n",
       "4               Higher education         Married    House / apartment   \n",
       "\n",
       "   DAYS_BIRTH  DAYS_EMPLOYED  FLAG_MOBIL  work_phone  phone  email  \\\n",
       "0      -13899          -4709           1           0      0      0   \n",
       "1      -11380          -1540           1           0      0      1   \n",
       "2      -19087          -4434           1           0      1      0   \n",
       "3      -15088          -2092           1           0      1      0   \n",
       "4      -15037          -2105           1           0      0      0   \n",
       "\n",
       "    occyp_type  family_size  begin_month  credit  \n",
       "0          NaN          2.0         -6.0     1.0  \n",
       "1     Laborers          3.0         -5.0     1.0  \n",
       "2     Managers          2.0        -22.0     2.0  \n",
       "3  Sales staff          2.0        -37.0     0.0  \n",
       "4     Managers          2.0        -26.0     2.0  "
      ]
     },
     "execution_count": 5,
     "metadata": {},
     "output_type": "execute_result"
    }
   ],
   "source": [
    "train.head()"
   ]
  },
  {
   "cell_type": "code",
   "execution_count": 6,
   "metadata": {},
   "outputs": [
    {
     "data": {
      "text/html": [
       "<div>\n",
       "<style scoped>\n",
       "    .dataframe tbody tr th:only-of-type {\n",
       "        vertical-align: middle;\n",
       "    }\n",
       "\n",
       "    .dataframe tbody tr th {\n",
       "        vertical-align: top;\n",
       "    }\n",
       "\n",
       "    .dataframe thead th {\n",
       "        text-align: right;\n",
       "    }\n",
       "</style>\n",
       "<table border=\"1\" class=\"dataframe\">\n",
       "  <thead>\n",
       "    <tr style=\"text-align: right;\">\n",
       "      <th></th>\n",
       "      <th>index</th>\n",
       "      <th>gender</th>\n",
       "      <th>car</th>\n",
       "      <th>reality</th>\n",
       "      <th>child_num</th>\n",
       "      <th>income_total</th>\n",
       "      <th>income_type</th>\n",
       "      <th>edu_type</th>\n",
       "      <th>family_type</th>\n",
       "      <th>house_type</th>\n",
       "      <th>DAYS_BIRTH</th>\n",
       "      <th>DAYS_EMPLOYED</th>\n",
       "      <th>FLAG_MOBIL</th>\n",
       "      <th>work_phone</th>\n",
       "      <th>phone</th>\n",
       "      <th>email</th>\n",
       "      <th>occyp_type</th>\n",
       "      <th>family_size</th>\n",
       "      <th>begin_month</th>\n",
       "    </tr>\n",
       "  </thead>\n",
       "  <tbody>\n",
       "    <tr>\n",
       "      <th>0</th>\n",
       "      <td>26457</td>\n",
       "      <td>M</td>\n",
       "      <td>Y</td>\n",
       "      <td>N</td>\n",
       "      <td>0</td>\n",
       "      <td>112500.0</td>\n",
       "      <td>Pensioner</td>\n",
       "      <td>Secondary / secondary special</td>\n",
       "      <td>Civil marriage</td>\n",
       "      <td>House / apartment</td>\n",
       "      <td>-21990</td>\n",
       "      <td>365243</td>\n",
       "      <td>1</td>\n",
       "      <td>0</td>\n",
       "      <td>1</td>\n",
       "      <td>0</td>\n",
       "      <td>NaN</td>\n",
       "      <td>2.0</td>\n",
       "      <td>-60.0</td>\n",
       "    </tr>\n",
       "    <tr>\n",
       "      <th>1</th>\n",
       "      <td>26458</td>\n",
       "      <td>F</td>\n",
       "      <td>N</td>\n",
       "      <td>Y</td>\n",
       "      <td>0</td>\n",
       "      <td>135000.0</td>\n",
       "      <td>State servant</td>\n",
       "      <td>Higher education</td>\n",
       "      <td>Married</td>\n",
       "      <td>House / apartment</td>\n",
       "      <td>-18964</td>\n",
       "      <td>-8671</td>\n",
       "      <td>1</td>\n",
       "      <td>0</td>\n",
       "      <td>1</td>\n",
       "      <td>0</td>\n",
       "      <td>Core staff</td>\n",
       "      <td>2.0</td>\n",
       "      <td>-36.0</td>\n",
       "    </tr>\n",
       "    <tr>\n",
       "      <th>2</th>\n",
       "      <td>26459</td>\n",
       "      <td>F</td>\n",
       "      <td>N</td>\n",
       "      <td>Y</td>\n",
       "      <td>0</td>\n",
       "      <td>69372.0</td>\n",
       "      <td>Working</td>\n",
       "      <td>Secondary / secondary special</td>\n",
       "      <td>Married</td>\n",
       "      <td>House / apartment</td>\n",
       "      <td>-15887</td>\n",
       "      <td>-217</td>\n",
       "      <td>1</td>\n",
       "      <td>1</td>\n",
       "      <td>1</td>\n",
       "      <td>0</td>\n",
       "      <td>Laborers</td>\n",
       "      <td>2.0</td>\n",
       "      <td>-40.0</td>\n",
       "    </tr>\n",
       "    <tr>\n",
       "      <th>3</th>\n",
       "      <td>26460</td>\n",
       "      <td>M</td>\n",
       "      <td>Y</td>\n",
       "      <td>N</td>\n",
       "      <td>0</td>\n",
       "      <td>112500.0</td>\n",
       "      <td>Commercial associate</td>\n",
       "      <td>Secondary / secondary special</td>\n",
       "      <td>Married</td>\n",
       "      <td>House / apartment</td>\n",
       "      <td>-19270</td>\n",
       "      <td>-2531</td>\n",
       "      <td>1</td>\n",
       "      <td>1</td>\n",
       "      <td>0</td>\n",
       "      <td>0</td>\n",
       "      <td>Drivers</td>\n",
       "      <td>2.0</td>\n",
       "      <td>-41.0</td>\n",
       "    </tr>\n",
       "    <tr>\n",
       "      <th>4</th>\n",
       "      <td>26461</td>\n",
       "      <td>F</td>\n",
       "      <td>Y</td>\n",
       "      <td>Y</td>\n",
       "      <td>0</td>\n",
       "      <td>225000.0</td>\n",
       "      <td>State servant</td>\n",
       "      <td>Higher education</td>\n",
       "      <td>Married</td>\n",
       "      <td>House / apartment</td>\n",
       "      <td>-17822</td>\n",
       "      <td>-9385</td>\n",
       "      <td>1</td>\n",
       "      <td>1</td>\n",
       "      <td>0</td>\n",
       "      <td>0</td>\n",
       "      <td>Managers</td>\n",
       "      <td>2.0</td>\n",
       "      <td>-8.0</td>\n",
       "    </tr>\n",
       "  </tbody>\n",
       "</table>\n",
       "</div>"
      ],
      "text/plain": [
       "   index gender car reality  child_num  income_total           income_type  \\\n",
       "0  26457      M   Y       N          0      112500.0             Pensioner   \n",
       "1  26458      F   N       Y          0      135000.0         State servant   \n",
       "2  26459      F   N       Y          0       69372.0               Working   \n",
       "3  26460      M   Y       N          0      112500.0  Commercial associate   \n",
       "4  26461      F   Y       Y          0      225000.0         State servant   \n",
       "\n",
       "                        edu_type     family_type         house_type  \\\n",
       "0  Secondary / secondary special  Civil marriage  House / apartment   \n",
       "1               Higher education         Married  House / apartment   \n",
       "2  Secondary / secondary special         Married  House / apartment   \n",
       "3  Secondary / secondary special         Married  House / apartment   \n",
       "4               Higher education         Married  House / apartment   \n",
       "\n",
       "   DAYS_BIRTH  DAYS_EMPLOYED  FLAG_MOBIL  work_phone  phone  email  \\\n",
       "0      -21990         365243           1           0      1      0   \n",
       "1      -18964          -8671           1           0      1      0   \n",
       "2      -15887           -217           1           1      1      0   \n",
       "3      -19270          -2531           1           1      0      0   \n",
       "4      -17822          -9385           1           1      0      0   \n",
       "\n",
       "   occyp_type  family_size  begin_month  \n",
       "0         NaN          2.0        -60.0  \n",
       "1  Core staff          2.0        -36.0  \n",
       "2    Laborers          2.0        -40.0  \n",
       "3     Drivers          2.0        -41.0  \n",
       "4    Managers          2.0         -8.0  "
      ]
     },
     "execution_count": 6,
     "metadata": {},
     "output_type": "execute_result"
    }
   ],
   "source": [
    "test.head()"
   ]
  },
  {
   "cell_type": "code",
   "execution_count": 7,
   "metadata": {
    "colab": {
     "base_uri": "https://localhost:8080/"
    },
    "executionInfo": {
     "elapsed": 3311,
     "status": "ok",
     "timestamp": 1617445514095,
     "user": {
      "displayName": "youtube dacon",
      "photoUrl": "",
      "userId": "00770885000471893693"
     },
     "user_tz": -540
    },
    "id": "oqfpLpzmxIPz",
    "outputId": "5bd5d916-7be0-4d48-df6a-646ddb1e2954"
   },
   "outputs": [
    {
     "name": "stdout",
     "output_type": "stream",
     "text": [
      "<class 'pandas.core.frame.DataFrame'>\n",
      "RangeIndex: 26457 entries, 0 to 26456\n",
      "Data columns (total 20 columns):\n",
      " #   Column         Non-Null Count  Dtype  \n",
      "---  ------         --------------  -----  \n",
      " 0   index          26457 non-null  int64  \n",
      " 1   gender         26457 non-null  object \n",
      " 2   car            26457 non-null  object \n",
      " 3   reality        26457 non-null  object \n",
      " 4   child_num      26457 non-null  int64  \n",
      " 5   income_total   26457 non-null  float64\n",
      " 6   income_type    26457 non-null  object \n",
      " 7   edu_type       26457 non-null  object \n",
      " 8   family_type    26457 non-null  object \n",
      " 9   house_type     26457 non-null  object \n",
      " 10  DAYS_BIRTH     26457 non-null  int64  \n",
      " 11  DAYS_EMPLOYED  26457 non-null  int64  \n",
      " 12  FLAG_MOBIL     26457 non-null  int64  \n",
      " 13  work_phone     26457 non-null  int64  \n",
      " 14  phone          26457 non-null  int64  \n",
      " 15  email          26457 non-null  int64  \n",
      " 16  occyp_type     18286 non-null  object \n",
      " 17  family_size    26457 non-null  float64\n",
      " 18  begin_month    26457 non-null  float64\n",
      " 19  credit         26457 non-null  float64\n",
      "dtypes: float64(4), int64(8), object(8)\n",
      "memory usage: 4.0+ MB\n"
     ]
    }
   ],
   "source": [
    "train.info()"
   ]
  },
  {
   "cell_type": "markdown",
   "metadata": {},
   "source": [
    "# 전처리"
   ]
  },
  {
   "cell_type": "code",
   "execution_count": 8,
   "metadata": {
    "executionInfo": {
     "elapsed": 3281,
     "status": "ok",
     "timestamp": 1617445514097,
     "user": {
      "displayName": "youtube dacon",
      "photoUrl": "",
      "userId": "00770885000471893693"
     },
     "user_tz": -540
    },
    "id": "4F_stBMlxIEH"
   },
   "outputs": [],
   "source": [
    "data = pd.concat([train, test], axis = 0)"
   ]
  },
  {
   "cell_type": "code",
   "execution_count": 9,
   "metadata": {
    "colab": {
     "base_uri": "https://localhost:8080/"
    },
    "executionInfo": {
     "elapsed": 3272,
     "status": "ok",
     "timestamp": 1617445514098,
     "user": {
      "displayName": "youtube dacon",
      "photoUrl": "",
      "userId": "00770885000471893693"
     },
     "user_tz": -540
    },
    "id": "J-tQQLGpDcs8",
    "outputId": "b00bc8ea-ddb1-4d22-e84d-5a34ad5aec5c"
   },
   "outputs": [
    {
     "data": {
      "text/plain": [
       "index                0\n",
       "gender               0\n",
       "car                  0\n",
       "reality              0\n",
       "child_num            0\n",
       "income_total         0\n",
       "income_type          0\n",
       "edu_type             0\n",
       "family_type          0\n",
       "house_type           0\n",
       "DAYS_BIRTH           0\n",
       "DAYS_EMPLOYED        0\n",
       "FLAG_MOBIL           0\n",
       "work_phone           0\n",
       "phone                0\n",
       "email                0\n",
       "occyp_type       11323\n",
       "family_size          0\n",
       "begin_month          0\n",
       "credit           10000\n",
       "dtype: int64"
      ]
     },
     "execution_count": 9,
     "metadata": {},
     "output_type": "execute_result"
    }
   ],
   "source": [
    "data.isnull().sum()"
   ]
  },
  {
   "cell_type": "code",
   "execution_count": 8,
   "metadata": {
    "executionInfo": {
     "elapsed": 3264,
     "status": "ok",
     "timestamp": 1617445514100,
     "user": {
      "displayName": "youtube dacon",
      "photoUrl": "",
      "userId": "00770885000471893693"
     },
     "user_tz": -540
    },
    "id": "d_bkSsUNDcoV"
   },
   "outputs": [],
   "source": [
    "# data = data.drop(\"occyp_type\", axis = 1)"
   ]
  },
  {
   "cell_type": "code",
   "execution_count": 10,
   "metadata": {
    "colab": {
     "base_uri": "https://localhost:8080/"
    },
    "executionInfo": {
     "elapsed": 3254,
     "status": "ok",
     "timestamp": 1617445514101,
     "user": {
      "displayName": "youtube dacon",
      "photoUrl": "",
      "userId": "00770885000471893693"
     },
     "user_tz": -540
    },
    "id": "Uptc_IAoDcmN",
    "outputId": "2651a6b4-8f47-43fd-f018-45b1ffc1497c"
   },
   "outputs": [
    {
     "data": {
      "text/plain": [
       "index                0\n",
       "gender               0\n",
       "car                  0\n",
       "reality              0\n",
       "child_num            0\n",
       "income_total         0\n",
       "income_type          0\n",
       "edu_type             0\n",
       "family_type          0\n",
       "house_type           0\n",
       "DAYS_BIRTH           0\n",
       "DAYS_EMPLOYED        0\n",
       "FLAG_MOBIL           0\n",
       "work_phone           0\n",
       "phone                0\n",
       "email                0\n",
       "occyp_type       11323\n",
       "family_size          0\n",
       "begin_month          0\n",
       "credit           10000\n",
       "dtype: int64"
      ]
     },
     "execution_count": 10,
     "metadata": {},
     "output_type": "execute_result"
    }
   ],
   "source": [
    "data.isnull().sum()"
   ]
  },
  {
   "cell_type": "code",
   "execution_count": 11,
   "metadata": {
    "colab": {
     "base_uri": "https://localhost:8080/"
    },
    "executionInfo": {
     "elapsed": 3239,
     "status": "ok",
     "timestamp": 1617445514102,
     "user": {
      "displayName": "youtube dacon",
      "photoUrl": "",
      "userId": "00770885000471893693"
     },
     "user_tz": -540
    },
    "id": "kgX2qawWDcj9",
    "outputId": "3354ac39-75dc-4e94-b23b-48758381b9f9"
   },
   "outputs": [
    {
     "data": {
      "text/plain": [
       "2"
      ]
     },
     "execution_count": 11,
     "metadata": {},
     "output_type": "execute_result"
    }
   ],
   "source": [
    "len(data['gender'].unique())"
   ]
  },
  {
   "cell_type": "code",
   "execution_count": 12,
   "metadata": {
    "executionInfo": {
     "elapsed": 3230,
     "status": "ok",
     "timestamp": 1617445514103,
     "user": {
      "displayName": "youtube dacon",
      "photoUrl": "",
      "userId": "00770885000471893693"
     },
     "user_tz": -540
    },
    "id": "4rjWkfEXDch1"
   },
   "outputs": [],
   "source": [
    "unique_len = data.apply(lambda x : len(x.unique()))"
   ]
  },
  {
   "cell_type": "code",
   "execution_count": 13,
   "metadata": {
    "colab": {
     "base_uri": "https://localhost:8080/"
    },
    "executionInfo": {
     "elapsed": 3221,
     "status": "ok",
     "timestamp": 1617445514104,
     "user": {
      "displayName": "youtube dacon",
      "photoUrl": "",
      "userId": "00770885000471893693"
     },
     "user_tz": -540
    },
    "id": "d164flCfDcfa",
    "outputId": "6ac51e63-4401-46de-eb29-cc1d5a896024"
   },
   "outputs": [
    {
     "data": {
      "text/plain": [
       "index            36457\n",
       "gender               2\n",
       "car                  2\n",
       "reality              2\n",
       "child_num            9\n",
       "income_total       265\n",
       "income_type          5\n",
       "edu_type             5\n",
       "family_type          5\n",
       "house_type           6\n",
       "DAYS_BIRTH        7183\n",
       "DAYS_EMPLOYED     3640\n",
       "FLAG_MOBIL           1\n",
       "work_phone           2\n",
       "phone                2\n",
       "email                2\n",
       "occyp_type          19\n",
       "family_size         10\n",
       "begin_month         61\n",
       "credit               4\n",
       "dtype: int64"
      ]
     },
     "execution_count": 13,
     "metadata": {},
     "output_type": "execute_result"
    }
   ],
   "source": [
    "unique_len"
   ]
  },
  {
   "cell_type": "code",
   "execution_count": 14,
   "metadata": {
    "colab": {
     "base_uri": "https://localhost:8080/"
    },
    "executionInfo": {
     "elapsed": 3208,
     "status": "ok",
     "timestamp": 1617445514105,
     "user": {
      "displayName": "youtube dacon",
      "photoUrl": "",
      "userId": "00770885000471893693"
     },
     "user_tz": -540
    },
    "id": "JA_z-Vo9wx2O",
    "outputId": "88d78a2d-7de5-4221-b69e-f96437bdfae0"
   },
   "outputs": [
    {
     "data": {
      "text/plain": [
       "Index(['gender', 'car', 'reality', 'FLAG_MOBIL', 'work_phone', 'phone',\n",
       "       'email'],\n",
       "      dtype='object')"
      ]
     },
     "execution_count": 14,
     "metadata": {},
     "output_type": "execute_result"
    }
   ],
   "source": [
    "group_1 = unique_len[unique_len <= 2].index\n",
    "group_1"
   ]
  },
  {
   "cell_type": "code",
   "execution_count": 15,
   "metadata": {
    "colab": {
     "base_uri": "https://localhost:8080/"
    },
    "executionInfo": {
     "elapsed": 3195,
     "status": "ok",
     "timestamp": 1617445514106,
     "user": {
      "displayName": "youtube dacon",
      "photoUrl": "",
      "userId": "00770885000471893693"
     },
     "user_tz": -540
    },
    "id": "uGpyBn5PwxzI",
    "outputId": "43b6eaad-b912-4e1d-946a-0a7552143dd8"
   },
   "outputs": [
    {
     "data": {
      "text/plain": [
       "Index(['child_num', 'income_type', 'edu_type', 'family_type', 'house_type',\n",
       "       'family_size', 'credit'],\n",
       "      dtype='object')"
      ]
     },
     "execution_count": 15,
     "metadata": {},
     "output_type": "execute_result"
    }
   ],
   "source": [
    "group_2 = unique_len[(unique_len > 2)\\\n",
    "             & (unique_len <= 10)].index\n",
    "group_2"
   ]
  },
  {
   "cell_type": "code",
   "execution_count": 16,
   "metadata": {
    "colab": {
     "base_uri": "https://localhost:8080/"
    },
    "executionInfo": {
     "elapsed": 3178,
     "status": "ok",
     "timestamp": 1617445514107,
     "user": {
      "displayName": "youtube dacon",
      "photoUrl": "",
      "userId": "00770885000471893693"
     },
     "user_tz": -540
    },
    "id": "8mRNQuQFwxwl",
    "outputId": "00c2fa43-7c1a-40a5-989c-7c39417bcb57"
   },
   "outputs": [
    {
     "data": {
      "text/plain": [
       "Index(['index', 'income_total', 'DAYS_BIRTH', 'DAYS_EMPLOYED', 'occyp_type',\n",
       "       'begin_month'],\n",
       "      dtype='object')"
      ]
     },
     "execution_count": 16,
     "metadata": {},
     "output_type": "execute_result"
    }
   ],
   "source": [
    "group_3 = unique_len[(unique_len > 10)].index\n",
    "group_3"
   ]
  },
  {
   "cell_type": "markdown",
   "metadata": {},
   "source": [
    "## group_1"
   ]
  },
  {
   "cell_type": "code",
   "execution_count": 17,
   "metadata": {
    "colab": {
     "base_uri": "https://localhost:8080/",
     "height": 415
    },
    "executionInfo": {
     "elapsed": 3562,
     "status": "ok",
     "timestamp": 1617445514508,
     "user": {
      "displayName": "youtube dacon",
      "photoUrl": "",
      "userId": "00770885000471893693"
     },
     "user_tz": -540
    },
    "id": "vnStrUnmZWId",
    "outputId": "a2e0b64b-3797-4a94-cd46-4b34b470d28c"
   },
   "outputs": [
    {
     "data": {
      "text/html": [
       "<div>\n",
       "<style scoped>\n",
       "    .dataframe tbody tr th:only-of-type {\n",
       "        vertical-align: middle;\n",
       "    }\n",
       "\n",
       "    .dataframe tbody tr th {\n",
       "        vertical-align: top;\n",
       "    }\n",
       "\n",
       "    .dataframe thead th {\n",
       "        text-align: right;\n",
       "    }\n",
       "</style>\n",
       "<table border=\"1\" class=\"dataframe\">\n",
       "  <thead>\n",
       "    <tr style=\"text-align: right;\">\n",
       "      <th></th>\n",
       "      <th>gender</th>\n",
       "      <th>car</th>\n",
       "      <th>reality</th>\n",
       "      <th>FLAG_MOBIL</th>\n",
       "      <th>work_phone</th>\n",
       "      <th>phone</th>\n",
       "      <th>email</th>\n",
       "    </tr>\n",
       "  </thead>\n",
       "  <tbody>\n",
       "    <tr>\n",
       "      <th>0</th>\n",
       "      <td>F</td>\n",
       "      <td>N</td>\n",
       "      <td>N</td>\n",
       "      <td>1</td>\n",
       "      <td>0</td>\n",
       "      <td>0</td>\n",
       "      <td>0</td>\n",
       "    </tr>\n",
       "    <tr>\n",
       "      <th>1</th>\n",
       "      <td>F</td>\n",
       "      <td>N</td>\n",
       "      <td>Y</td>\n",
       "      <td>1</td>\n",
       "      <td>0</td>\n",
       "      <td>0</td>\n",
       "      <td>1</td>\n",
       "    </tr>\n",
       "    <tr>\n",
       "      <th>2</th>\n",
       "      <td>M</td>\n",
       "      <td>Y</td>\n",
       "      <td>Y</td>\n",
       "      <td>1</td>\n",
       "      <td>0</td>\n",
       "      <td>1</td>\n",
       "      <td>0</td>\n",
       "    </tr>\n",
       "    <tr>\n",
       "      <th>3</th>\n",
       "      <td>F</td>\n",
       "      <td>N</td>\n",
       "      <td>Y</td>\n",
       "      <td>1</td>\n",
       "      <td>0</td>\n",
       "      <td>1</td>\n",
       "      <td>0</td>\n",
       "    </tr>\n",
       "    <tr>\n",
       "      <th>4</th>\n",
       "      <td>F</td>\n",
       "      <td>Y</td>\n",
       "      <td>Y</td>\n",
       "      <td>1</td>\n",
       "      <td>0</td>\n",
       "      <td>0</td>\n",
       "      <td>0</td>\n",
       "    </tr>\n",
       "    <tr>\n",
       "      <th>...</th>\n",
       "      <td>...</td>\n",
       "      <td>...</td>\n",
       "      <td>...</td>\n",
       "      <td>...</td>\n",
       "      <td>...</td>\n",
       "      <td>...</td>\n",
       "      <td>...</td>\n",
       "    </tr>\n",
       "    <tr>\n",
       "      <th>9995</th>\n",
       "      <td>F</td>\n",
       "      <td>Y</td>\n",
       "      <td>Y</td>\n",
       "      <td>1</td>\n",
       "      <td>1</td>\n",
       "      <td>1</td>\n",
       "      <td>0</td>\n",
       "    </tr>\n",
       "    <tr>\n",
       "      <th>9996</th>\n",
       "      <td>M</td>\n",
       "      <td>Y</td>\n",
       "      <td>Y</td>\n",
       "      <td>1</td>\n",
       "      <td>1</td>\n",
       "      <td>0</td>\n",
       "      <td>0</td>\n",
       "    </tr>\n",
       "    <tr>\n",
       "      <th>9997</th>\n",
       "      <td>F</td>\n",
       "      <td>N</td>\n",
       "      <td>Y</td>\n",
       "      <td>1</td>\n",
       "      <td>0</td>\n",
       "      <td>0</td>\n",
       "      <td>0</td>\n",
       "    </tr>\n",
       "    <tr>\n",
       "      <th>9998</th>\n",
       "      <td>F</td>\n",
       "      <td>Y</td>\n",
       "      <td>N</td>\n",
       "      <td>1</td>\n",
       "      <td>0</td>\n",
       "      <td>1</td>\n",
       "      <td>0</td>\n",
       "    </tr>\n",
       "    <tr>\n",
       "      <th>9999</th>\n",
       "      <td>F</td>\n",
       "      <td>N</td>\n",
       "      <td>Y</td>\n",
       "      <td>1</td>\n",
       "      <td>0</td>\n",
       "      <td>0</td>\n",
       "      <td>1</td>\n",
       "    </tr>\n",
       "  </tbody>\n",
       "</table>\n",
       "<p>36457 rows × 7 columns</p>\n",
       "</div>"
      ],
      "text/plain": [
       "     gender car reality  FLAG_MOBIL  work_phone  phone  email\n",
       "0         F   N       N           1           0      0      0\n",
       "1         F   N       Y           1           0      0      1\n",
       "2         M   Y       Y           1           0      1      0\n",
       "3         F   N       Y           1           0      1      0\n",
       "4         F   Y       Y           1           0      0      0\n",
       "...     ...  ..     ...         ...         ...    ...    ...\n",
       "9995      F   Y       Y           1           1      1      0\n",
       "9996      M   Y       Y           1           1      0      0\n",
       "9997      F   N       Y           1           0      0      0\n",
       "9998      F   Y       N           1           0      1      0\n",
       "9999      F   N       Y           1           0      0      1\n",
       "\n",
       "[36457 rows x 7 columns]"
      ]
     },
     "execution_count": 17,
     "metadata": {},
     "output_type": "execute_result"
    }
   ],
   "source": [
    "data[group_1]"
   ]
  },
  {
   "cell_type": "code",
   "execution_count": 18,
   "metadata": {
    "colab": {
     "base_uri": "https://localhost:8080/"
    },
    "executionInfo": {
     "elapsed": 3546,
     "status": "ok",
     "timestamp": 1617445514510,
     "user": {
      "displayName": "youtube dacon",
      "photoUrl": "",
      "userId": "00770885000471893693"
     },
     "user_tz": -540
    },
    "id": "z-8g1ZERZWGp",
    "outputId": "c1c22793-9633-46f2-f6de-922ee7652bd5"
   },
   "outputs": [
    {
     "data": {
      "text/plain": [
       "array(['F', 'M'], dtype=object)"
      ]
     },
     "execution_count": 18,
     "metadata": {},
     "output_type": "execute_result"
    }
   ],
   "source": [
    "data['gender'].unique()"
   ]
  },
  {
   "cell_type": "code",
   "execution_count": 19,
   "metadata": {
    "colab": {
     "base_uri": "https://localhost:8080/"
    },
    "executionInfo": {
     "elapsed": 3532,
     "status": "ok",
     "timestamp": 1617445514511,
     "user": {
      "displayName": "youtube dacon",
      "photoUrl": "",
      "userId": "00770885000471893693"
     },
     "user_tz": -540
    },
    "id": "jZNrLl9IIwFk",
    "outputId": "7e69c6bd-c782-476b-b394-2b60be94d655"
   },
   "outputs": [
    {
     "data": {
      "text/plain": [
       "0       F\n",
       "1       F\n",
       "2       M\n",
       "3       F\n",
       "4       F\n",
       "       ..\n",
       "9995    F\n",
       "9996    M\n",
       "9997    F\n",
       "9998    F\n",
       "9999    F\n",
       "Name: gender, Length: 36457, dtype: object"
      ]
     },
     "execution_count": 19,
     "metadata": {},
     "output_type": "execute_result"
    }
   ],
   "source": [
    "data['gender']"
   ]
  },
  {
   "cell_type": "code",
   "execution_count": 20,
   "metadata": {
    "executionInfo": {
     "elapsed": 3521,
     "status": "ok",
     "timestamp": 1617445514512,
     "user": {
      "displayName": "youtube dacon",
      "photoUrl": "",
      "userId": "00770885000471893693"
     },
     "user_tz": -540
    },
    "id": "k67KqEL8ZWEI"
   },
   "outputs": [],
   "source": [
    "data['gender'] = data['gender'].replace(['F','M'], [0,  1])"
   ]
  },
  {
   "cell_type": "code",
   "execution_count": 21,
   "metadata": {
    "colab": {
     "base_uri": "https://localhost:8080/"
    },
    "executionInfo": {
     "elapsed": 3511,
     "status": "ok",
     "timestamp": 1617445514514,
     "user": {
      "displayName": "youtube dacon",
      "photoUrl": "",
      "userId": "00770885000471893693"
     },
     "user_tz": -540
    },
    "id": "cd0SokncZWBz",
    "outputId": "2b07f36f-fcae-4fdf-ab99-1fe5f42ded12"
   },
   "outputs": [
    {
     "data": {
      "text/plain": [
       "0       0\n",
       "1       0\n",
       "2       1\n",
       "3       0\n",
       "4       0\n",
       "       ..\n",
       "9995    0\n",
       "9996    1\n",
       "9997    0\n",
       "9998    0\n",
       "9999    0\n",
       "Name: gender, Length: 36457, dtype: int64"
      ]
     },
     "execution_count": 21,
     "metadata": {},
     "output_type": "execute_result"
    }
   ],
   "source": [
    "data['gender']"
   ]
  },
  {
   "cell_type": "code",
   "execution_count": 22,
   "metadata": {
    "colab": {
     "base_uri": "https://localhost:8080/",
     "height": 415
    },
    "executionInfo": {
     "elapsed": 3498,
     "status": "ok",
     "timestamp": 1617445514515,
     "user": {
      "displayName": "youtube dacon",
      "photoUrl": "",
      "userId": "00770885000471893693"
     },
     "user_tz": -540
    },
    "id": "-dfo4cI5ZV_p",
    "outputId": "bc4db80b-c79f-41c0-fded-a43f4055b3ac"
   },
   "outputs": [
    {
     "data": {
      "text/html": [
       "<div>\n",
       "<style scoped>\n",
       "    .dataframe tbody tr th:only-of-type {\n",
       "        vertical-align: middle;\n",
       "    }\n",
       "\n",
       "    .dataframe tbody tr th {\n",
       "        vertical-align: top;\n",
       "    }\n",
       "\n",
       "    .dataframe thead th {\n",
       "        text-align: right;\n",
       "    }\n",
       "</style>\n",
       "<table border=\"1\" class=\"dataframe\">\n",
       "  <thead>\n",
       "    <tr style=\"text-align: right;\">\n",
       "      <th></th>\n",
       "      <th>gender</th>\n",
       "      <th>car</th>\n",
       "      <th>reality</th>\n",
       "      <th>FLAG_MOBIL</th>\n",
       "      <th>work_phone</th>\n",
       "      <th>phone</th>\n",
       "      <th>email</th>\n",
       "    </tr>\n",
       "  </thead>\n",
       "  <tbody>\n",
       "    <tr>\n",
       "      <th>0</th>\n",
       "      <td>0</td>\n",
       "      <td>N</td>\n",
       "      <td>N</td>\n",
       "      <td>1</td>\n",
       "      <td>0</td>\n",
       "      <td>0</td>\n",
       "      <td>0</td>\n",
       "    </tr>\n",
       "    <tr>\n",
       "      <th>1</th>\n",
       "      <td>0</td>\n",
       "      <td>N</td>\n",
       "      <td>Y</td>\n",
       "      <td>1</td>\n",
       "      <td>0</td>\n",
       "      <td>0</td>\n",
       "      <td>1</td>\n",
       "    </tr>\n",
       "    <tr>\n",
       "      <th>2</th>\n",
       "      <td>1</td>\n",
       "      <td>Y</td>\n",
       "      <td>Y</td>\n",
       "      <td>1</td>\n",
       "      <td>0</td>\n",
       "      <td>1</td>\n",
       "      <td>0</td>\n",
       "    </tr>\n",
       "    <tr>\n",
       "      <th>3</th>\n",
       "      <td>0</td>\n",
       "      <td>N</td>\n",
       "      <td>Y</td>\n",
       "      <td>1</td>\n",
       "      <td>0</td>\n",
       "      <td>1</td>\n",
       "      <td>0</td>\n",
       "    </tr>\n",
       "    <tr>\n",
       "      <th>4</th>\n",
       "      <td>0</td>\n",
       "      <td>Y</td>\n",
       "      <td>Y</td>\n",
       "      <td>1</td>\n",
       "      <td>0</td>\n",
       "      <td>0</td>\n",
       "      <td>0</td>\n",
       "    </tr>\n",
       "    <tr>\n",
       "      <th>...</th>\n",
       "      <td>...</td>\n",
       "      <td>...</td>\n",
       "      <td>...</td>\n",
       "      <td>...</td>\n",
       "      <td>...</td>\n",
       "      <td>...</td>\n",
       "      <td>...</td>\n",
       "    </tr>\n",
       "    <tr>\n",
       "      <th>9995</th>\n",
       "      <td>0</td>\n",
       "      <td>Y</td>\n",
       "      <td>Y</td>\n",
       "      <td>1</td>\n",
       "      <td>1</td>\n",
       "      <td>1</td>\n",
       "      <td>0</td>\n",
       "    </tr>\n",
       "    <tr>\n",
       "      <th>9996</th>\n",
       "      <td>1</td>\n",
       "      <td>Y</td>\n",
       "      <td>Y</td>\n",
       "      <td>1</td>\n",
       "      <td>1</td>\n",
       "      <td>0</td>\n",
       "      <td>0</td>\n",
       "    </tr>\n",
       "    <tr>\n",
       "      <th>9997</th>\n",
       "      <td>0</td>\n",
       "      <td>N</td>\n",
       "      <td>Y</td>\n",
       "      <td>1</td>\n",
       "      <td>0</td>\n",
       "      <td>0</td>\n",
       "      <td>0</td>\n",
       "    </tr>\n",
       "    <tr>\n",
       "      <th>9998</th>\n",
       "      <td>0</td>\n",
       "      <td>Y</td>\n",
       "      <td>N</td>\n",
       "      <td>1</td>\n",
       "      <td>0</td>\n",
       "      <td>1</td>\n",
       "      <td>0</td>\n",
       "    </tr>\n",
       "    <tr>\n",
       "      <th>9999</th>\n",
       "      <td>0</td>\n",
       "      <td>N</td>\n",
       "      <td>Y</td>\n",
       "      <td>1</td>\n",
       "      <td>0</td>\n",
       "      <td>0</td>\n",
       "      <td>1</td>\n",
       "    </tr>\n",
       "  </tbody>\n",
       "</table>\n",
       "<p>36457 rows × 7 columns</p>\n",
       "</div>"
      ],
      "text/plain": [
       "      gender car reality  FLAG_MOBIL  work_phone  phone  email\n",
       "0          0   N       N           1           0      0      0\n",
       "1          0   N       Y           1           0      0      1\n",
       "2          1   Y       Y           1           0      1      0\n",
       "3          0   N       Y           1           0      1      0\n",
       "4          0   Y       Y           1           0      0      0\n",
       "...      ...  ..     ...         ...         ...    ...    ...\n",
       "9995       0   Y       Y           1           1      1      0\n",
       "9996       1   Y       Y           1           1      0      0\n",
       "9997       0   N       Y           1           0      0      0\n",
       "9998       0   Y       N           1           0      1      0\n",
       "9999       0   N       Y           1           0      0      1\n",
       "\n",
       "[36457 rows x 7 columns]"
      ]
     },
     "execution_count": 22,
     "metadata": {},
     "output_type": "execute_result"
    }
   ],
   "source": [
    "data[group_1]"
   ]
  },
  {
   "cell_type": "code",
   "execution_count": 23,
   "metadata": {
    "colab": {
     "base_uri": "https://localhost:8080/"
    },
    "executionInfo": {
     "elapsed": 3479,
     "status": "ok",
     "timestamp": 1617445514516,
     "user": {
      "displayName": "youtube dacon",
      "photoUrl": "",
      "userId": "00770885000471893693"
     },
     "user_tz": -540
    },
    "id": "0ilxWm2fI-_F",
    "outputId": "8bd0d3fa-c6e3-47d9-8e9c-c21961236158"
   },
   "outputs": [
    {
     "data": {
      "text/plain": [
       "array(['N', 'Y'], dtype=object)"
      ]
     },
     "execution_count": 23,
     "metadata": {},
     "output_type": "execute_result"
    }
   ],
   "source": [
    "data['car'].unique()"
   ]
  },
  {
   "cell_type": "code",
   "execution_count": 24,
   "metadata": {
    "executionInfo": {
     "elapsed": 3468,
     "status": "ok",
     "timestamp": 1617445514518,
     "user": {
      "displayName": "youtube dacon",
      "photoUrl": "",
      "userId": "00770885000471893693"
     },
     "user_tz": -540
    },
    "id": "A4CzaMyQZV9k"
   },
   "outputs": [],
   "source": [
    "data['car'] = data['car'].replace(['N', 'Y'], [0, 1])"
   ]
  },
  {
   "cell_type": "code",
   "execution_count": 25,
   "metadata": {
    "colab": {
     "base_uri": "https://localhost:8080/"
    },
    "executionInfo": {
     "elapsed": 3441,
     "status": "ok",
     "timestamp": 1617445514520,
     "user": {
      "displayName": "youtube dacon",
      "photoUrl": "",
      "userId": "00770885000471893693"
     },
     "user_tz": -540
    },
    "id": "_lO0ut6tZV5I",
    "outputId": "591b75f4-6cde-4e21-f43a-b8167b9322a5"
   },
   "outputs": [
    {
     "data": {
      "text/plain": [
       "array(['N', 'Y'], dtype=object)"
      ]
     },
     "execution_count": 25,
     "metadata": {},
     "output_type": "execute_result"
    }
   ],
   "source": [
    "data['reality'].unique()"
   ]
  },
  {
   "cell_type": "code",
   "execution_count": 26,
   "metadata": {
    "executionInfo": {
     "elapsed": 3430,
     "status": "ok",
     "timestamp": 1617445514522,
     "user": {
      "displayName": "youtube dacon",
      "photoUrl": "",
      "userId": "00770885000471893693"
     },
     "user_tz": -540
    },
    "id": "P1ks4agdJI-A"
   },
   "outputs": [],
   "source": [
    "data['reality'] = data['reality'].replace(['N', 'Y'], [0, 1])"
   ]
  },
  {
   "cell_type": "code",
   "execution_count": 27,
   "metadata": {
    "colab": {
     "base_uri": "https://localhost:8080/",
     "height": 415
    },
    "executionInfo": {
     "elapsed": 3419,
     "status": "ok",
     "timestamp": 1617445514523,
     "user": {
      "displayName": "youtube dacon",
      "photoUrl": "",
      "userId": "00770885000471893693"
     },
     "user_tz": -540
    },
    "id": "BMhmGDKnJL6q",
    "outputId": "8b3abcd3-9a7f-474a-b127-ec2e52de1915"
   },
   "outputs": [
    {
     "data": {
      "text/html": [
       "<div>\n",
       "<style scoped>\n",
       "    .dataframe tbody tr th:only-of-type {\n",
       "        vertical-align: middle;\n",
       "    }\n",
       "\n",
       "    .dataframe tbody tr th {\n",
       "        vertical-align: top;\n",
       "    }\n",
       "\n",
       "    .dataframe thead th {\n",
       "        text-align: right;\n",
       "    }\n",
       "</style>\n",
       "<table border=\"1\" class=\"dataframe\">\n",
       "  <thead>\n",
       "    <tr style=\"text-align: right;\">\n",
       "      <th></th>\n",
       "      <th>gender</th>\n",
       "      <th>car</th>\n",
       "      <th>reality</th>\n",
       "      <th>FLAG_MOBIL</th>\n",
       "      <th>work_phone</th>\n",
       "      <th>phone</th>\n",
       "      <th>email</th>\n",
       "    </tr>\n",
       "  </thead>\n",
       "  <tbody>\n",
       "    <tr>\n",
       "      <th>0</th>\n",
       "      <td>0</td>\n",
       "      <td>0</td>\n",
       "      <td>0</td>\n",
       "      <td>1</td>\n",
       "      <td>0</td>\n",
       "      <td>0</td>\n",
       "      <td>0</td>\n",
       "    </tr>\n",
       "    <tr>\n",
       "      <th>1</th>\n",
       "      <td>0</td>\n",
       "      <td>0</td>\n",
       "      <td>1</td>\n",
       "      <td>1</td>\n",
       "      <td>0</td>\n",
       "      <td>0</td>\n",
       "      <td>1</td>\n",
       "    </tr>\n",
       "    <tr>\n",
       "      <th>2</th>\n",
       "      <td>1</td>\n",
       "      <td>1</td>\n",
       "      <td>1</td>\n",
       "      <td>1</td>\n",
       "      <td>0</td>\n",
       "      <td>1</td>\n",
       "      <td>0</td>\n",
       "    </tr>\n",
       "    <tr>\n",
       "      <th>3</th>\n",
       "      <td>0</td>\n",
       "      <td>0</td>\n",
       "      <td>1</td>\n",
       "      <td>1</td>\n",
       "      <td>0</td>\n",
       "      <td>1</td>\n",
       "      <td>0</td>\n",
       "    </tr>\n",
       "    <tr>\n",
       "      <th>4</th>\n",
       "      <td>0</td>\n",
       "      <td>1</td>\n",
       "      <td>1</td>\n",
       "      <td>1</td>\n",
       "      <td>0</td>\n",
       "      <td>0</td>\n",
       "      <td>0</td>\n",
       "    </tr>\n",
       "    <tr>\n",
       "      <th>...</th>\n",
       "      <td>...</td>\n",
       "      <td>...</td>\n",
       "      <td>...</td>\n",
       "      <td>...</td>\n",
       "      <td>...</td>\n",
       "      <td>...</td>\n",
       "      <td>...</td>\n",
       "    </tr>\n",
       "    <tr>\n",
       "      <th>9995</th>\n",
       "      <td>0</td>\n",
       "      <td>1</td>\n",
       "      <td>1</td>\n",
       "      <td>1</td>\n",
       "      <td>1</td>\n",
       "      <td>1</td>\n",
       "      <td>0</td>\n",
       "    </tr>\n",
       "    <tr>\n",
       "      <th>9996</th>\n",
       "      <td>1</td>\n",
       "      <td>1</td>\n",
       "      <td>1</td>\n",
       "      <td>1</td>\n",
       "      <td>1</td>\n",
       "      <td>0</td>\n",
       "      <td>0</td>\n",
       "    </tr>\n",
       "    <tr>\n",
       "      <th>9997</th>\n",
       "      <td>0</td>\n",
       "      <td>0</td>\n",
       "      <td>1</td>\n",
       "      <td>1</td>\n",
       "      <td>0</td>\n",
       "      <td>0</td>\n",
       "      <td>0</td>\n",
       "    </tr>\n",
       "    <tr>\n",
       "      <th>9998</th>\n",
       "      <td>0</td>\n",
       "      <td>1</td>\n",
       "      <td>0</td>\n",
       "      <td>1</td>\n",
       "      <td>0</td>\n",
       "      <td>1</td>\n",
       "      <td>0</td>\n",
       "    </tr>\n",
       "    <tr>\n",
       "      <th>9999</th>\n",
       "      <td>0</td>\n",
       "      <td>0</td>\n",
       "      <td>1</td>\n",
       "      <td>1</td>\n",
       "      <td>0</td>\n",
       "      <td>0</td>\n",
       "      <td>1</td>\n",
       "    </tr>\n",
       "  </tbody>\n",
       "</table>\n",
       "<p>36457 rows × 7 columns</p>\n",
       "</div>"
      ],
      "text/plain": [
       "      gender  car  reality  FLAG_MOBIL  work_phone  phone  email\n",
       "0          0    0        0           1           0      0      0\n",
       "1          0    0        1           1           0      0      1\n",
       "2          1    1        1           1           0      1      0\n",
       "3          0    0        1           1           0      1      0\n",
       "4          0    1        1           1           0      0      0\n",
       "...      ...  ...      ...         ...         ...    ...    ...\n",
       "9995       0    1        1           1           1      1      0\n",
       "9996       1    1        1           1           1      0      0\n",
       "9997       0    0        1           1           0      0      0\n",
       "9998       0    1        0           1           0      1      0\n",
       "9999       0    0        1           1           0      0      1\n",
       "\n",
       "[36457 rows x 7 columns]"
      ]
     },
     "execution_count": 27,
     "metadata": {},
     "output_type": "execute_result"
    }
   ],
   "source": [
    "data[group_1]"
   ]
  },
  {
   "cell_type": "markdown",
   "metadata": {},
   "source": [
    "## group_2, 이상치 제거 및 카테고리형 변수 int화"
   ]
  },
  {
   "cell_type": "code",
   "execution_count": 28,
   "metadata": {
    "colab": {
     "base_uri": "https://localhost:8080/",
     "height": 415
    },
    "executionInfo": {
     "elapsed": 3405,
     "status": "ok",
     "timestamp": 1617445514525,
     "user": {
      "displayName": "youtube dacon",
      "photoUrl": "",
      "userId": "00770885000471893693"
     },
     "user_tz": -540
    },
    "id": "lrpImL_6JNq0",
    "outputId": "1a4b7900-a0fd-4bd3-a57a-fab907b869b9"
   },
   "outputs": [
    {
     "data": {
      "text/html": [
       "<div>\n",
       "<style scoped>\n",
       "    .dataframe tbody tr th:only-of-type {\n",
       "        vertical-align: middle;\n",
       "    }\n",
       "\n",
       "    .dataframe tbody tr th {\n",
       "        vertical-align: top;\n",
       "    }\n",
       "\n",
       "    .dataframe thead th {\n",
       "        text-align: right;\n",
       "    }\n",
       "</style>\n",
       "<table border=\"1\" class=\"dataframe\">\n",
       "  <thead>\n",
       "    <tr style=\"text-align: right;\">\n",
       "      <th></th>\n",
       "      <th>child_num</th>\n",
       "      <th>income_type</th>\n",
       "      <th>edu_type</th>\n",
       "      <th>family_type</th>\n",
       "      <th>house_type</th>\n",
       "      <th>family_size</th>\n",
       "      <th>credit</th>\n",
       "    </tr>\n",
       "  </thead>\n",
       "  <tbody>\n",
       "    <tr>\n",
       "      <th>0</th>\n",
       "      <td>0</td>\n",
       "      <td>Commercial associate</td>\n",
       "      <td>Higher education</td>\n",
       "      <td>Married</td>\n",
       "      <td>Municipal apartment</td>\n",
       "      <td>2.0</td>\n",
       "      <td>1.0</td>\n",
       "    </tr>\n",
       "    <tr>\n",
       "      <th>1</th>\n",
       "      <td>1</td>\n",
       "      <td>Commercial associate</td>\n",
       "      <td>Secondary / secondary special</td>\n",
       "      <td>Civil marriage</td>\n",
       "      <td>House / apartment</td>\n",
       "      <td>3.0</td>\n",
       "      <td>1.0</td>\n",
       "    </tr>\n",
       "    <tr>\n",
       "      <th>2</th>\n",
       "      <td>0</td>\n",
       "      <td>Working</td>\n",
       "      <td>Higher education</td>\n",
       "      <td>Married</td>\n",
       "      <td>House / apartment</td>\n",
       "      <td>2.0</td>\n",
       "      <td>2.0</td>\n",
       "    </tr>\n",
       "    <tr>\n",
       "      <th>3</th>\n",
       "      <td>0</td>\n",
       "      <td>Commercial associate</td>\n",
       "      <td>Secondary / secondary special</td>\n",
       "      <td>Married</td>\n",
       "      <td>House / apartment</td>\n",
       "      <td>2.0</td>\n",
       "      <td>0.0</td>\n",
       "    </tr>\n",
       "    <tr>\n",
       "      <th>4</th>\n",
       "      <td>0</td>\n",
       "      <td>State servant</td>\n",
       "      <td>Higher education</td>\n",
       "      <td>Married</td>\n",
       "      <td>House / apartment</td>\n",
       "      <td>2.0</td>\n",
       "      <td>2.0</td>\n",
       "    </tr>\n",
       "    <tr>\n",
       "      <th>...</th>\n",
       "      <td>...</td>\n",
       "      <td>...</td>\n",
       "      <td>...</td>\n",
       "      <td>...</td>\n",
       "      <td>...</td>\n",
       "      <td>...</td>\n",
       "      <td>...</td>\n",
       "    </tr>\n",
       "    <tr>\n",
       "      <th>9995</th>\n",
       "      <td>0</td>\n",
       "      <td>Working</td>\n",
       "      <td>Incomplete higher</td>\n",
       "      <td>Married</td>\n",
       "      <td>House / apartment</td>\n",
       "      <td>2.0</td>\n",
       "      <td>NaN</td>\n",
       "    </tr>\n",
       "    <tr>\n",
       "      <th>9996</th>\n",
       "      <td>0</td>\n",
       "      <td>Working</td>\n",
       "      <td>Secondary / secondary special</td>\n",
       "      <td>Civil marriage</td>\n",
       "      <td>House / apartment</td>\n",
       "      <td>2.0</td>\n",
       "      <td>NaN</td>\n",
       "    </tr>\n",
       "    <tr>\n",
       "      <th>9997</th>\n",
       "      <td>0</td>\n",
       "      <td>Working</td>\n",
       "      <td>Secondary / secondary special</td>\n",
       "      <td>Married</td>\n",
       "      <td>House / apartment</td>\n",
       "      <td>2.0</td>\n",
       "      <td>NaN</td>\n",
       "    </tr>\n",
       "    <tr>\n",
       "      <th>9998</th>\n",
       "      <td>0</td>\n",
       "      <td>Commercial associate</td>\n",
       "      <td>Secondary / secondary special</td>\n",
       "      <td>Married</td>\n",
       "      <td>House / apartment</td>\n",
       "      <td>2.0</td>\n",
       "      <td>NaN</td>\n",
       "    </tr>\n",
       "    <tr>\n",
       "      <th>9999</th>\n",
       "      <td>0</td>\n",
       "      <td>Working</td>\n",
       "      <td>Higher education</td>\n",
       "      <td>Married</td>\n",
       "      <td>House / apartment</td>\n",
       "      <td>2.0</td>\n",
       "      <td>NaN</td>\n",
       "    </tr>\n",
       "  </tbody>\n",
       "</table>\n",
       "<p>36457 rows × 7 columns</p>\n",
       "</div>"
      ],
      "text/plain": [
       "      child_num           income_type                       edu_type  \\\n",
       "0             0  Commercial associate               Higher education   \n",
       "1             1  Commercial associate  Secondary / secondary special   \n",
       "2             0               Working               Higher education   \n",
       "3             0  Commercial associate  Secondary / secondary special   \n",
       "4             0         State servant               Higher education   \n",
       "...         ...                   ...                            ...   \n",
       "9995          0               Working              Incomplete higher   \n",
       "9996          0               Working  Secondary / secondary special   \n",
       "9997          0               Working  Secondary / secondary special   \n",
       "9998          0  Commercial associate  Secondary / secondary special   \n",
       "9999          0               Working               Higher education   \n",
       "\n",
       "         family_type           house_type  family_size  credit  \n",
       "0            Married  Municipal apartment          2.0     1.0  \n",
       "1     Civil marriage    House / apartment          3.0     1.0  \n",
       "2            Married    House / apartment          2.0     2.0  \n",
       "3            Married    House / apartment          2.0     0.0  \n",
       "4            Married    House / apartment          2.0     2.0  \n",
       "...              ...                  ...          ...     ...  \n",
       "9995         Married    House / apartment          2.0     NaN  \n",
       "9996  Civil marriage    House / apartment          2.0     NaN  \n",
       "9997         Married    House / apartment          2.0     NaN  \n",
       "9998         Married    House / apartment          2.0     NaN  \n",
       "9999         Married    House / apartment          2.0     NaN  \n",
       "\n",
       "[36457 rows x 7 columns]"
      ]
     },
     "execution_count": 28,
     "metadata": {},
     "output_type": "execute_result"
    }
   ],
   "source": [
    "data[group_2]"
   ]
  },
  {
   "cell_type": "code",
   "execution_count": 29,
   "metadata": {
    "colab": {
     "base_uri": "https://localhost:8080/",
     "height": 287
    },
    "executionInfo": {
     "elapsed": 4234,
     "status": "ok",
     "timestamp": 1617445515371,
     "user": {
      "displayName": "youtube dacon",
      "photoUrl": "",
      "userId": "00770885000471893693"
     },
     "user_tz": -540
    },
    "id": "AXlL5Q1WMfQc",
    "outputId": "00d2cfd4-a476-4663-95e2-6444c4635f14"
   },
   "outputs": [
    {
     "data": {
      "text/plain": [
       "<AxesSubplot:>"
      ]
     },
     "execution_count": 29,
     "metadata": {},
     "output_type": "execute_result"
    },
    {
     "data": {
      "image/png": "[encoded data removed]",
      "text/plain": [
       "<Figure size 432x288 with 1 Axes>"
      ]
     },
     "metadata": {
      "needs_background": "light"
     },
     "output_type": "display_data"
    }
   ],
   "source": [
    "data[\"child_num\"].value_counts().plot.bar()"
   ]
  },
  {
   "cell_type": "code",
   "execution_count": 30,
   "metadata": {
    "executionInfo": {
     "elapsed": 4221,
     "status": "ok",
     "timestamp": 1617445515372,
     "user": {
      "displayName": "youtube dacon",
      "photoUrl": "",
      "userId": "00770885000471893693"
     },
     "user_tz": -540
    },
    "id": "SLmMF_gpMvb_"
   },
   "outputs": [],
   "source": [
    "data.loc[data['child_num'] > 2, 'child_num'] = 2"
   ]
  },
  {
   "cell_type": "code",
   "execution_count": 31,
   "metadata": {
    "colab": {
     "base_uri": "https://localhost:8080/",
     "height": 281
    },
    "executionInfo": {
     "elapsed": 4208,
     "status": "ok",
     "timestamp": 1617445515373,
     "user": {
      "displayName": "youtube dacon",
      "photoUrl": "",
      "userId": "00770885000471893693"
     },
     "user_tz": -540
    },
    "id": "7xHE6jD6M-Yj",
    "outputId": "ba5d815b-41e6-4904-8d1f-ef19956487fb"
   },
   "outputs": [
    {
     "data": {
      "text/plain": [
       "<AxesSubplot:>"
      ]
     },
     "execution_count": 31,
     "metadata": {},
     "output_type": "execute_result"
    },
    {
     "data": {
      "image/png": "[encoded data removed]",
      "text/plain": [
       "<Figure size 432x288 with 1 Axes>"
      ]
     },
     "metadata": {
      "needs_background": "light"
     },
     "output_type": "display_data"
    }
   ],
   "source": [
    "data[\"child_num\"].value_counts().plot.bar()"
   ]
  },
  {
   "cell_type": "code",
   "execution_count": 32,
   "metadata": {
    "colab": {
     "base_uri": "https://localhost:8080/"
    },
    "executionInfo": {
     "elapsed": 4189,
     "status": "ok",
     "timestamp": 1617445515375,
     "user": {
      "displayName": "youtube dacon",
      "photoUrl": "",
      "userId": "00770885000471893693"
     },
     "user_tz": -540
    },
    "id": "qhej_yB_NPJb",
    "outputId": "19f56336-b417-496c-a137-1e53373ffba8"
   },
   "outputs": [
    {
     "data": {
      "text/plain": [
       "child_num       3\n",
       "income_type     5\n",
       "edu_type        5\n",
       "family_type     5\n",
       "house_type      6\n",
       "family_size    10\n",
       "credit          4\n",
       "dtype: int64"
      ]
     },
     "execution_count": 32,
     "metadata": {},
     "output_type": "execute_result"
    }
   ],
   "source": [
    "data[group_2].apply(lambda x : len(x.unique()))"
   ]
  },
  {
   "cell_type": "code",
   "execution_count": 33,
   "metadata": {
    "executionInfo": {
     "elapsed": 4179,
     "status": "ok",
     "timestamp": 1617445515376,
     "user": {
      "displayName": "youtube dacon",
      "photoUrl": "",
      "userId": "00770885000471893693"
     },
     "user_tz": -540
    },
    "id": "Sa-11x95Nfr2"
   },
   "outputs": [],
   "source": [
    "from sklearn import preprocessing"
   ]
  },
  {
   "cell_type": "code",
   "execution_count": 34,
   "metadata": {
    "executionInfo": {
     "elapsed": 4173,
     "status": "ok",
     "timestamp": 1617445515377,
     "user": {
      "displayName": "youtube dacon",
      "photoUrl": "",
      "userId": "00770885000471893693"
     },
     "user_tz": -540
    },
    "id": "UHlwUq64N4hK"
   },
   "outputs": [],
   "source": [
    "label_encoder = preprocessing.LabelEncoder()"
   ]
  },
  {
   "cell_type": "code",
   "execution_count": 35,
   "metadata": {
    "colab": {
     "base_uri": "https://localhost:8080/"
    },
    "executionInfo": {
     "elapsed": 4162,
     "status": "ok",
     "timestamp": 1617445515378,
     "user": {
      "displayName": "youtube dacon",
      "photoUrl": "",
      "userId": "00770885000471893693"
     },
     "user_tz": -540
    },
    "id": "Al69Suo_OFOA",
    "outputId": "4fb2e834-18f8-44e7-d6fb-bd2afce98d3d"
   },
   "outputs": [
    {
     "data": {
      "text/plain": [
       "array(['Commercial associate', 'Working', 'State servant', 'Pensioner',\n",
       "       'Student'], dtype=object)"
      ]
     },
     "execution_count": 35,
     "metadata": {},
     "output_type": "execute_result"
    }
   ],
   "source": [
    "data['income_type'].unique()"
   ]
  },
  {
   "cell_type": "code",
   "execution_count": 36,
   "metadata": {
    "colab": {
     "base_uri": "https://localhost:8080/"
    },
    "executionInfo": {
     "elapsed": 4147,
     "status": "ok",
     "timestamp": 1617445515379,
     "user": {
      "displayName": "youtube dacon",
      "photoUrl": "",
      "userId": "00770885000471893693"
     },
     "user_tz": -540
    },
    "id": "qIJZoMmkOBu8",
    "outputId": "8cb6de2e-6d90-412b-d62c-7eb5f2db6a83"
   },
   "outputs": [
    {
     "data": {
      "text/plain": [
       "{0, 1, 2, 3, 4}"
      ]
     },
     "execution_count": 36,
     "metadata": {},
     "output_type": "execute_result"
    }
   ],
   "source": [
    "set(label_encoder.fit_transform(data['income_type']))"
   ]
  },
  {
   "cell_type": "code",
   "execution_count": 37,
   "metadata": {
    "executionInfo": {
     "elapsed": 4137,
     "status": "ok",
     "timestamp": 1617445515380,
     "user": {
      "displayName": "youtube dacon",
      "photoUrl": "",
      "userId": "00770885000471893693"
     },
     "user_tz": -540
    },
    "id": "61sL9EtXOMI4"
   },
   "outputs": [],
   "source": [
    "data['income_type'] = label_encoder.fit_transform(data['income_type'])\n",
    "data['edu_type'] = label_encoder.fit_transform(data['edu_type'])\n",
    "data['family_type'] = label_encoder.fit_transform(data['family_type'])\n",
    "data['house_type'] = label_encoder.fit_transform(data['house_type'])"
   ]
  },
  {
   "cell_type": "code",
   "execution_count": 38,
   "metadata": {
    "colab": {
     "base_uri": "https://localhost:8080/",
     "height": 415
    },
    "executionInfo": {
     "elapsed": 4126,
     "status": "ok",
     "timestamp": 1617445515380,
     "user": {
      "displayName": "youtube dacon",
      "photoUrl": "",
      "userId": "00770885000471893693"
     },
     "user_tz": -540
    },
    "id": "PHmcI4qhOiwX",
    "outputId": "ea3eab4f-f30b-4d5d-c82d-8ec3fbabfbc6"
   },
   "outputs": [
    {
     "data": {
      "text/html": [
       "<div>\n",
       "<style scoped>\n",
       "    .dataframe tbody tr th:only-of-type {\n",
       "        vertical-align: middle;\n",
       "    }\n",
       "\n",
       "    .dataframe tbody tr th {\n",
       "        vertical-align: top;\n",
       "    }\n",
       "\n",
       "    .dataframe thead th {\n",
       "        text-align: right;\n",
       "    }\n",
       "</style>\n",
       "<table border=\"1\" class=\"dataframe\">\n",
       "  <thead>\n",
       "    <tr style=\"text-align: right;\">\n",
       "      <th></th>\n",
       "      <th>child_num</th>\n",
       "      <th>income_type</th>\n",
       "      <th>edu_type</th>\n",
       "      <th>family_type</th>\n",
       "      <th>house_type</th>\n",
       "      <th>family_size</th>\n",
       "      <th>credit</th>\n",
       "    </tr>\n",
       "  </thead>\n",
       "  <tbody>\n",
       "    <tr>\n",
       "      <th>0</th>\n",
       "      <td>0</td>\n",
       "      <td>0</td>\n",
       "      <td>1</td>\n",
       "      <td>1</td>\n",
       "      <td>2</td>\n",
       "      <td>2.0</td>\n",
       "      <td>1.0</td>\n",
       "    </tr>\n",
       "    <tr>\n",
       "      <th>1</th>\n",
       "      <td>1</td>\n",
       "      <td>0</td>\n",
       "      <td>4</td>\n",
       "      <td>0</td>\n",
       "      <td>1</td>\n",
       "      <td>3.0</td>\n",
       "      <td>1.0</td>\n",
       "    </tr>\n",
       "    <tr>\n",
       "      <th>2</th>\n",
       "      <td>0</td>\n",
       "      <td>4</td>\n",
       "      <td>1</td>\n",
       "      <td>1</td>\n",
       "      <td>1</td>\n",
       "      <td>2.0</td>\n",
       "      <td>2.0</td>\n",
       "    </tr>\n",
       "    <tr>\n",
       "      <th>3</th>\n",
       "      <td>0</td>\n",
       "      <td>0</td>\n",
       "      <td>4</td>\n",
       "      <td>1</td>\n",
       "      <td>1</td>\n",
       "      <td>2.0</td>\n",
       "      <td>0.0</td>\n",
       "    </tr>\n",
       "    <tr>\n",
       "      <th>4</th>\n",
       "      <td>0</td>\n",
       "      <td>2</td>\n",
       "      <td>1</td>\n",
       "      <td>1</td>\n",
       "      <td>1</td>\n",
       "      <td>2.0</td>\n",
       "      <td>2.0</td>\n",
       "    </tr>\n",
       "    <tr>\n",
       "      <th>...</th>\n",
       "      <td>...</td>\n",
       "      <td>...</td>\n",
       "      <td>...</td>\n",
       "      <td>...</td>\n",
       "      <td>...</td>\n",
       "      <td>...</td>\n",
       "      <td>...</td>\n",
       "    </tr>\n",
       "    <tr>\n",
       "      <th>9995</th>\n",
       "      <td>0</td>\n",
       "      <td>4</td>\n",
       "      <td>2</td>\n",
       "      <td>1</td>\n",
       "      <td>1</td>\n",
       "      <td>2.0</td>\n",
       "      <td>NaN</td>\n",
       "    </tr>\n",
       "    <tr>\n",
       "      <th>9996</th>\n",
       "      <td>0</td>\n",
       "      <td>4</td>\n",
       "      <td>4</td>\n",
       "      <td>0</td>\n",
       "      <td>1</td>\n",
       "      <td>2.0</td>\n",
       "      <td>NaN</td>\n",
       "    </tr>\n",
       "    <tr>\n",
       "      <th>9997</th>\n",
       "      <td>0</td>\n",
       "      <td>4</td>\n",
       "      <td>4</td>\n",
       "      <td>1</td>\n",
       "      <td>1</td>\n",
       "      <td>2.0</td>\n",
       "      <td>NaN</td>\n",
       "    </tr>\n",
       "    <tr>\n",
       "      <th>9998</th>\n",
       "      <td>0</td>\n",
       "      <td>0</td>\n",
       "      <td>4</td>\n",
       "      <td>1</td>\n",
       "      <td>1</td>\n",
       "      <td>2.0</td>\n",
       "      <td>NaN</td>\n",
       "    </tr>\n",
       "    <tr>\n",
       "      <th>9999</th>\n",
       "      <td>0</td>\n",
       "      <td>4</td>\n",
       "      <td>1</td>\n",
       "      <td>1</td>\n",
       "      <td>1</td>\n",
       "      <td>2.0</td>\n",
       "      <td>NaN</td>\n",
       "    </tr>\n",
       "  </tbody>\n",
       "</table>\n",
       "<p>36457 rows × 7 columns</p>\n",
       "</div>"
      ],
      "text/plain": [
       "      child_num  income_type  edu_type  family_type  house_type  family_size  \\\n",
       "0             0            0         1            1           2          2.0   \n",
       "1             1            0         4            0           1          3.0   \n",
       "2             0            4         1            1           1          2.0   \n",
       "3             0            0         4            1           1          2.0   \n",
       "4             0            2         1            1           1          2.0   \n",
       "...         ...          ...       ...          ...         ...          ...   \n",
       "9995          0            4         2            1           1          2.0   \n",
       "9996          0            4         4            0           1          2.0   \n",
       "9997          0            4         4            1           1          2.0   \n",
       "9998          0            0         4            1           1          2.0   \n",
       "9999          0            4         1            1           1          2.0   \n",
       "\n",
       "      credit  \n",
       "0        1.0  \n",
       "1        1.0  \n",
       "2        2.0  \n",
       "3        0.0  \n",
       "4        2.0  \n",
       "...      ...  \n",
       "9995     NaN  \n",
       "9996     NaN  \n",
       "9997     NaN  \n",
       "9998     NaN  \n",
       "9999     NaN  \n",
       "\n",
       "[36457 rows x 7 columns]"
      ]
     },
     "execution_count": 38,
     "metadata": {},
     "output_type": "execute_result"
    }
   ],
   "source": [
    "data[group_2]"
   ]
  },
  {
   "cell_type": "markdown",
   "metadata": {},
   "source": [
    "## group_3 , 구간화"
   ]
  },
  {
   "cell_type": "code",
   "execution_count": 39,
   "metadata": {
    "colab": {
     "base_uri": "https://localhost:8080/",
     "height": 415
    },
    "executionInfo": {
     "elapsed": 4110,
     "status": "ok",
     "timestamp": 1617445515381,
     "user": {
      "displayName": "youtube dacon",
      "photoUrl": "",
      "userId": "00770885000471893693"
     },
     "user_tz": -540
    },
    "id": "hOEvvS7TJ4KG",
    "outputId": "2b510d29-0ddf-4739-8c01-ad915d56789e"
   },
   "outputs": [
    {
     "data": {
      "text/html": [
       "<div>\n",
       "<style scoped>\n",
       "    .dataframe tbody tr th:only-of-type {\n",
       "        vertical-align: middle;\n",
       "    }\n",
       "\n",
       "    .dataframe tbody tr th {\n",
       "        vertical-align: top;\n",
       "    }\n",
       "\n",
       "    .dataframe thead th {\n",
       "        text-align: right;\n",
       "    }\n",
       "</style>\n",
       "<table border=\"1\" class=\"dataframe\">\n",
       "  <thead>\n",
       "    <tr style=\"text-align: right;\">\n",
       "      <th></th>\n",
       "      <th>index</th>\n",
       "      <th>income_total</th>\n",
       "      <th>DAYS_BIRTH</th>\n",
       "      <th>DAYS_EMPLOYED</th>\n",
       "      <th>occyp_type</th>\n",
       "      <th>begin_month</th>\n",
       "    </tr>\n",
       "  </thead>\n",
       "  <tbody>\n",
       "    <tr>\n",
       "      <th>0</th>\n",
       "      <td>0</td>\n",
       "      <td>202500.0</td>\n",
       "      <td>-13899</td>\n",
       "      <td>-4709</td>\n",
       "      <td>NaN</td>\n",
       "      <td>-6.0</td>\n",
       "    </tr>\n",
       "    <tr>\n",
       "      <th>1</th>\n",
       "      <td>1</td>\n",
       "      <td>247500.0</td>\n",
       "      <td>-11380</td>\n",
       "      <td>-1540</td>\n",
       "      <td>Laborers</td>\n",
       "      <td>-5.0</td>\n",
       "    </tr>\n",
       "    <tr>\n",
       "      <th>2</th>\n",
       "      <td>2</td>\n",
       "      <td>450000.0</td>\n",
       "      <td>-19087</td>\n",
       "      <td>-4434</td>\n",
       "      <td>Managers</td>\n",
       "      <td>-22.0</td>\n",
       "    </tr>\n",
       "    <tr>\n",
       "      <th>3</th>\n",
       "      <td>3</td>\n",
       "      <td>202500.0</td>\n",
       "      <td>-15088</td>\n",
       "      <td>-2092</td>\n",
       "      <td>Sales staff</td>\n",
       "      <td>-37.0</td>\n",
       "    </tr>\n",
       "    <tr>\n",
       "      <th>4</th>\n",
       "      <td>4</td>\n",
       "      <td>157500.0</td>\n",
       "      <td>-15037</td>\n",
       "      <td>-2105</td>\n",
       "      <td>Managers</td>\n",
       "      <td>-26.0</td>\n",
       "    </tr>\n",
       "    <tr>\n",
       "      <th>...</th>\n",
       "      <td>...</td>\n",
       "      <td>...</td>\n",
       "      <td>...</td>\n",
       "      <td>...</td>\n",
       "      <td>...</td>\n",
       "      <td>...</td>\n",
       "    </tr>\n",
       "    <tr>\n",
       "      <th>9995</th>\n",
       "      <td>36452</td>\n",
       "      <td>202500.0</td>\n",
       "      <td>-18593</td>\n",
       "      <td>-5434</td>\n",
       "      <td>Accountants</td>\n",
       "      <td>-19.0</td>\n",
       "    </tr>\n",
       "    <tr>\n",
       "      <th>9996</th>\n",
       "      <td>36453</td>\n",
       "      <td>202500.0</td>\n",
       "      <td>-10886</td>\n",
       "      <td>-1315</td>\n",
       "      <td>Laborers</td>\n",
       "      <td>-34.0</td>\n",
       "    </tr>\n",
       "    <tr>\n",
       "      <th>9997</th>\n",
       "      <td>36454</td>\n",
       "      <td>292500.0</td>\n",
       "      <td>-21016</td>\n",
       "      <td>-14018</td>\n",
       "      <td>Medicine staff</td>\n",
       "      <td>-55.0</td>\n",
       "    </tr>\n",
       "    <tr>\n",
       "      <th>9998</th>\n",
       "      <td>36455</td>\n",
       "      <td>180000.0</td>\n",
       "      <td>-16541</td>\n",
       "      <td>-1085</td>\n",
       "      <td>NaN</td>\n",
       "      <td>-33.0</td>\n",
       "    </tr>\n",
       "    <tr>\n",
       "      <th>9999</th>\n",
       "      <td>36456</td>\n",
       "      <td>270000.0</td>\n",
       "      <td>-9154</td>\n",
       "      <td>-187</td>\n",
       "      <td>Laborers</td>\n",
       "      <td>-11.0</td>\n",
       "    </tr>\n",
       "  </tbody>\n",
       "</table>\n",
       "<p>36457 rows × 6 columns</p>\n",
       "</div>"
      ],
      "text/plain": [
       "      index  income_total  DAYS_BIRTH  DAYS_EMPLOYED      occyp_type  \\\n",
       "0         0      202500.0      -13899          -4709             NaN   \n",
       "1         1      247500.0      -11380          -1540        Laborers   \n",
       "2         2      450000.0      -19087          -4434        Managers   \n",
       "3         3      202500.0      -15088          -2092     Sales staff   \n",
       "4         4      157500.0      -15037          -2105        Managers   \n",
       "...     ...           ...         ...            ...             ...   \n",
       "9995  36452      202500.0      -18593          -5434     Accountants   \n",
       "9996  36453      202500.0      -10886          -1315        Laborers   \n",
       "9997  36454      292500.0      -21016         -14018  Medicine staff   \n",
       "9998  36455      180000.0      -16541          -1085             NaN   \n",
       "9999  36456      270000.0       -9154           -187        Laborers   \n",
       "\n",
       "      begin_month  \n",
       "0            -6.0  \n",
       "1            -5.0  \n",
       "2           -22.0  \n",
       "3           -37.0  \n",
       "4           -26.0  \n",
       "...           ...  \n",
       "9995        -19.0  \n",
       "9996        -34.0  \n",
       "9997        -55.0  \n",
       "9998        -33.0  \n",
       "9999        -11.0  \n",
       "\n",
       "[36457 rows x 6 columns]"
      ]
     },
     "execution_count": 39,
     "metadata": {},
     "output_type": "execute_result"
    }
   ],
   "source": [
    "data[group_3]"
   ]
  },
  {
   "cell_type": "code",
   "execution_count": 40,
   "metadata": {
    "colab": {
     "base_uri": "https://localhost:8080/"
    },
    "executionInfo": {
     "elapsed": 4078,
     "status": "ok",
     "timestamp": 1617445515384,
     "user": {
      "displayName": "youtube dacon",
      "photoUrl": "",
      "userId": "00770885000471893693"
     },
     "user_tz": -540
    },
    "id": "6WBEgA8PKeap",
    "outputId": "0ebd20ee-b729-40fd-d540-e92a136546f7"
   },
   "outputs": [
    {
     "data": {
      "text/plain": [
       "27000.0"
      ]
     },
     "execution_count": 40,
     "metadata": {},
     "output_type": "execute_result"
    }
   ],
   "source": [
    "data['income_total'].min()"
   ]
  },
  {
   "cell_type": "code",
   "execution_count": 41,
   "metadata": {
    "colab": {
     "base_uri": "https://localhost:8080/"
    },
    "executionInfo": {
     "elapsed": 4060,
     "status": "ok",
     "timestamp": 1617445515385,
     "user": {
      "displayName": "youtube dacon",
      "photoUrl": "",
      "userId": "00770885000471893693"
     },
     "user_tz": -540
    },
    "id": "oKdQyMonKlIA",
    "outputId": "8ca68fd6-a96b-4934-b05a-3b810ff5ba0a"
   },
   "outputs": [
    {
     "data": {
      "text/plain": [
       "1575000.0"
      ]
     },
     "execution_count": 41,
     "metadata": {},
     "output_type": "execute_result"
    }
   ],
   "source": [
    "data['income_total'].max()"
   ]
  },
  {
   "cell_type": "code",
   "execution_count": 42,
   "metadata": {
    "colab": {
     "base_uri": "https://localhost:8080/"
    },
    "executionInfo": {
     "elapsed": 4045,
     "status": "ok",
     "timestamp": 1617445515385,
     "user": {
      "displayName": "youtube dacon",
      "photoUrl": "",
      "userId": "00770885000471893693"
     },
     "user_tz": -540
    },
    "id": "7AYoKtunKpH-",
    "outputId": "5b0f1f9d-a626-4600-adad-3b16420d9afa"
   },
   "outputs": [
    {
     "data": {
      "text/plain": [
       "265"
      ]
     },
     "execution_count": 42,
     "metadata": {},
     "output_type": "execute_result"
    }
   ],
   "source": [
    "len(data['income_total'].unique())"
   ]
  },
  {
   "cell_type": "code",
   "execution_count": 43,
   "metadata": {
    "executionInfo": {
     "elapsed": 4028,
     "status": "ok",
     "timestamp": 1617445515388,
     "user": {
      "displayName": "youtube dacon",
      "photoUrl": "",
      "userId": "00770885000471893693"
     },
     "user_tz": -540
    },
    "id": "PRDUAnAlK8GU"
   },
   "outputs": [],
   "source": [
    "counts, bin_dividers = np.histogram(data['income_total'], bins = 7)"
   ]
  },
  {
   "cell_type": "code",
   "execution_count": 44,
   "metadata": {
    "colab": {
     "base_uri": "https://localhost:8080/"
    },
    "executionInfo": {
     "elapsed": 4017,
     "status": "ok",
     "timestamp": 1617445515388,
     "user": {
      "displayName": "youtube dacon",
      "photoUrl": "",
      "userId": "00770885000471893693"
     },
     "user_tz": -540
    },
    "id": "AqVv-MwQLPUk",
    "outputId": "2c560879-a0db-4f40-a12d-4ce651a1a01e"
   },
   "outputs": [
    {
     "data": {
      "text/plain": [
       "0       202500.0\n",
       "1       247500.0\n",
       "2       450000.0\n",
       "3       202500.0\n",
       "4       157500.0\n",
       "          ...   \n",
       "9995    202500.0\n",
       "9996    202500.0\n",
       "9997    292500.0\n",
       "9998    180000.0\n",
       "9999    270000.0\n",
       "Name: income_total, Length: 36457, dtype: float64"
      ]
     },
     "execution_count": 44,
     "metadata": {},
     "output_type": "execute_result"
    }
   ],
   "source": [
    "data['income_total']"
   ]
  },
  {
   "cell_type": "code",
   "execution_count": 45,
   "metadata": {
    "executionInfo": {
     "elapsed": 4008,
     "status": "ok",
     "timestamp": 1617445515390,
     "user": {
      "displayName": "youtube dacon",
      "photoUrl": "",
      "userId": "00770885000471893693"
     },
     "user_tz": -540
    },
    "id": "TJgodj0HLAxV"
   },
   "outputs": [],
   "source": [
    "data['income_total'] = pd.factorize(pd.cut(data['income_total'], bins = bin_dividers, include_lowest=True, labels = [i for i in range(7)])\n",
    ")[0]"
   ]
  },
  {
   "cell_type": "code",
   "execution_count": 46,
   "metadata": {
    "colab": {
     "base_uri": "https://localhost:8080/"
    },
    "executionInfo": {
     "elapsed": 3998,
     "status": "ok",
     "timestamp": 1617445515390,
     "user": {
      "displayName": "youtube dacon",
      "photoUrl": "",
      "userId": "00770885000471893693"
     },
     "user_tz": -540
    },
    "id": "ZvoDY-p8LNUl",
    "outputId": "33c4952a-251a-432f-c4bd-359445b9992b"
   },
   "outputs": [
    {
     "data": {
      "text/plain": [
       "0       0\n",
       "1       0\n",
       "2       1\n",
       "3       0\n",
       "4       0\n",
       "       ..\n",
       "9995    0\n",
       "9996    0\n",
       "9997    1\n",
       "9998    0\n",
       "9999    1\n",
       "Name: income_total, Length: 36457, dtype: int64"
      ]
     },
     "execution_count": 46,
     "metadata": {},
     "output_type": "execute_result"
    }
   ],
   "source": [
    "data['income_total']"
   ]
  },
  {
   "cell_type": "code",
   "execution_count": 47,
   "metadata": {
    "colab": {
     "base_uri": "https://localhost:8080/"
    },
    "executionInfo": {
     "elapsed": 3986,
     "status": "ok",
     "timestamp": 1617445515391,
     "user": {
      "displayName": "youtube dacon",
      "photoUrl": "",
      "userId": "00770885000471893693"
     },
     "user_tz": -540
    },
    "id": "CyeF9Mh7MM2F",
    "outputId": "ea97fbd8-ac6d-4619-d4d4-5493c7551e44"
   },
   "outputs": [
    {
     "data": {
      "text/plain": [
       "0      -13899\n",
       "1      -11380\n",
       "2      -19087\n",
       "3      -15088\n",
       "4      -15037\n",
       "        ...  \n",
       "9995   -18593\n",
       "9996   -10886\n",
       "9997   -21016\n",
       "9998   -16541\n",
       "9999    -9154\n",
       "Name: DAYS_BIRTH, Length: 36457, dtype: int64"
      ]
     },
     "execution_count": 47,
     "metadata": {},
     "output_type": "execute_result"
    }
   ],
   "source": [
    "data['DAYS_BIRTH']"
   ]
  },
  {
   "cell_type": "code",
   "execution_count": 48,
   "metadata": {
    "executionInfo": {
     "elapsed": 3975,
     "status": "ok",
     "timestamp": 1617445515392,
     "user": {
      "displayName": "youtube dacon",
      "photoUrl": "",
      "userId": "00770885000471893693"
     },
     "user_tz": -540
    },
    "id": "bD4d7_uYL9E3"
   },
   "outputs": [],
   "source": [
    "def make_bin(array, n):\n",
    "    array = - array\n",
    "    _, bin_dividers = np.histogram(array, bins = n)\n",
    "    cut_categories = pd.cut(array, bin_dividers, labels = [i for i in range(n)], include_lowest=True)\n",
    "    bined_array = pd.factorize(cut_categories)[0]\n",
    "    return bined_array"
   ]
  },
  {
   "cell_type": "code",
   "execution_count": 49,
   "metadata": {
    "colab": {
     "base_uri": "https://localhost:8080/"
    },
    "executionInfo": {
     "elapsed": 3966,
     "status": "ok",
     "timestamp": 1617445515393,
     "user": {
      "displayName": "youtube dacon",
      "photoUrl": "",
      "userId": "00770885000471893693"
     },
     "user_tz": -540
    },
    "id": "VlhzIqTQM46i",
    "outputId": "f13c9873-770b-48f3-f94e-21a57dc3d91c"
   },
   "outputs": [
    {
     "data": {
      "text/plain": [
       "0    5177\n",
       "3    5015\n",
       "1    4922\n",
       "5    4248\n",
       "4    4063\n",
       "2    3934\n",
       "8    3713\n",
       "6    3252\n",
       "9    1252\n",
       "7     881\n",
       "dtype: int64"
      ]
     },
     "execution_count": 49,
     "metadata": {},
     "output_type": "execute_result"
    }
   ],
   "source": [
    "pd.Series(make_bin(data['DAYS_BIRTH'], 10)).value_counts()"
   ]
  },
  {
   "cell_type": "code",
   "execution_count": 50,
   "metadata": {
    "executionInfo": {
     "elapsed": 3954,
     "status": "ok",
     "timestamp": 1617445515394,
     "user": {
      "displayName": "youtube dacon",
      "photoUrl": "",
      "userId": "00770885000471893693"
     },
     "user_tz": -540
    },
    "id": "2v4xANnPM-d8"
   },
   "outputs": [],
   "source": [
    "data['DAYS_BIRTH'] = make_bin(data['DAYS_BIRTH'], 10)\n",
    "data['DAYS_EMPLOYED'] = make_bin(data['DAYS_EMPLOYED'], 6)\n",
    "data['begin_month'] = make_bin(data['begin_month'], 4)\n"
   ]
  },
  {
   "cell_type": "code",
   "execution_count": 51,
   "metadata": {
    "colab": {
     "base_uri": "https://localhost:8080/",
     "height": 415
    },
    "executionInfo": {
     "elapsed": 3944,
     "status": "ok",
     "timestamp": 1617445515394,
     "user": {
      "displayName": "youtube dacon",
      "photoUrl": "",
      "userId": "00770885000471893693"
     },
     "user_tz": -540
    },
    "id": "SyoVjrC_NZqZ",
    "outputId": "d671fa59-641a-409e-9a68-f8c162dc63a2"
   },
   "outputs": [
    {
     "data": {
      "text/html": [
       "<div>\n",
       "<style scoped>\n",
       "    .dataframe tbody tr th:only-of-type {\n",
       "        vertical-align: middle;\n",
       "    }\n",
       "\n",
       "    .dataframe tbody tr th {\n",
       "        vertical-align: top;\n",
       "    }\n",
       "\n",
       "    .dataframe thead th {\n",
       "        text-align: right;\n",
       "    }\n",
       "</style>\n",
       "<table border=\"1\" class=\"dataframe\">\n",
       "  <thead>\n",
       "    <tr style=\"text-align: right;\">\n",
       "      <th></th>\n",
       "      <th>index</th>\n",
       "      <th>income_total</th>\n",
       "      <th>DAYS_BIRTH</th>\n",
       "      <th>DAYS_EMPLOYED</th>\n",
       "      <th>occyp_type</th>\n",
       "      <th>begin_month</th>\n",
       "    </tr>\n",
       "  </thead>\n",
       "  <tbody>\n",
       "    <tr>\n",
       "      <th>0</th>\n",
       "      <td>0</td>\n",
       "      <td>0</td>\n",
       "      <td>0</td>\n",
       "      <td>0</td>\n",
       "      <td>NaN</td>\n",
       "      <td>0</td>\n",
       "    </tr>\n",
       "    <tr>\n",
       "      <th>1</th>\n",
       "      <td>1</td>\n",
       "      <td>0</td>\n",
       "      <td>1</td>\n",
       "      <td>0</td>\n",
       "      <td>Laborers</td>\n",
       "      <td>0</td>\n",
       "    </tr>\n",
       "    <tr>\n",
       "      <th>2</th>\n",
       "      <td>2</td>\n",
       "      <td>1</td>\n",
       "      <td>2</td>\n",
       "      <td>0</td>\n",
       "      <td>Managers</td>\n",
       "      <td>1</td>\n",
       "    </tr>\n",
       "    <tr>\n",
       "      <th>3</th>\n",
       "      <td>3</td>\n",
       "      <td>0</td>\n",
       "      <td>3</td>\n",
       "      <td>0</td>\n",
       "      <td>Sales staff</td>\n",
       "      <td>2</td>\n",
       "    </tr>\n",
       "    <tr>\n",
       "      <th>4</th>\n",
       "      <td>4</td>\n",
       "      <td>0</td>\n",
       "      <td>3</td>\n",
       "      <td>0</td>\n",
       "      <td>Managers</td>\n",
       "      <td>1</td>\n",
       "    </tr>\n",
       "    <tr>\n",
       "      <th>...</th>\n",
       "      <td>...</td>\n",
       "      <td>...</td>\n",
       "      <td>...</td>\n",
       "      <td>...</td>\n",
       "      <td>...</td>\n",
       "      <td>...</td>\n",
       "    </tr>\n",
       "    <tr>\n",
       "      <th>9995</th>\n",
       "      <td>36452</td>\n",
       "      <td>0</td>\n",
       "      <td>2</td>\n",
       "      <td>0</td>\n",
       "      <td>Accountants</td>\n",
       "      <td>1</td>\n",
       "    </tr>\n",
       "    <tr>\n",
       "      <th>9996</th>\n",
       "      <td>36453</td>\n",
       "      <td>0</td>\n",
       "      <td>5</td>\n",
       "      <td>0</td>\n",
       "      <td>Laborers</td>\n",
       "      <td>2</td>\n",
       "    </tr>\n",
       "    <tr>\n",
       "      <th>9997</th>\n",
       "      <td>36454</td>\n",
       "      <td>1</td>\n",
       "      <td>8</td>\n",
       "      <td>0</td>\n",
       "      <td>Medicine staff</td>\n",
       "      <td>3</td>\n",
       "    </tr>\n",
       "    <tr>\n",
       "      <th>9998</th>\n",
       "      <td>36455</td>\n",
       "      <td>0</td>\n",
       "      <td>4</td>\n",
       "      <td>0</td>\n",
       "      <td>NaN</td>\n",
       "      <td>2</td>\n",
       "    </tr>\n",
       "    <tr>\n",
       "      <th>9999</th>\n",
       "      <td>36456</td>\n",
       "      <td>1</td>\n",
       "      <td>7</td>\n",
       "      <td>0</td>\n",
       "      <td>Laborers</td>\n",
       "      <td>0</td>\n",
       "    </tr>\n",
       "  </tbody>\n",
       "</table>\n",
       "<p>36457 rows × 6 columns</p>\n",
       "</div>"
      ],
      "text/plain": [
       "      index  income_total  DAYS_BIRTH  DAYS_EMPLOYED      occyp_type  \\\n",
       "0         0             0           0              0             NaN   \n",
       "1         1             0           1              0        Laborers   \n",
       "2         2             1           2              0        Managers   \n",
       "3         3             0           3              0     Sales staff   \n",
       "4         4             0           3              0        Managers   \n",
       "...     ...           ...         ...            ...             ...   \n",
       "9995  36452             0           2              0     Accountants   \n",
       "9996  36453             0           5              0        Laborers   \n",
       "9997  36454             1           8              0  Medicine staff   \n",
       "9998  36455             0           4              0             NaN   \n",
       "9999  36456             1           7              0        Laborers   \n",
       "\n",
       "      begin_month  \n",
       "0               0  \n",
       "1               0  \n",
       "2               1  \n",
       "3               2  \n",
       "4               1  \n",
       "...           ...  \n",
       "9995            1  \n",
       "9996            2  \n",
       "9997            3  \n",
       "9998            2  \n",
       "9999            0  \n",
       "\n",
       "[36457 rows x 6 columns]"
      ]
     },
     "execution_count": 51,
     "metadata": {},
     "output_type": "execute_result"
    }
   ],
   "source": [
    "data[group_3]"
   ]
  },
  {
   "cell_type": "code",
   "execution_count": 68,
   "metadata": {},
   "outputs": [
    {
     "data": {
      "text/plain": [
       "0       0\n",
       "1       1\n",
       "2       2\n",
       "3       3\n",
       "4       2\n",
       "       ..\n",
       "9995    8\n",
       "9996    1\n",
       "9997    7\n",
       "9998    0\n",
       "9999    1\n",
       "Name: occyp_type, Length: 36457, dtype: int64"
      ]
     },
     "execution_count": 68,
     "metadata": {},
     "output_type": "execute_result"
    }
   ],
   "source": [
    "data['occyp_type'].unique()\n",
    "data['occyp_type'] = data['occyp_type'].fillna('No')\n",
    "data['occyp_type'] = data['occyp_type'].replace(['No', 'Laborers', 'Managers', 'Sales staff',\n",
    "       'High skill tech staff', 'Core staff', 'Drivers', 'Medicine staff',\n",
    "       'Accountants', 'Realty agents', 'Security staff', 'Cleaning staff',\n",
    "       'Private service staff', 'Cooking staff', 'Secretaries',\n",
    "       'HR staff', 'IT staff', 'Low-skill Laborers',\n",
    "       'Waiters/barmen staff'], [0, 1, 2, 3, 4, 5, 6, 7, 8, 9, 10, 11, 12, 13, 14, 15, 16, 17, 18])\n",
    "# for i,occyp in enumerate(data['occyp_type'].unique()):\n",
    "#     data['occyp_type'].replace([occyp], [i])\n",
    "data['occyp_type']"
   ]
  },
  {
   "cell_type": "markdown",
   "metadata": {},
   "source": [
    "# 모델링"
   ]
  },
  {
   "cell_type": "code",
   "execution_count": 69,
   "metadata": {
    "colab": {
     "base_uri": "https://localhost:8080/"
    },
    "executionInfo": {
     "elapsed": 4514,
     "status": "ok",
     "timestamp": 1617445515981,
     "user": {
      "displayName": "youtube dacon",
      "photoUrl": "",
      "userId": "00770885000471893693"
     },
     "user_tz": -540
    },
    "id": "rkylHOigU2Zy",
    "outputId": "92347042-c03d-4a26-9725-d9feab0410bb"
   },
   "outputs": [
    {
     "data": {
      "text/plain": [
       "(26457, 20)"
      ]
     },
     "execution_count": 69,
     "metadata": {},
     "output_type": "execute_result"
    }
   ],
   "source": [
    "train.shape"
   ]
  },
  {
   "cell_type": "code",
   "execution_count": 70,
   "metadata": {
    "colab": {
     "base_uri": "https://localhost:8080/"
    },
    "executionInfo": {
     "elapsed": 4499,
     "status": "ok",
     "timestamp": 1617445515982,
     "user": {
      "displayName": "youtube dacon",
      "photoUrl": "",
      "userId": "00770885000471893693"
     },
     "user_tz": -540
    },
    "id": "aaxKXV-9U4Ej",
    "outputId": "85f9943d-9ff5-4506-bab4-0f110b582a34"
   },
   "outputs": [
    {
     "data": {
      "text/plain": [
       "(10000, 19)"
      ]
     },
     "execution_count": 70,
     "metadata": {},
     "output_type": "execute_result"
    }
   ],
   "source": [
    "test.shape"
   ]
  },
  {
   "cell_type": "code",
   "execution_count": 71,
   "metadata": {},
   "outputs": [],
   "source": [
    "test = data[-10000:]"
   ]
  },
  {
   "cell_type": "code",
   "execution_count": 72,
   "metadata": {
    "executionInfo": {
     "elapsed": 4475,
     "status": "ok",
     "timestamp": 1617445515983,
     "user": {
      "displayName": "youtube dacon",
      "photoUrl": "",
      "userId": "00770885000471893693"
     },
     "user_tz": -540
    },
    "id": "wY59_omkT3ij"
   },
   "outputs": [],
   "source": [
    "train = data[:-10000]"
   ]
  },
  {
   "cell_type": "code",
   "execution_count": 73,
   "metadata": {
    "executionInfo": {
     "elapsed": 4469,
     "status": "ok",
     "timestamp": 1617445515983,
     "user": {
      "displayName": "youtube dacon",
      "photoUrl": "",
      "userId": "00770885000471893693"
     },
     "user_tz": -540
    },
    "id": "CHgkjhKHU0jD"
   },
   "outputs": [],
   "source": [
    "train_x = train.drop(\"credit\", axis = 1)"
   ]
  },
  {
   "cell_type": "code",
   "execution_count": 74,
   "metadata": {
    "executionInfo": {
     "elapsed": 4462,
     "status": "ok",
     "timestamp": 1617445515984,
     "user": {
      "displayName": "youtube dacon",
      "photoUrl": "",
      "userId": "00770885000471893693"
     },
     "user_tz": -540
    },
    "id": "BNyoVBqFVGSa"
   },
   "outputs": [],
   "source": [
    "train_y = train['credit']"
   ]
  },
  {
   "cell_type": "code",
   "execution_count": 75,
   "metadata": {
    "executionInfo": {
     "elapsed": 4454,
     "status": "ok",
     "timestamp": 1617445515984,
     "user": {
      "displayName": "youtube dacon",
      "photoUrl": "",
      "userId": "00770885000471893693"
     },
     "user_tz": -540
    },
    "id": "VTLo1PBjVb1h"
   },
   "outputs": [],
   "source": [
    "test_x = test.drop(\"credit\", axis = 1)"
   ]
  },
  {
   "cell_type": "code",
   "execution_count": 76,
   "metadata": {
    "colab": {
     "base_uri": "https://localhost:8080/"
    },
    "executionInfo": {
     "elapsed": 4436,
     "status": "ok",
     "timestamp": 1617445515985,
     "user": {
      "displayName": "youtube dacon",
      "photoUrl": "",
      "userId": "00770885000471893693"
     },
     "user_tz": -540
    },
    "id": "w308hDL5VfaS",
    "outputId": "1a8c0606-baa1-415a-d60e-30bfa1aba487"
   },
   "outputs": [
    {
     "data": {
      "text/plain": [
       "(26457, 19)"
      ]
     },
     "execution_count": 76,
     "metadata": {},
     "output_type": "execute_result"
    }
   ],
   "source": [
    "train_x.shape"
   ]
  },
  {
   "cell_type": "code",
   "execution_count": 77,
   "metadata": {
    "colab": {
     "base_uri": "https://localhost:8080/"
    },
    "executionInfo": {
     "elapsed": 4418,
     "status": "ok",
     "timestamp": 1617445515985,
     "user": {
      "displayName": "youtube dacon",
      "photoUrl": "",
      "userId": "00770885000471893693"
     },
     "user_tz": -540
    },
    "id": "Csc4POhBVhot",
    "outputId": "0d2ed2a8-ba96-4e18-871d-499c12ca3979"
   },
   "outputs": [
    {
     "data": {
      "text/plain": [
       "(26457,)"
      ]
     },
     "execution_count": 77,
     "metadata": {},
     "output_type": "execute_result"
    }
   ],
   "source": [
    "train_y.shape"
   ]
  },
  {
   "cell_type": "code",
   "execution_count": 78,
   "metadata": {
    "colab": {
     "base_uri": "https://localhost:8080/"
    },
    "executionInfo": {
     "elapsed": 4400,
     "status": "ok",
     "timestamp": 1617445515986,
     "user": {
      "displayName": "youtube dacon",
      "photoUrl": "",
      "userId": "00770885000471893693"
     },
     "user_tz": -540
    },
    "id": "_DxbO2PcVlcv",
    "outputId": "49c43ef7-9824-43d9-9773-44c95ec1a85f"
   },
   "outputs": [
    {
     "data": {
      "text/plain": [
       "(10000, 19)"
      ]
     },
     "execution_count": 78,
     "metadata": {},
     "output_type": "execute_result"
    }
   ],
   "source": [
    "test_x.shape"
   ]
  },
  {
   "cell_type": "markdown",
   "metadata": {},
   "source": [
    "## (1) RandomForest"
   ]
  },
  {
   "cell_type": "code",
   "execution_count": 79,
   "metadata": {
    "executionInfo": {
     "elapsed": 4383,
     "status": "ok",
     "timestamp": 1617445515986,
     "user": {
      "displayName": "youtube dacon",
      "photoUrl": "",
      "userId": "00770885000471893693"
     },
     "user_tz": -540
    },
    "id": "cyE9IY3Cm1oP"
   },
   "outputs": [],
   "source": [
    "from sklearn.ensemble import RandomForestClassifier"
   ]
  },
  {
   "cell_type": "code",
   "execution_count": 80,
   "metadata": {
    "executionInfo": {
     "elapsed": 4375,
     "status": "ok",
     "timestamp": 1617445515987,
     "user": {
      "displayName": "youtube dacon",
      "photoUrl": "",
      "userId": "00770885000471893693"
     },
     "user_tz": -540
    },
    "id": "N9pKGsN9nB3R"
   },
   "outputs": [],
   "source": [
    "clf = RandomForestClassifier()"
   ]
  },
  {
   "cell_type": "code",
   "execution_count": 81,
   "metadata": {
    "colab": {
     "base_uri": "https://localhost:8080/"
    },
    "executionInfo": {
     "elapsed": 7852,
     "status": "ok",
     "timestamp": 1617445519477,
     "user": {
      "displayName": "youtube dacon",
      "photoUrl": "",
      "userId": "00770885000471893693"
     },
     "user_tz": -540
    },
    "id": "2VGFrHjnnByK",
    "outputId": "d55fd4dc-ee8a-435d-d384-9c986baa9d9e"
   },
   "outputs": [
    {
     "data": {
      "text/plain": [
       "RandomForestClassifier()"
      ]
     },
     "execution_count": 81,
     "metadata": {},
     "output_type": "execute_result"
    }
   ],
   "source": [
    "clf.fit(train_x, train_y)"
   ]
  },
  {
   "cell_type": "code",
   "execution_count": 82,
   "metadata": {
    "executionInfo": {
     "elapsed": 8793,
     "status": "ok",
     "timestamp": 1617445520432,
     "user": {
      "displayName": "youtube dacon",
      "photoUrl": "",
      "userId": "00770885000471893693"
     },
     "user_tz": -540
    },
    "id": "gtp6Bk-3nBwP"
   },
   "outputs": [],
   "source": [
    "train_proba = clf.predict_proba(train_x)"
   ]
  },
  {
   "cell_type": "code",
   "execution_count": 83,
   "metadata": {
    "colab": {
     "base_uri": "https://localhost:8080/"
    },
    "executionInfo": {
     "elapsed": 8781,
     "status": "ok",
     "timestamp": 1617445520433,
     "user": {
      "displayName": "youtube dacon",
      "photoUrl": "",
      "userId": "00770885000471893693"
     },
     "user_tz": -540
    },
    "id": "hFVARmhpnBua",
    "outputId": "708119a3-c4e3-4415-b609-7530a24a1f60"
   },
   "outputs": [
    {
     "data": {
      "text/plain": [
       "array([[0.08, 0.78, 0.14],\n",
       "       [0.11, 0.75, 0.14],\n",
       "       [0.12, 0.04, 0.84],\n",
       "       [0.74, 0.07, 0.19],\n",
       "       [0.09, 0.02, 0.89],\n",
       "       [0.03, 0.77, 0.2 ],\n",
       "       [0.05, 0.06, 0.89],\n",
       "       [0.75, 0.08, 0.17],\n",
       "       [0.1 , 0.01, 0.89],\n",
       "       [0.08, 0.17, 0.75]])"
      ]
     },
     "execution_count": 83,
     "metadata": {},
     "output_type": "execute_result"
    }
   ],
   "source": [
    "train_proba[:10]"
   ]
  },
  {
   "cell_type": "code",
   "execution_count": 84,
   "metadata": {
    "colab": {
     "base_uri": "https://localhost:8080/"
    },
    "executionInfo": {
     "elapsed": 8762,
     "status": "ok",
     "timestamp": 1617445520435,
     "user": {
      "displayName": "youtube dacon",
      "photoUrl": "",
      "userId": "00770885000471893693"
     },
     "user_tz": -540
    },
    "id": "iqYpGf97nBsC",
    "outputId": "77a4784e-0815-40cc-dabd-4498909cf8e3"
   },
   "outputs": [
    {
     "data": {
      "text/plain": [
       "array([1, 1, 2, 0, 2, 1, 2, 0, 2, 2], dtype=int64)"
      ]
     },
     "execution_count": 84,
     "metadata": {},
     "output_type": "execute_result"
    }
   ],
   "source": [
    "np.argmax(train_proba, axis = 1)[:10]"
   ]
  },
  {
   "cell_type": "code",
   "execution_count": 85,
   "metadata": {
    "executionInfo": {
     "elapsed": 8745,
     "status": "ok",
     "timestamp": 1617445520436,
     "user": {
      "displayName": "youtube dacon",
      "photoUrl": "",
      "userId": "00770885000471893693"
     },
     "user_tz": -540
    },
    "id": "L11P8djboDem"
   },
   "outputs": [],
   "source": [
    "sample_submission.iloc[:,1:] =  clf.predict_proba(test_x)"
   ]
  },
  {
   "cell_type": "code",
   "execution_count": 86,
   "metadata": {
    "colab": {
     "base_uri": "https://localhost:8080/",
     "height": 415
    },
    "executionInfo": {
     "elapsed": 8735,
     "status": "ok",
     "timestamp": 1617445520437,
     "user": {
      "displayName": "youtube dacon",
      "photoUrl": "",
      "userId": "00770885000471893693"
     },
     "user_tz": -540
    },
    "id": "T-j4PhWBoGqj",
    "outputId": "2d413d1f-a177-4022-a1a0-7d3764600eda"
   },
   "outputs": [
    {
     "data": {
      "text/html": [
       "<div>\n",
       "<style scoped>\n",
       "    .dataframe tbody tr th:only-of-type {\n",
       "        vertical-align: middle;\n",
       "    }\n",
       "\n",
       "    .dataframe tbody tr th {\n",
       "        vertical-align: top;\n",
       "    }\n",
       "\n",
       "    .dataframe thead th {\n",
       "        text-align: right;\n",
       "    }\n",
       "</style>\n",
       "<table border=\"1\" class=\"dataframe\">\n",
       "  <thead>\n",
       "    <tr style=\"text-align: right;\">\n",
       "      <th></th>\n",
       "      <th>index</th>\n",
       "      <th>0</th>\n",
       "      <th>1</th>\n",
       "      <th>2</th>\n",
       "    </tr>\n",
       "  </thead>\n",
       "  <tbody>\n",
       "    <tr>\n",
       "      <th>0</th>\n",
       "      <td>26457</td>\n",
       "      <td>0.12</td>\n",
       "      <td>0.25</td>\n",
       "      <td>0.63</td>\n",
       "    </tr>\n",
       "    <tr>\n",
       "      <th>1</th>\n",
       "      <td>26458</td>\n",
       "      <td>0.22</td>\n",
       "      <td>0.22</td>\n",
       "      <td>0.56</td>\n",
       "    </tr>\n",
       "    <tr>\n",
       "      <th>2</th>\n",
       "      <td>26459</td>\n",
       "      <td>0.08</td>\n",
       "      <td>0.19</td>\n",
       "      <td>0.73</td>\n",
       "    </tr>\n",
       "    <tr>\n",
       "      <th>3</th>\n",
       "      <td>26460</td>\n",
       "      <td>0.15</td>\n",
       "      <td>0.18</td>\n",
       "      <td>0.67</td>\n",
       "    </tr>\n",
       "    <tr>\n",
       "      <th>4</th>\n",
       "      <td>26461</td>\n",
       "      <td>0.12</td>\n",
       "      <td>0.49</td>\n",
       "      <td>0.39</td>\n",
       "    </tr>\n",
       "    <tr>\n",
       "      <th>...</th>\n",
       "      <td>...</td>\n",
       "      <td>...</td>\n",
       "      <td>...</td>\n",
       "      <td>...</td>\n",
       "    </tr>\n",
       "    <tr>\n",
       "      <th>9995</th>\n",
       "      <td>36452</td>\n",
       "      <td>0.12</td>\n",
       "      <td>0.42</td>\n",
       "      <td>0.46</td>\n",
       "    </tr>\n",
       "    <tr>\n",
       "      <th>9996</th>\n",
       "      <td>36453</td>\n",
       "      <td>0.23</td>\n",
       "      <td>0.24</td>\n",
       "      <td>0.53</td>\n",
       "    </tr>\n",
       "    <tr>\n",
       "      <th>9997</th>\n",
       "      <td>36454</td>\n",
       "      <td>0.04</td>\n",
       "      <td>0.11</td>\n",
       "      <td>0.85</td>\n",
       "    </tr>\n",
       "    <tr>\n",
       "      <th>9998</th>\n",
       "      <td>36455</td>\n",
       "      <td>0.14</td>\n",
       "      <td>0.39</td>\n",
       "      <td>0.47</td>\n",
       "    </tr>\n",
       "    <tr>\n",
       "      <th>9999</th>\n",
       "      <td>36456</td>\n",
       "      <td>0.15</td>\n",
       "      <td>0.45</td>\n",
       "      <td>0.40</td>\n",
       "    </tr>\n",
       "  </tbody>\n",
       "</table>\n",
       "<p>10000 rows × 4 columns</p>\n",
       "</div>"
      ],
      "text/plain": [
       "      index     0     1     2\n",
       "0     26457  0.12  0.25  0.63\n",
       "1     26458  0.22  0.22  0.56\n",
       "2     26459  0.08  0.19  0.73\n",
       "3     26460  0.15  0.18  0.67\n",
       "4     26461  0.12  0.49  0.39\n",
       "...     ...   ...   ...   ...\n",
       "9995  36452  0.12  0.42  0.46\n",
       "9996  36453  0.23  0.24  0.53\n",
       "9997  36454  0.04  0.11  0.85\n",
       "9998  36455  0.14  0.39  0.47\n",
       "9999  36456  0.15  0.45  0.40\n",
       "\n",
       "[10000 rows x 4 columns]"
      ]
     },
     "execution_count": 86,
     "metadata": {},
     "output_type": "execute_result"
    }
   ],
   "source": [
    "sample_submission"
   ]
  },
  {
   "cell_type": "code",
   "execution_count": 108,
   "metadata": {
    "executionInfo": {
     "elapsed": 8723,
     "status": "ok",
     "timestamp": 1617445520438,
     "user": {
      "displayName": "youtube dacon",
      "photoUrl": "",
      "userId": "00770885000471893693"
     },
     "user_tz": -540
    },
    "id": "VGR5qFLuoQmi"
   },
   "outputs": [],
   "source": [
    "sample_submission.to_csv(\"0503_ver1.csv\", index = False)"
   ]
  },
  {
   "cell_type": "markdown",
   "metadata": {
    "executionInfo": {
     "elapsed": 8718,
     "status": "ok",
     "timestamp": 1617445520439,
     "user": {
      "displayName": "youtube dacon",
      "photoUrl": "",
      "userId": "00770885000471893693"
     },
     "user_tz": -540
    },
    "id": "znd-S6G7hbnP"
   },
   "source": [
    "## (2-1) Validation"
   ]
  },
  {
   "cell_type": "code",
   "execution_count": 88,
   "metadata": {
    "executionInfo": {
     "elapsed": 8713,
     "status": "ok",
     "timestamp": 1617445520440,
     "user": {
      "displayName": "youtube dacon",
      "photoUrl": "",
      "userId": "00770885000471893693"
     },
     "user_tz": -540
    },
    "id": "xY7-qNrpi4CM"
   },
   "outputs": [],
   "source": [
    "from sklearn.model_selection import train_test_split"
   ]
  },
  {
   "cell_type": "code",
   "execution_count": 89,
   "metadata": {
    "executionInfo": {
     "elapsed": 8706,
     "status": "ok",
     "timestamp": 1617445520442,
     "user": {
      "displayName": "youtube dacon",
      "photoUrl": "",
      "userId": "00770885000471893693"
     },
     "user_tz": -540
    },
    "id": "ggsgakMmjLKm"
   },
   "outputs": [],
   "source": [
    "X_train, X_val, y_train, y_val = train_test_split(train_x, train_y,\n",
    "                 stratify = train_y, \n",
    "                 test_size = 0.25,\n",
    "                 random_state = 10086\n",
    "                 )"
   ]
  },
  {
   "cell_type": "code",
   "execution_count": 90,
   "metadata": {
    "colab": {
     "base_uri": "https://localhost:8080/"
    },
    "executionInfo": {
     "elapsed": 8696,
     "status": "ok",
     "timestamp": 1617445520443,
     "user": {
      "displayName": "youtube dacon",
      "photoUrl": "",
      "userId": "00770885000471893693"
     },
     "user_tz": -540
    },
    "id": "TE5e2wTdjetw",
    "outputId": "c19cfcea-aee5-4d48-b032-f8c7a782da65"
   },
   "outputs": [
    {
     "name": "stdout",
     "output_type": "stream",
     "text": [
      "(19842, 19) (6615, 19) (19842,) (6615,)\n"
     ]
    }
   ],
   "source": [
    "print(X_train.shape, X_val.shape, y_train.shape, y_val.shape)"
   ]
  },
  {
   "cell_type": "code",
   "execution_count": 91,
   "metadata": {
    "executionInfo": {
     "elapsed": 8686,
     "status": "ok",
     "timestamp": 1617445520444,
     "user": {
      "displayName": "youtube dacon",
      "photoUrl": "",
      "userId": "00770885000471893693"
     },
     "user_tz": -540
    },
    "id": "G3Ox_CHMjuMl"
   },
   "outputs": [],
   "source": [
    "clf = RandomForestClassifier()"
   ]
  },
  {
   "cell_type": "code",
   "execution_count": 92,
   "metadata": {
    "colab": {
     "base_uri": "https://localhost:8080/"
    },
    "executionInfo": {
     "elapsed": 11293,
     "status": "ok",
     "timestamp": 1617445523062,
     "user": {
      "displayName": "youtube dacon",
      "photoUrl": "",
      "userId": "00770885000471893693"
     },
     "user_tz": -540
    },
    "id": "TYKN0OOfjz0L",
    "outputId": "24eebad6-ff0d-4190-8496-12fe13e940b0"
   },
   "outputs": [
    {
     "data": {
      "text/plain": [
       "RandomForestClassifier()"
      ]
     },
     "execution_count": 92,
     "metadata": {},
     "output_type": "execute_result"
    }
   ],
   "source": [
    "clf.fit(X_train, y_train)"
   ]
  },
  {
   "cell_type": "code",
   "execution_count": 93,
   "metadata": {
    "executionInfo": {
     "elapsed": 11283,
     "status": "ok",
     "timestamp": 1617445523063,
     "user": {
      "displayName": "youtube dacon",
      "photoUrl": "",
      "userId": "00770885000471893693"
     },
     "user_tz": -540
    },
    "id": "1aaG89dwj3Km"
   },
   "outputs": [],
   "source": [
    "y_proba = clf.predict_proba(X_val)"
   ]
  },
  {
   "cell_type": "code",
   "execution_count": 94,
   "metadata": {
    "executionInfo": {
     "elapsed": 11278,
     "status": "ok",
     "timestamp": 1617445523064,
     "user": {
      "displayName": "youtube dacon",
      "photoUrl": "",
      "userId": "00770885000471893693"
     },
     "user_tz": -540
    },
    "id": "X-VYnE84j7p5"
   },
   "outputs": [],
   "source": [
    "y_val_onehot = pd.get_dummies(y_val)"
   ]
  },
  {
   "cell_type": "code",
   "execution_count": 95,
   "metadata": {
    "colab": {
     "base_uri": "https://localhost:8080/"
    },
    "executionInfo": {
     "elapsed": 11269,
     "status": "ok",
     "timestamp": 1617445523065,
     "user": {
      "displayName": "youtube dacon",
      "photoUrl": "",
      "userId": "00770885000471893693"
     },
     "user_tz": -540
    },
    "id": "HpTMOJBej9kS",
    "outputId": "82802adf-688c-4079-bea1-6fdfe5828b6f"
   },
   "outputs": [
    {
     "data": {
      "text/plain": [
       "array([[0.22, 0.34, 0.44],\n",
       "       [0.05, 0.18, 0.77],\n",
       "       [0.12, 0.  , 0.88],\n",
       "       ...,\n",
       "       [0.06, 0.07, 0.87],\n",
       "       [0.02, 0.21, 0.77],\n",
       "       [0.12, 0.25, 0.63]])"
      ]
     },
     "execution_count": 95,
     "metadata": {},
     "output_type": "execute_result"
    }
   ],
   "source": [
    "y_proba"
   ]
  },
  {
   "cell_type": "code",
   "execution_count": 96,
   "metadata": {
    "colab": {
     "base_uri": "https://localhost:8080/",
     "height": 415
    },
    "executionInfo": {
     "elapsed": 11255,
     "status": "ok",
     "timestamp": 1617445523066,
     "user": {
      "displayName": "youtube dacon",
      "photoUrl": "",
      "userId": "00770885000471893693"
     },
     "user_tz": -540
    },
    "id": "6zjjDZCXkZ_C",
    "outputId": "ab58754d-5827-40eb-e56f-090f0050bb2d"
   },
   "outputs": [
    {
     "data": {
      "text/html": [
       "<div>\n",
       "<style scoped>\n",
       "    .dataframe tbody tr th:only-of-type {\n",
       "        vertical-align: middle;\n",
       "    }\n",
       "\n",
       "    .dataframe tbody tr th {\n",
       "        vertical-align: top;\n",
       "    }\n",
       "\n",
       "    .dataframe thead th {\n",
       "        text-align: right;\n",
       "    }\n",
       "</style>\n",
       "<table border=\"1\" class=\"dataframe\">\n",
       "  <thead>\n",
       "    <tr style=\"text-align: right;\">\n",
       "      <th></th>\n",
       "      <th>0.0</th>\n",
       "      <th>1.0</th>\n",
       "      <th>2.0</th>\n",
       "    </tr>\n",
       "  </thead>\n",
       "  <tbody>\n",
       "    <tr>\n",
       "      <th>36</th>\n",
       "      <td>0</td>\n",
       "      <td>0</td>\n",
       "      <td>1</td>\n",
       "    </tr>\n",
       "    <tr>\n",
       "      <th>3464</th>\n",
       "      <td>0</td>\n",
       "      <td>0</td>\n",
       "      <td>1</td>\n",
       "    </tr>\n",
       "    <tr>\n",
       "      <th>2640</th>\n",
       "      <td>0</td>\n",
       "      <td>0</td>\n",
       "      <td>1</td>\n",
       "    </tr>\n",
       "    <tr>\n",
       "      <th>22500</th>\n",
       "      <td>0</td>\n",
       "      <td>1</td>\n",
       "      <td>0</td>\n",
       "    </tr>\n",
       "    <tr>\n",
       "      <th>17275</th>\n",
       "      <td>0</td>\n",
       "      <td>1</td>\n",
       "      <td>0</td>\n",
       "    </tr>\n",
       "    <tr>\n",
       "      <th>...</th>\n",
       "      <td>...</td>\n",
       "      <td>...</td>\n",
       "      <td>...</td>\n",
       "    </tr>\n",
       "    <tr>\n",
       "      <th>6806</th>\n",
       "      <td>0</td>\n",
       "      <td>1</td>\n",
       "      <td>0</td>\n",
       "    </tr>\n",
       "    <tr>\n",
       "      <th>23096</th>\n",
       "      <td>0</td>\n",
       "      <td>0</td>\n",
       "      <td>1</td>\n",
       "    </tr>\n",
       "    <tr>\n",
       "      <th>7756</th>\n",
       "      <td>0</td>\n",
       "      <td>0</td>\n",
       "      <td>1</td>\n",
       "    </tr>\n",
       "    <tr>\n",
       "      <th>23331</th>\n",
       "      <td>0</td>\n",
       "      <td>0</td>\n",
       "      <td>1</td>\n",
       "    </tr>\n",
       "    <tr>\n",
       "      <th>25457</th>\n",
       "      <td>0</td>\n",
       "      <td>0</td>\n",
       "      <td>1</td>\n",
       "    </tr>\n",
       "  </tbody>\n",
       "</table>\n",
       "<p>6615 rows × 3 columns</p>\n",
       "</div>"
      ],
      "text/plain": [
       "       0.0  1.0  2.0\n",
       "36       0    0    1\n",
       "3464     0    0    1\n",
       "2640     0    0    1\n",
       "22500    0    1    0\n",
       "17275    0    1    0\n",
       "...    ...  ...  ...\n",
       "6806     0    1    0\n",
       "23096    0    0    1\n",
       "7756     0    0    1\n",
       "23331    0    0    1\n",
       "25457    0    0    1\n",
       "\n",
       "[6615 rows x 3 columns]"
      ]
     },
     "execution_count": 96,
     "metadata": {},
     "output_type": "execute_result"
    }
   ],
   "source": [
    "y_val_onehot"
   ]
  },
  {
   "cell_type": "code",
   "execution_count": 97,
   "metadata": {
    "executionInfo": {
     "elapsed": 11244,
     "status": "ok",
     "timestamp": 1617445523067,
     "user": {
      "displayName": "youtube dacon",
      "photoUrl": "",
      "userId": "00770885000471893693"
     },
     "user_tz": -540
    },
    "id": "HABu1i0lka7r"
   },
   "outputs": [],
   "source": [
    "from sklearn.metrics import log_loss"
   ]
  },
  {
   "cell_type": "code",
   "execution_count": 98,
   "metadata": {
    "colab": {
     "base_uri": "https://localhost:8080/"
    },
    "executionInfo": {
     "elapsed": 11235,
     "status": "ok",
     "timestamp": 1617445523068,
     "user": {
      "displayName": "youtube dacon",
      "photoUrl": "",
      "userId": "00770885000471893693"
     },
     "user_tz": -540
    },
    "id": "lqT76p3-kip4",
    "outputId": "4fa6d75b-79cb-4ac1-8ab3-f79c11457eb4"
   },
   "outputs": [
    {
     "data": {
      "text/plain": [
       "0.9981021140299718"
      ]
     },
     "execution_count": 98,
     "metadata": {},
     "output_type": "execute_result"
    }
   ],
   "source": [
    "log_loss(y_val_onehot, y_proba)"
   ]
  },
  {
   "cell_type": "markdown",
   "metadata": {},
   "source": [
    "## (2-2) K-Fold"
   ]
  },
  {
   "cell_type": "code",
   "execution_count": 99,
   "metadata": {
    "executionInfo": {
     "elapsed": 1156,
     "status": "ok",
     "timestamp": 1617445680594,
     "user": {
      "displayName": "youtube dacon",
      "photoUrl": "",
      "userId": "00770885000471893693"
     },
     "user_tz": -540
    },
    "id": "QjV35o1_LtFD"
   },
   "outputs": [],
   "source": [
    "from sklearn.model_selection import StratifiedKFold"
   ]
  },
  {
   "cell_type": "code",
   "execution_count": 100,
   "metadata": {
    "executionInfo": {
     "elapsed": 595,
     "status": "ok",
     "timestamp": 1617445738461,
     "user": {
      "displayName": "youtube dacon",
      "photoUrl": "",
      "userId": "00770885000471893693"
     },
     "user_tz": -540
    },
    "id": "HqVxgXgjLtCG"
   },
   "outputs": [],
   "source": [
    "folds = StratifiedKFold(n_splits=5, shuffle=True, random_state=55)\n"
   ]
  },
  {
   "cell_type": "code",
   "execution_count": 101,
   "metadata": {
    "executionInfo": {
     "elapsed": 15069,
     "status": "ok",
     "timestamp": 1617447400041,
     "user": {
      "displayName": "youtube dacon",
      "photoUrl": "",
      "userId": "00770885000471893693"
     },
     "user_tz": -540
    },
    "id": "ihh8R9bnLs_h"
   },
   "outputs": [
    {
     "data": {
      "text/plain": [
       "0.9839280319809296"
      ]
     },
     "execution_count": 101,
     "metadata": {},
     "output_type": "execute_result"
    }
   ],
   "source": [
    "outcomes = []\n",
    "for n_fold, (train_index, val_index)  in enumerate(folds.split(train_x, train_y)):\n",
    "    X_train, X_val = train_x.iloc[train_index], train_x.iloc[val_index]\n",
    "    y_train, y_val = train_y.iloc[train_index], train_y.iloc[val_index]\n",
    "    clf = RandomForestClassifier()\n",
    "    clf.fit(X_train, y_train)\n",
    "    predictions = clf.predict_proba(X_val)\n",
    "    y_val_onehot = pd.get_dummies(y_val)\n",
    "\n",
    "    logloss = log_loss(y_val_onehot, predictions)\n",
    "    outcomes.append(logloss)\n",
    "    \n",
    "np.mean(outcomes)"
   ]
  },
  {
   "cell_type": "code",
   "execution_count": 102,
   "metadata": {
    "colab": {
     "base_uri": "https://localhost:8080/"
    },
    "executionInfo": {
     "elapsed": 741,
     "status": "ok",
     "timestamp": 1617447452205,
     "user": {
      "displayName": "youtube dacon",
      "photoUrl": "",
      "userId": "00770885000471893693"
     },
     "user_tz": -540
    },
    "id": "o2PhvDjtSwkj",
    "outputId": "ee58c51c-9ed4-48d1-c90b-eb63d740eef0"
   },
   "outputs": [
    {
     "data": {
      "text/plain": [
       "0.9839280319809296"
      ]
     },
     "execution_count": 102,
     "metadata": {},
     "output_type": "execute_result"
    }
   ],
   "source": [
    "np.mean(outcomes)"
   ]
  },
  {
   "cell_type": "code",
   "execution_count": 103,
   "metadata": {
    "colab": {
     "base_uri": "https://localhost:8080/"
    },
    "executionInfo": {
     "elapsed": 15247,
     "status": "ok",
     "timestamp": 1617447920570,
     "user": {
      "displayName": "youtube dacon",
      "photoUrl": "",
      "userId": "00770885000471893693"
     },
     "user_tz": -540
    },
    "id": "XSNho9KfSjxK",
    "outputId": "2d95a7d7-6cde-4348-c61f-c34b6f9ac30d"
   },
   "outputs": [
    {
     "data": {
      "text/plain": [
       "0.97647433582773"
      ]
     },
     "execution_count": 103,
     "metadata": {},
     "output_type": "execute_result"
    }
   ],
   "source": [
    "outcomes = []\n",
    "sub = np.zeros((test_x.shape[0],3))\n",
    "for n_fold, (train_index, val_index)  in enumerate(folds.split(train_x, train_y)):\n",
    "    X_train, X_val = train_x.iloc[train_index], train_x.iloc[val_index]\n",
    "    y_train, y_val = train_y.iloc[train_index], train_y.iloc[val_index]\n",
    "    clf = RandomForestClassifier()\n",
    "    clf.fit(X_train, y_train)\n",
    "    predictions = clf.predict_proba(X_val)\n",
    "    y_val_onehot = pd.get_dummies(y_val)\n",
    "\n",
    "    sub += clf.predict_proba(test_x)\n",
    "\n",
    "    logloss = log_loss(y_val_onehot, predictions)\n",
    "    outcomes.append(logloss)\n",
    "\n",
    "sub = sub / 5\n",
    "   \n",
    "np.mean(outcomes)"
   ]
  },
  {
   "cell_type": "code",
   "execution_count": 104,
   "metadata": {
    "colab": {
     "base_uri": "https://localhost:8080/"
    },
    "executionInfo": {
     "elapsed": 812,
     "status": "ok",
     "timestamp": 1617447925913,
     "user": {
      "displayName": "youtube dacon",
      "photoUrl": "",
      "userId": "00770885000471893693"
     },
     "user_tz": -540
    },
    "id": "N5WtF2ubSjuC",
    "outputId": "4c52c208-3420-4d52-84d2-67c1083ca025"
   },
   "outputs": [
    {
     "data": {
      "text/plain": [
       "array([[0.118, 0.212, 0.67 ],\n",
       "       [0.152, 0.212, 0.636],\n",
       "       [0.076, 0.226, 0.698],\n",
       "       ...,\n",
       "       [0.068, 0.146, 0.786],\n",
       "       [0.082, 0.42 , 0.498],\n",
       "       [0.116, 0.414, 0.47 ]])"
      ]
     },
     "execution_count": 104,
     "metadata": {},
     "output_type": "execute_result"
    }
   ],
   "source": [
    "sub"
   ]
  },
  {
   "cell_type": "code",
   "execution_count": 105,
   "metadata": {
    "executionInfo": {
     "elapsed": 634,
     "status": "ok",
     "timestamp": 1617447957036,
     "user": {
      "displayName": "youtube dacon",
      "photoUrl": "",
      "userId": "00770885000471893693"
     },
     "user_tz": -540
    },
    "id": "Nc5_mjGJSjrA"
   },
   "outputs": [],
   "source": [
    "sample_submission.iloc[:,1:] =  sub"
   ]
  },
  {
   "cell_type": "code",
   "execution_count": 106,
   "metadata": {},
   "outputs": [
    {
     "data": {
      "text/html": [
       "<div>\n",
       "<style scoped>\n",
       "    .dataframe tbody tr th:only-of-type {\n",
       "        vertical-align: middle;\n",
       "    }\n",
       "\n",
       "    .dataframe tbody tr th {\n",
       "        vertical-align: top;\n",
       "    }\n",
       "\n",
       "    .dataframe thead th {\n",
       "        text-align: right;\n",
       "    }\n",
       "</style>\n",
       "<table border=\"1\" class=\"dataframe\">\n",
       "  <thead>\n",
       "    <tr style=\"text-align: right;\">\n",
       "      <th></th>\n",
       "      <th>index</th>\n",
       "      <th>0</th>\n",
       "      <th>1</th>\n",
       "      <th>2</th>\n",
       "    </tr>\n",
       "  </thead>\n",
       "  <tbody>\n",
       "    <tr>\n",
       "      <th>0</th>\n",
       "      <td>26457</td>\n",
       "      <td>0.118</td>\n",
       "      <td>0.212</td>\n",
       "      <td>0.670</td>\n",
       "    </tr>\n",
       "    <tr>\n",
       "      <th>1</th>\n",
       "      <td>26458</td>\n",
       "      <td>0.152</td>\n",
       "      <td>0.212</td>\n",
       "      <td>0.636</td>\n",
       "    </tr>\n",
       "    <tr>\n",
       "      <th>2</th>\n",
       "      <td>26459</td>\n",
       "      <td>0.076</td>\n",
       "      <td>0.226</td>\n",
       "      <td>0.698</td>\n",
       "    </tr>\n",
       "    <tr>\n",
       "      <th>3</th>\n",
       "      <td>26460</td>\n",
       "      <td>0.108</td>\n",
       "      <td>0.218</td>\n",
       "      <td>0.674</td>\n",
       "    </tr>\n",
       "    <tr>\n",
       "      <th>4</th>\n",
       "      <td>26461</td>\n",
       "      <td>0.100</td>\n",
       "      <td>0.408</td>\n",
       "      <td>0.492</td>\n",
       "    </tr>\n",
       "    <tr>\n",
       "      <th>...</th>\n",
       "      <td>...</td>\n",
       "      <td>...</td>\n",
       "      <td>...</td>\n",
       "      <td>...</td>\n",
       "    </tr>\n",
       "    <tr>\n",
       "      <th>9995</th>\n",
       "      <td>36452</td>\n",
       "      <td>0.108</td>\n",
       "      <td>0.384</td>\n",
       "      <td>0.508</td>\n",
       "    </tr>\n",
       "    <tr>\n",
       "      <th>9996</th>\n",
       "      <td>36453</td>\n",
       "      <td>0.170</td>\n",
       "      <td>0.274</td>\n",
       "      <td>0.556</td>\n",
       "    </tr>\n",
       "    <tr>\n",
       "      <th>9997</th>\n",
       "      <td>36454</td>\n",
       "      <td>0.068</td>\n",
       "      <td>0.146</td>\n",
       "      <td>0.786</td>\n",
       "    </tr>\n",
       "    <tr>\n",
       "      <th>9998</th>\n",
       "      <td>36455</td>\n",
       "      <td>0.082</td>\n",
       "      <td>0.420</td>\n",
       "      <td>0.498</td>\n",
       "    </tr>\n",
       "    <tr>\n",
       "      <th>9999</th>\n",
       "      <td>36456</td>\n",
       "      <td>0.116</td>\n",
       "      <td>0.414</td>\n",
       "      <td>0.470</td>\n",
       "    </tr>\n",
       "  </tbody>\n",
       "</table>\n",
       "<p>10000 rows × 4 columns</p>\n",
       "</div>"
      ],
      "text/plain": [
       "      index      0      1      2\n",
       "0     26457  0.118  0.212  0.670\n",
       "1     26458  0.152  0.212  0.636\n",
       "2     26459  0.076  0.226  0.698\n",
       "3     26460  0.108  0.218  0.674\n",
       "4     26461  0.100  0.408  0.492\n",
       "...     ...    ...    ...    ...\n",
       "9995  36452  0.108  0.384  0.508\n",
       "9996  36453  0.170  0.274  0.556\n",
       "9997  36454  0.068  0.146  0.786\n",
       "9998  36455  0.082  0.420  0.498\n",
       "9999  36456  0.116  0.414  0.470\n",
       "\n",
       "[10000 rows x 4 columns]"
      ]
     },
     "execution_count": 106,
     "metadata": {},
     "output_type": "execute_result"
    }
   ],
   "source": [
    "sample_submission"
   ]
  },
  {
   "cell_type": "code",
   "execution_count": 107,
   "metadata": {
    "executionInfo": {
     "elapsed": 708,
     "status": "ok",
     "timestamp": 1617447993881,
     "user": {
      "displayName": "youtube dacon",
      "photoUrl": "",
      "userId": "00770885000471893693"
     },
     "user_tz": -540
    },
    "id": "nlF0HUn7Sjl-"
   },
   "outputs": [],
   "source": [
    "sample_submission.to_csv(\"5fold_prediction_ver1.csv\", index = False)"
   ]
  }
 ],
 "metadata": {
  "colab": {
   "authorship_tag": "ABX9TyOYtTkYj21ll5RVdvP7w2Dg",
   "collapsed_sections": [],
   "mount_file_id": "1GxujCu2C6ryL1WOMuQKh_J5qQxiKb6Cf",
   "name": "Baseline.ipynb",
   "provenance": []
  },
  "kernelspec": {
   "display_name": "Python 3",
   "language": "python",
   "name": "python3"
  },
  "language_info": {
   "codemirror_mode": {
    "name": "ipython",
    "version": 3
   },
   "file_extension": ".py",
   "mimetype": "text/x-python",
   "name": "python",
   "nbconvert_exporter": "python",
   "pygments_lexer": "ipython3",
   "version": "3.8.5"
  }
 },
 "nbformat": 4,
 "nbformat_minor": 4
}
