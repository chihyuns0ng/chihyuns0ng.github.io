{
 "cells": [
  {
   "cell_type": "markdown",
   "metadata": {},
   "source": [
    "# 라이브러리 호출"
   ]
  },
  {
   "cell_type": "code",
   "execution_count": 1,
   "metadata": {
    "executionInfo": {
     "elapsed": 3343,
     "status": "ok",
     "timestamp": 1617445514092,
     "user": {
      "displayName": "youtube dacon",
      "photoUrl": "",
      "userId": "00770885000471893693"
     },
     "user_tz": -540
    },
    "id": "vQ0TeqzQwyH8"
   },
   "outputs": [],
   "source": [
    "import warnings\n",
    "warnings.filterwarnings('ignore')\n",
    "import glob\n",
    "import pandas as pd\n",
    "import numpy as np\n",
    "from lightgbm import LGBMClassifier\n",
    "from sklearn.model_selection import StratifiedKFold\n",
    "from sklearn.preprocessing import OneHotEncoder\n",
    "import random"
   ]
  },
  {
   "cell_type": "code",
   "execution_count": 2,
   "metadata": {
    "executionInfo": {
     "elapsed": 3337,
     "status": "ok",
     "timestamp": 1617445514093,
     "user": {
      "displayName": "youtube dacon",
      "photoUrl": "",
      "userId": "00770885000471893693"
     },
     "user_tz": -540
    },
    "id": "XhVVKX-QxIUY"
   },
   "outputs": [],
   "source": [
    "train = pd.read_csv('train.csv')\n",
    "train = train.drop(['index'], axis=1)\n",
    "train.fillna('NAN', inplace=True) \n",
    "\n",
    "\n",
    "test = pd.read_csv('test.csv')\n",
    "test = test.drop(['index'], axis=1)\n",
    "test.fillna('NAN', inplace=True)\n",
    "\n",
    "submit = pd.read_csv('sample_submission.csv')"
   ]
  },
  {
   "cell_type": "markdown",
   "metadata": {},
   "source": [
    "# 전처리"
   ]
  },
  {
   "cell_type": "code",
   "execution_count": 3,
   "metadata": {},
   "outputs": [],
   "source": [
    "object_col = []\n",
    "for col in train.columns:\n",
    "    if train[col].dtype == 'object':\n",
    "        object_col.append(col)"
   ]
  },
  {
   "cell_type": "code",
   "execution_count": 4,
   "metadata": {},
   "outputs": [],
   "source": [
    "enc = OneHotEncoder()\n",
    "enc.fit(train.loc[:,object_col])\n",
    "\n",
    "\n",
    "train_onehot_df = pd.DataFrame(enc.transform(train.loc[:,object_col]).toarray(), \n",
    "             columns=enc.get_feature_names(object_col))\n",
    "train.drop(object_col, axis=1, inplace=True)\n",
    "train = pd.concat([train, train_onehot_df], axis=1)"
   ]
  },
  {
   "cell_type": "code",
   "execution_count": 5,
   "metadata": {},
   "outputs": [],
   "source": [
    "test_onehot_df = pd.DataFrame(enc.transform(test.loc[:,object_col]).toarray(), \n",
    "             columns=enc.get_feature_names(object_col))\n",
    "test.drop(object_col, axis=1, inplace=True)\n",
    "test = pd.concat([test, test_onehot_df], axis=1)"
   ]
  },
  {
   "cell_type": "markdown",
   "metadata": {},
   "source": [
    "# 모델링"
   ]
  },
  {
   "cell_type": "code",
   "execution_count": 6,
   "metadata": {},
   "outputs": [],
   "source": [
    "skf = StratifiedKFold(n_splits=5, shuffle=True, random_state=42)\n",
    "folds=[]\n",
    "for train_idx, valid_idx in skf.split(train, train['credit']):\n",
    "    folds.append((train_idx, valid_idx))"
   ]
  },
  {
   "cell_type": "code",
   "execution_count": 7,
   "metadata": {},
   "outputs": [
    {
     "name": "stdout",
     "output_type": "stream",
     "text": [
      "====================================1============================================\n",
      "Training until validation scores don't improve for 30 rounds\n",
      "[100]\ttraining's multi_logloss: 0.649825\tvalid_1's multi_logloss: 0.754342\n",
      "[200]\ttraining's multi_logloss: 0.565196\tvalid_1's multi_logloss: 0.738368\n",
      "[300]\ttraining's multi_logloss: 0.503465\tvalid_1's multi_logloss: 0.731678\n",
      "Early stopping, best iteration is:\n",
      "[307]\ttraining's multi_logloss: 0.499573\tvalid_1's multi_logloss: 0.731416\n",
      "================================================================================\n",
      "\n",
      "\n",
      "====================================2============================================\n",
      "Training until validation scores don't improve for 30 rounds\n",
      "[100]\ttraining's multi_logloss: 0.646021\tvalid_1's multi_logloss: 0.764365\n",
      "[200]\ttraining's multi_logloss: 0.560632\tvalid_1's multi_logloss: 0.751211\n",
      "[300]\ttraining's multi_logloss: 0.497513\tvalid_1's multi_logloss: 0.748437\n",
      "Early stopping, best iteration is:\n",
      "[330]\ttraining's multi_logloss: 0.480923\tvalid_1's multi_logloss: 0.747248\n",
      "================================================================================\n",
      "\n",
      "\n",
      "====================================3============================================\n",
      "Training until validation scores don't improve for 30 rounds\n",
      "[100]\ttraining's multi_logloss: 0.650293\tvalid_1's multi_logloss: 0.758441\n",
      "[200]\ttraining's multi_logloss: 0.562092\tvalid_1's multi_logloss: 0.744718\n",
      "[300]\ttraining's multi_logloss: 0.497577\tvalid_1's multi_logloss: 0.742915\n",
      "Early stopping, best iteration is:\n",
      "[300]\ttraining's multi_logloss: 0.497577\tvalid_1's multi_logloss: 0.742915\n",
      "================================================================================\n",
      "\n",
      "\n",
      "====================================4============================================\n",
      "Training until validation scores don't improve for 30 rounds\n",
      "[100]\ttraining's multi_logloss: 0.648708\tvalid_1's multi_logloss: 0.755516\n",
      "[200]\ttraining's multi_logloss: 0.562289\tvalid_1's multi_logloss: 0.7392\n",
      "Early stopping, best iteration is:\n",
      "[256]\ttraining's multi_logloss: 0.525232\tvalid_1's multi_logloss: 0.735804\n",
      "================================================================================\n",
      "\n",
      "\n",
      "====================================5============================================\n",
      "Training until validation scores don't improve for 30 rounds\n",
      "[100]\ttraining's multi_logloss: 0.651188\tvalid_1's multi_logloss: 0.755536\n",
      "[200]\ttraining's multi_logloss: 0.565233\tvalid_1's multi_logloss: 0.741456\n",
      "[300]\ttraining's multi_logloss: 0.500595\tvalid_1's multi_logloss: 0.736311\n",
      "Early stopping, best iteration is:\n",
      "[289]\ttraining's multi_logloss: 0.50667\tvalid_1's multi_logloss: 0.735772\n",
      "================================================================================\n",
      "\n",
      "\n"
     ]
    }
   ],
   "source": [
    "random.seed(42)\n",
    "lgb_models={}\n",
    "for fold in range(5):\n",
    "    print(f'===================================={fold+1}============================================')\n",
    "    train_idx, valid_idx = folds[fold]\n",
    "    X_train, X_valid, y_train, y_valid = train.drop(['credit'],axis=1).iloc[train_idx].values, train.drop(['credit'],axis=1).iloc[valid_idx].values,\\\n",
    "                                         train['credit'][train_idx].values, train['credit'][valid_idx].values \n",
    "    lgb = LGBMClassifier(n_estimators=1000)\n",
    "    lgb.fit(X_train, y_train, \n",
    "            eval_set=[(X_train, y_train), (X_valid, y_valid)], \n",
    "            early_stopping_rounds=30,\n",
    "           verbose=100)\n",
    "    lgb_models[fold]=lgb\n",
    "    print(f'================================================================================\\n\\n')"
   ]
  },
  {
   "cell_type": "code",
   "execution_count": 9,
   "metadata": {},
   "outputs": [],
   "source": [
    "submit.iloc[:,1:]=0\n",
    "for fold in range(5):\n",
    "    submit.iloc[:,1:] += lgb_models[fold].predict_proba(test)/5"
   ]
  },
  {
   "cell_type": "code",
   "execution_count": 11,
   "metadata": {},
   "outputs": [
    {
     "data": {
      "text/html": [
       "<div>\n",
       "<style scoped>\n",
       "    .dataframe tbody tr th:only-of-type {\n",
       "        vertical-align: middle;\n",
       "    }\n",
       "\n",
       "    .dataframe tbody tr th {\n",
       "        vertical-align: top;\n",
       "    }\n",
       "\n",
       "    .dataframe thead th {\n",
       "        text-align: right;\n",
       "    }\n",
       "</style>\n",
       "<table border=\"1\" class=\"dataframe\">\n",
       "  <thead>\n",
       "    <tr style=\"text-align: right;\">\n",
       "      <th></th>\n",
       "      <th>index</th>\n",
       "      <th>0</th>\n",
       "      <th>1</th>\n",
       "      <th>2</th>\n",
       "    </tr>\n",
       "  </thead>\n",
       "  <tbody>\n",
       "    <tr>\n",
       "      <th>0</th>\n",
       "      <td>26457</td>\n",
       "      <td>0.053656</td>\n",
       "      <td>0.111823</td>\n",
       "      <td>0.834521</td>\n",
       "    </tr>\n",
       "    <tr>\n",
       "      <th>1</th>\n",
       "      <td>26458</td>\n",
       "      <td>0.244308</td>\n",
       "      <td>0.136086</td>\n",
       "      <td>0.619607</td>\n",
       "    </tr>\n",
       "    <tr>\n",
       "      <th>2</th>\n",
       "      <td>26459</td>\n",
       "      <td>0.040271</td>\n",
       "      <td>0.108892</td>\n",
       "      <td>0.850838</td>\n",
       "    </tr>\n",
       "    <tr>\n",
       "      <th>3</th>\n",
       "      <td>26460</td>\n",
       "      <td>0.108074</td>\n",
       "      <td>0.133723</td>\n",
       "      <td>0.758203</td>\n",
       "    </tr>\n",
       "    <tr>\n",
       "      <th>4</th>\n",
       "      <td>26461</td>\n",
       "      <td>0.099427</td>\n",
       "      <td>0.172556</td>\n",
       "      <td>0.728017</td>\n",
       "    </tr>\n",
       "    <tr>\n",
       "      <th>...</th>\n",
       "      <td>...</td>\n",
       "      <td>...</td>\n",
       "      <td>...</td>\n",
       "      <td>...</td>\n",
       "    </tr>\n",
       "    <tr>\n",
       "      <th>9995</th>\n",
       "      <td>36452</td>\n",
       "      <td>0.166874</td>\n",
       "      <td>0.207613</td>\n",
       "      <td>0.625513</td>\n",
       "    </tr>\n",
       "    <tr>\n",
       "      <th>9996</th>\n",
       "      <td>36453</td>\n",
       "      <td>0.168893</td>\n",
       "      <td>0.258311</td>\n",
       "      <td>0.572796</td>\n",
       "    </tr>\n",
       "    <tr>\n",
       "      <th>9997</th>\n",
       "      <td>36454</td>\n",
       "      <td>0.029530</td>\n",
       "      <td>0.064656</td>\n",
       "      <td>0.905814</td>\n",
       "    </tr>\n",
       "    <tr>\n",
       "      <th>9998</th>\n",
       "      <td>36455</td>\n",
       "      <td>0.085886</td>\n",
       "      <td>0.211675</td>\n",
       "      <td>0.702439</td>\n",
       "    </tr>\n",
       "    <tr>\n",
       "      <th>9999</th>\n",
       "      <td>36456</td>\n",
       "      <td>0.080031</td>\n",
       "      <td>0.248182</td>\n",
       "      <td>0.671787</td>\n",
       "    </tr>\n",
       "  </tbody>\n",
       "</table>\n",
       "<p>10000 rows × 4 columns</p>\n",
       "</div>"
      ],
      "text/plain": [
       "      index         0         1         2\n",
       "0     26457  0.053656  0.111823  0.834521\n",
       "1     26458  0.244308  0.136086  0.619607\n",
       "2     26459  0.040271  0.108892  0.850838\n",
       "3     26460  0.108074  0.133723  0.758203\n",
       "4     26461  0.099427  0.172556  0.728017\n",
       "...     ...       ...       ...       ...\n",
       "9995  36452  0.166874  0.207613  0.625513\n",
       "9996  36453  0.168893  0.258311  0.572796\n",
       "9997  36454  0.029530  0.064656  0.905814\n",
       "9998  36455  0.085886  0.211675  0.702439\n",
       "9999  36456  0.080031  0.248182  0.671787\n",
       "\n",
       "[10000 rows x 4 columns]"
      ]
     },
     "execution_count": 11,
     "metadata": {},
     "output_type": "execute_result"
    }
   ],
   "source": [
    "submit"
   ]
  },
  {
   "cell_type": "code",
   "execution_count": null,
   "metadata": {
    "executionInfo": {
     "elapsed": 708,
     "status": "ok",
     "timestamp": 1617447993881,
     "user": {
      "displayName": "youtube dacon",
      "photoUrl": "",
      "userId": "00770885000471893693"
     },
     "user_tz": -540
    },
    "id": "nlF0HUn7Sjl-"
   },
   "outputs": [],
   "source": [
    "# submit.to_csv(\"0503_LGBM_ver1.csv\", index = False)"
   ]
  }
 ],
 "metadata": {
  "colab": {
   "authorship_tag": "ABX9TyOYtTkYj21ll5RVdvP7w2Dg",
   "collapsed_sections": [],
   "mount_file_id": "1GxujCu2C6ryL1WOMuQKh_J5qQxiKb6Cf",
   "name": "Baseline.ipynb",
   "provenance": []
  },
  "kernelspec": {
   "display_name": "Python 3",
   "language": "python",
   "name": "python3"
  },
  "language_info": {
   "codemirror_mode": {
    "name": "ipython",
    "version": 3
   },
   "file_extension": ".py",
   "mimetype": "text/x-python",
   "name": "python",
   "nbconvert_exporter": "python",
   "pygments_lexer": "ipython3",
   "version": "3.8.5"
  }
 },
 "nbformat": 4,
 "nbformat_minor": 4
}
